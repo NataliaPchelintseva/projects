{
 "cells": [
  {
   "cell_type": "markdown",
   "metadata": {},
   "source": [
    "# Исследование объявлений о продаже квартир\n",
    "\n",
    "В вашем распоряжении данные сервиса Яндекс.Недвижимость — архив объявлений о продаже квартир в Санкт-Петербурге и соседних населённых пунктах за несколько лет. Нужно научиться определять рыночную стоимость объектов недвижимости. Ваша задача — установить параметры. Это позволит построить автоматизированную систему: она отследит аномалии и мошенническую деятельность. \n",
    "\n",
    "По каждой квартире на продажу доступны два вида данных. Первые вписаны пользователем, вторые получены автоматически на основе картографических данных. Например, расстояние до центра, аэропорта, ближайшего парка и водоёма. "
   ]
  },
  {
   "cell_type": "markdown",
   "metadata": {
    "toc": true
   },
   "source": [
    "<h1>Содержание<span class=\"tocSkip\"></span></h1>\n",
    "<div class=\"toc\"><ul class=\"toc-item\"><li><span><a href=\"#Изучение-данных-из-файла\" data-toc-modified-id=\"Изучение-данных-из-файла-1\"><span class=\"toc-item-num\">1&nbsp;&nbsp;</span>Изучение данных из файла</a></span><ul class=\"toc-item\"><li><span><a href=\"#Вывод\" data-toc-modified-id=\"Вывод-1.1\"><span class=\"toc-item-num\">1.1&nbsp;&nbsp;</span>Вывод</a></span></li></ul></li><li><span><a href=\"#Предобработка-данных\" data-toc-modified-id=\"Предобработка-данных-2\"><span class=\"toc-item-num\">2&nbsp;&nbsp;</span>Предобработка данных</a></span><ul class=\"toc-item\"><li><span><a href=\"#Работа-с-пропущенными-значениями\" data-toc-modified-id=\"Работа-с-пропущенными-значениями-2.1\"><span class=\"toc-item-num\">2.1&nbsp;&nbsp;</span>Работа с пропущенными значениями</a></span></li><li><span><a href=\"#Изменение-типов-данных\" data-toc-modified-id=\"Изменение-типов-данных-2.2\"><span class=\"toc-item-num\">2.2&nbsp;&nbsp;</span>Изменение типов данных</a></span></li><li><span><a href=\"#Вывод\" data-toc-modified-id=\"Вывод-2.3\"><span class=\"toc-item-num\">2.3&nbsp;&nbsp;</span>Вывод</a></span></li></ul></li><li><span><a href=\"#Расчёты-и-добавление-результатов-в-таблицу\" data-toc-modified-id=\"Расчёты-и-добавление-результатов-в-таблицу-3\"><span class=\"toc-item-num\">3&nbsp;&nbsp;</span>Расчёты и добавление результатов в таблицу</a></span><ul class=\"toc-item\"><li><span><a href=\"#Вывод\" data-toc-modified-id=\"Вывод-3.1\"><span class=\"toc-item-num\">3.1&nbsp;&nbsp;</span>Вывод</a></span></li></ul></li><li><span><a href=\"#Исследовательский-анализ-данных\" data-toc-modified-id=\"Исследовательский-анализ-данных-4\"><span class=\"toc-item-num\">4&nbsp;&nbsp;</span>Исследовательский анализ данных</a></span><ul class=\"toc-item\"><li><span><a href=\"#Изучение-параметров:-площадь,-цена,-количество-комнат,-высота-потолков.\" data-toc-modified-id=\"Изучение-параметров:-площадь,-цена,-количество-комнат,-высота-потолков.-4.1\"><span class=\"toc-item-num\">4.1&nbsp;&nbsp;</span>Изучение параметров: площадь, цена, количество комнат, высота потолков.</a></span><ul class=\"toc-item\"><li><span><a href=\"#Вывод\" data-toc-modified-id=\"Вывод-4.1.1\"><span class=\"toc-item-num\">4.1.1&nbsp;&nbsp;</span>Вывод</a></span></li></ul></li><li><span><a href=\"#Изучение-времени-продажи-квартиры\" data-toc-modified-id=\"Изучение-времени-продажи-квартиры-4.2\"><span class=\"toc-item-num\">4.2&nbsp;&nbsp;</span>Изучение времени продажи квартиры</a></span><ul class=\"toc-item\"><li><span><a href=\"#Вывод\" data-toc-modified-id=\"Вывод-4.2.1\"><span class=\"toc-item-num\">4.2.1&nbsp;&nbsp;</span>Вывод</a></span></li></ul></li><li><span><a href=\"#Удаление-редких-и-выбивающихся-значений\" data-toc-modified-id=\"Удаление-редких-и-выбивающихся-значений-4.3\"><span class=\"toc-item-num\">4.3&nbsp;&nbsp;</span>Удаление редких и выбивающихся значений</a></span><ul class=\"toc-item\"><li><span><a href=\"#Вывод\" data-toc-modified-id=\"Вывод-4.3.1\"><span class=\"toc-item-num\">4.3.1&nbsp;&nbsp;</span>Вывод</a></span></li></ul></li><li><span><a href=\"#Исследование-факторов,--влияющих-на-стоимость-квартиры\" data-toc-modified-id=\"Исследование-факторов,--влияющих-на-стоимость-квартиры-4.4\"><span class=\"toc-item-num\">4.4&nbsp;&nbsp;</span>Исследование факторов,  влияющих на стоимость квартиры</a></span><ul class=\"toc-item\"><li><span><a href=\"#Вывод\" data-toc-modified-id=\"Вывод-4.4.1\"><span class=\"toc-item-num\">4.4.1&nbsp;&nbsp;</span>Вывод</a></span></li></ul></li><li><span><a href=\"#Анализ-десяти-населенных-пунктов-с-наибольшим-числом-обьявлений\" data-toc-modified-id=\"Анализ-десяти-населенных-пунктов-с-наибольшим-числом-обьявлений-4.5\"><span class=\"toc-item-num\">4.5&nbsp;&nbsp;</span>Анализ десяти населенных пунктов с наибольшим числом обьявлений</a></span><ul class=\"toc-item\"><li><span><a href=\"#Вывод\" data-toc-modified-id=\"Вывод-4.5.1\"><span class=\"toc-item-num\">4.5.1&nbsp;&nbsp;</span>Вывод</a></span></li></ul></li><li><span><a href=\"#Анализ-изменения-цены-по-степени-удаленности-от-центра\" data-toc-modified-id=\"Анализ-изменения-цены-по-степени-удаленности-от-центра-4.6\"><span class=\"toc-item-num\">4.6&nbsp;&nbsp;</span>Анализ изменения цены по степени удаленности от центра</a></span><ul class=\"toc-item\"><li><span><a href=\"#Вывод\" data-toc-modified-id=\"Вывод-4.6.1\"><span class=\"toc-item-num\">4.6.1&nbsp;&nbsp;</span>Вывод</a></span></li></ul></li><li><span><a href=\"#Сравнение-выводов-по-квартирам-в-центре-и-общих-выводов-по-всему-городу\" data-toc-modified-id=\"Сравнение-выводов-по-квартирам-в-центре-и-общих-выводов-по-всему-городу-4.7\"><span class=\"toc-item-num\">4.7&nbsp;&nbsp;</span>Сравнение выводов по квартирам в центре и общих выводов по всему городу</a></span><ul class=\"toc-item\"><li><span><a href=\"#Вывод\" data-toc-modified-id=\"Вывод-4.7.1\"><span class=\"toc-item-num\">4.7.1&nbsp;&nbsp;</span>Вывод</a></span></li></ul></li></ul></li><li><span><a href=\"#Общий-вывод\" data-toc-modified-id=\"Общий-вывод-5\"><span class=\"toc-item-num\">5&nbsp;&nbsp;</span>Общий вывод</a></span></li></ul></div>"
   ]
  },
  {
   "cell_type": "markdown",
   "metadata": {},
   "source": [
    "## Изучение данных из файла"
   ]
  },
  {
   "cell_type": "code",
   "execution_count": 1,
   "metadata": {},
   "outputs": [
    {
     "data": {
      "text/html": [
       "<div>\n",
       "<style scoped>\n",
       "    .dataframe tbody tr th:only-of-type {\n",
       "        vertical-align: middle;\n",
       "    }\n",
       "\n",
       "    .dataframe tbody tr th {\n",
       "        vertical-align: top;\n",
       "    }\n",
       "\n",
       "    .dataframe thead th {\n",
       "        text-align: right;\n",
       "    }\n",
       "</style>\n",
       "<table border=\"1\" class=\"dataframe\">\n",
       "  <thead>\n",
       "    <tr style=\"text-align: right;\">\n",
       "      <th></th>\n",
       "      <th>total_images</th>\n",
       "      <th>last_price</th>\n",
       "      <th>total_area</th>\n",
       "      <th>first_day_exposition</th>\n",
       "      <th>rooms</th>\n",
       "      <th>ceiling_height</th>\n",
       "      <th>floors_total</th>\n",
       "      <th>living_area</th>\n",
       "      <th>floor</th>\n",
       "      <th>is_apartment</th>\n",
       "      <th>...</th>\n",
       "      <th>kitchen_area</th>\n",
       "      <th>balcony</th>\n",
       "      <th>locality_name</th>\n",
       "      <th>airports_nearest</th>\n",
       "      <th>cityCenters_nearest</th>\n",
       "      <th>parks_around3000</th>\n",
       "      <th>parks_nearest</th>\n",
       "      <th>ponds_around3000</th>\n",
       "      <th>ponds_nearest</th>\n",
       "      <th>days_exposition</th>\n",
       "    </tr>\n",
       "  </thead>\n",
       "  <tbody>\n",
       "    <tr>\n",
       "      <td>0</td>\n",
       "      <td>20</td>\n",
       "      <td>13000000.0</td>\n",
       "      <td>108.0</td>\n",
       "      <td>2019-03-07T00:00:00</td>\n",
       "      <td>3</td>\n",
       "      <td>2.70</td>\n",
       "      <td>16.0</td>\n",
       "      <td>51.0</td>\n",
       "      <td>8</td>\n",
       "      <td>NaN</td>\n",
       "      <td>...</td>\n",
       "      <td>25.0</td>\n",
       "      <td>NaN</td>\n",
       "      <td>Санкт-Петербург</td>\n",
       "      <td>18863.0</td>\n",
       "      <td>16028.0</td>\n",
       "      <td>1.0</td>\n",
       "      <td>482.0</td>\n",
       "      <td>2.0</td>\n",
       "      <td>755.0</td>\n",
       "      <td>NaN</td>\n",
       "    </tr>\n",
       "    <tr>\n",
       "      <td>1</td>\n",
       "      <td>7</td>\n",
       "      <td>3350000.0</td>\n",
       "      <td>40.4</td>\n",
       "      <td>2018-12-04T00:00:00</td>\n",
       "      <td>1</td>\n",
       "      <td>NaN</td>\n",
       "      <td>11.0</td>\n",
       "      <td>18.6</td>\n",
       "      <td>1</td>\n",
       "      <td>NaN</td>\n",
       "      <td>...</td>\n",
       "      <td>11.0</td>\n",
       "      <td>2.0</td>\n",
       "      <td>посёлок Шушары</td>\n",
       "      <td>12817.0</td>\n",
       "      <td>18603.0</td>\n",
       "      <td>0.0</td>\n",
       "      <td>NaN</td>\n",
       "      <td>0.0</td>\n",
       "      <td>NaN</td>\n",
       "      <td>81.0</td>\n",
       "    </tr>\n",
       "    <tr>\n",
       "      <td>2</td>\n",
       "      <td>10</td>\n",
       "      <td>5196000.0</td>\n",
       "      <td>56.0</td>\n",
       "      <td>2015-08-20T00:00:00</td>\n",
       "      <td>2</td>\n",
       "      <td>NaN</td>\n",
       "      <td>5.0</td>\n",
       "      <td>34.3</td>\n",
       "      <td>4</td>\n",
       "      <td>NaN</td>\n",
       "      <td>...</td>\n",
       "      <td>8.3</td>\n",
       "      <td>0.0</td>\n",
       "      <td>Санкт-Петербург</td>\n",
       "      <td>21741.0</td>\n",
       "      <td>13933.0</td>\n",
       "      <td>1.0</td>\n",
       "      <td>90.0</td>\n",
       "      <td>2.0</td>\n",
       "      <td>574.0</td>\n",
       "      <td>558.0</td>\n",
       "    </tr>\n",
       "    <tr>\n",
       "      <td>3</td>\n",
       "      <td>0</td>\n",
       "      <td>64900000.0</td>\n",
       "      <td>159.0</td>\n",
       "      <td>2015-07-24T00:00:00</td>\n",
       "      <td>3</td>\n",
       "      <td>NaN</td>\n",
       "      <td>14.0</td>\n",
       "      <td>NaN</td>\n",
       "      <td>9</td>\n",
       "      <td>NaN</td>\n",
       "      <td>...</td>\n",
       "      <td>NaN</td>\n",
       "      <td>0.0</td>\n",
       "      <td>Санкт-Петербург</td>\n",
       "      <td>28098.0</td>\n",
       "      <td>6800.0</td>\n",
       "      <td>2.0</td>\n",
       "      <td>84.0</td>\n",
       "      <td>3.0</td>\n",
       "      <td>234.0</td>\n",
       "      <td>424.0</td>\n",
       "    </tr>\n",
       "    <tr>\n",
       "      <td>4</td>\n",
       "      <td>2</td>\n",
       "      <td>10000000.0</td>\n",
       "      <td>100.0</td>\n",
       "      <td>2018-06-19T00:00:00</td>\n",
       "      <td>2</td>\n",
       "      <td>3.03</td>\n",
       "      <td>14.0</td>\n",
       "      <td>32.0</td>\n",
       "      <td>13</td>\n",
       "      <td>NaN</td>\n",
       "      <td>...</td>\n",
       "      <td>41.0</td>\n",
       "      <td>NaN</td>\n",
       "      <td>Санкт-Петербург</td>\n",
       "      <td>31856.0</td>\n",
       "      <td>8098.0</td>\n",
       "      <td>2.0</td>\n",
       "      <td>112.0</td>\n",
       "      <td>1.0</td>\n",
       "      <td>48.0</td>\n",
       "      <td>121.0</td>\n",
       "    </tr>\n",
       "  </tbody>\n",
       "</table>\n",
       "<p>5 rows × 22 columns</p>\n",
       "</div>"
      ],
      "text/plain": [
       "   total_images  last_price  total_area first_day_exposition  rooms  \\\n",
       "0            20  13000000.0       108.0  2019-03-07T00:00:00      3   \n",
       "1             7   3350000.0        40.4  2018-12-04T00:00:00      1   \n",
       "2            10   5196000.0        56.0  2015-08-20T00:00:00      2   \n",
       "3             0  64900000.0       159.0  2015-07-24T00:00:00      3   \n",
       "4             2  10000000.0       100.0  2018-06-19T00:00:00      2   \n",
       "\n",
       "   ceiling_height  floors_total  living_area  floor is_apartment  ...  \\\n",
       "0            2.70          16.0         51.0      8          NaN  ...   \n",
       "1             NaN          11.0         18.6      1          NaN  ...   \n",
       "2             NaN           5.0         34.3      4          NaN  ...   \n",
       "3             NaN          14.0          NaN      9          NaN  ...   \n",
       "4            3.03          14.0         32.0     13          NaN  ...   \n",
       "\n",
       "   kitchen_area  balcony    locality_name  airports_nearest  \\\n",
       "0          25.0      NaN  Санкт-Петербург           18863.0   \n",
       "1          11.0      2.0   посёлок Шушары           12817.0   \n",
       "2           8.3      0.0  Санкт-Петербург           21741.0   \n",
       "3           NaN      0.0  Санкт-Петербург           28098.0   \n",
       "4          41.0      NaN  Санкт-Петербург           31856.0   \n",
       "\n",
       "  cityCenters_nearest  parks_around3000  parks_nearest  ponds_around3000  \\\n",
       "0             16028.0               1.0          482.0               2.0   \n",
       "1             18603.0               0.0            NaN               0.0   \n",
       "2             13933.0               1.0           90.0               2.0   \n",
       "3              6800.0               2.0           84.0               3.0   \n",
       "4              8098.0               2.0          112.0               1.0   \n",
       "\n",
       "   ponds_nearest  days_exposition  \n",
       "0          755.0              NaN  \n",
       "1            NaN             81.0  \n",
       "2          574.0            558.0  \n",
       "3          234.0            424.0  \n",
       "4           48.0            121.0  \n",
       "\n",
       "[5 rows x 22 columns]"
      ]
     },
     "metadata": {},
     "output_type": "display_data"
    },
    {
     "name": "stdout",
     "output_type": "stream",
     "text": [
      "<class 'pandas.core.frame.DataFrame'>\n",
      "RangeIndex: 23699 entries, 0 to 23698\n",
      "Data columns (total 22 columns):\n",
      "total_images            23699 non-null int64\n",
      "last_price              23699 non-null float64\n",
      "total_area              23699 non-null float64\n",
      "first_day_exposition    23699 non-null object\n",
      "rooms                   23699 non-null int64\n",
      "ceiling_height          14504 non-null float64\n",
      "floors_total            23613 non-null float64\n",
      "living_area             21796 non-null float64\n",
      "floor                   23699 non-null int64\n",
      "is_apartment            2775 non-null object\n",
      "studio                  23699 non-null bool\n",
      "open_plan               23699 non-null bool\n",
      "kitchen_area            21421 non-null float64\n",
      "balcony                 12180 non-null float64\n",
      "locality_name           23650 non-null object\n",
      "airports_nearest        18157 non-null float64\n",
      "cityCenters_nearest     18180 non-null float64\n",
      "parks_around3000        18181 non-null float64\n",
      "parks_nearest           8079 non-null float64\n",
      "ponds_around3000        18181 non-null float64\n",
      "ponds_nearest           9110 non-null float64\n",
      "days_exposition         20518 non-null float64\n",
      "dtypes: bool(2), float64(14), int64(3), object(3)\n",
      "memory usage: 3.7+ MB\n"
     ]
    }
   ],
   "source": [
    "import pandas as pd\n",
    "data=pd.read_csv('/datasets/real_estate_data.csv', sep='\\t')\n",
    "display(data.head())\n",
    "data.info()\n",
    "\n",
    "import warnings # Отключаю предупреждения, они меня нервируют)\n",
    "warnings.filterwarnings('ignore')"
   ]
  },
  {
   "cell_type": "markdown",
   "metadata": {},
   "source": [
    "### Вывод\n",
    "Названия столбцов в порядке. Пропущенные значения по 13 столбцам из 22. Некоторые выглядят вполне логично, например, в столбце по балконам и водоемам поблизости ноль вполне понятен. С некоторыми придется разбираться."
   ]
  },
  {
   "cell_type": "markdown",
   "metadata": {},
   "source": [
    "## Предобработка данных"
   ]
  },
  {
   "cell_type": "markdown",
   "metadata": {},
   "source": [
    "### Работа с пропущенными значениями"
   ]
  },
  {
   "cell_type": "code",
   "execution_count": 2,
   "metadata": {},
   "outputs": [
    {
     "name": "stdout",
     "output_type": "stream",
     "text": [
      "Пропуски апартаменты до: 20924\n",
      "Пропуски апартаменты после: 0\n",
      "Пропуски балконы до: 11519\n",
      "Пропуски балконы после: 0\n",
      "Пропуски высота потолков до: 9195\n",
      "Пропуски высота потолков после: 0\n",
      "Пропуски жилая площадь до: 1903\n",
      "Пропуски жилая площадь после: 0\n",
      "Пропуски площадь кухни до: 2278\n",
      "Пропуски площадь кухни после: 197\n",
      "Пропуски площадь кухни после_2: 0\n",
      "Пропуски населенный пункт до: 49\n",
      "Пропуски населенный пункт после: 0\n",
      "Пропуски ближайший аэропорт до: 5534\n",
      "Пропуски расстояние до центра до: 5511\n",
      "Пропуски парки в радиусе 3 км до: 5510\n",
      "Пропуски расстояние до парка до: 15586\n",
      "Пропуски водоемы в радиусе 3 км до: 5510\n",
      "Пропуски расстояние до водоема до: 14565\n",
      "Пропуски ближайший аэропорт после: 5386\n",
      "Пропуски расстояние до центра после: 5386\n",
      "Пропуски парки в радиусе 3 км после: 5386\n",
      "Пропуски расстояние до парка после: 5998\n",
      "Пропуски водоемы в радиусе 3 км после: 5386\n",
      "Пропуски расстояние до водоема после: 5494\n",
      "Пропуски ближайший аэропорт после2: 0\n",
      "Пропуски расстояние до центра после2: 0\n",
      "Пропуски парки в радиусе 3 км после2: 0\n",
      "Пропуски расстояние до парка после2: 0\n",
      "Пропуски водоемы в радиусе 3 км после2: 0\n",
      "Пропуски расстояние до водоема после2: 0\n"
     ]
    }
   ],
   "source": [
    "#Заменяю пропуски в столбце is_apartment на False.\n",
    "print('Пропуски апартаменты до:', data['is_apartment'].isna().sum())\n",
    "data['is_apartment'] = data['is_apartment'].fillna(False)\n",
    "print('Пропуски апартаменты после:', data['is_apartment'].isna().sum())\n",
    "\n",
    "#Заменяю пропуски в столбце balcony на 0.\n",
    "print('Пропуски балконы до:', data['balcony'].isna().sum())\n",
    "data['balcony'] = data['balcony'].fillna(0)\n",
    "print('Пропуски балконы после:', data['balcony'].isna().sum())\n",
    "\n",
    "#Заменяю пропуски в столбце ceiling_height, медианным значением, поскольку разброс тут явно не большой \n",
    "# в соответсвии со строительными стандартами.\n",
    "print('Пропуски высота потолков до:', data['ceiling_height'].isna().sum())\n",
    "data.loc[data['ceiling_height'].isna(), 'ceiling_height'] = data['ceiling_height'].median()\n",
    "print('Пропуски высота потолков после:', data['ceiling_height'].isna().sum())\n",
    "\n",
    "# Пропуски в столбцах площадей заполняю медианой с группировкой по числу комнат методом loc().\n",
    "print('Пропуски жилая площадь до:', data['living_area'].isna().sum())\n",
    "for rooms in data['rooms'].unique():\n",
    "    median = data.loc[data['rooms'] == rooms, 'living_area'].median()\n",
    "    data.loc[(data['living_area'].isna()) & (data['rooms'] == rooms), 'living_area'] = median\n",
    "print('Пропуски жилая площадь после:', data['living_area'].isna().sum())\n",
    "\n",
    "print('Пропуски площадь кухни до:', data['kitchen_area'].isna().sum())\n",
    "for rooms in data['rooms'].unique():\n",
    "    median = data.loc[data['rooms'] == rooms, 'kitchen_area'].median()\n",
    "    data.loc[(data['kitchen_area'].isna()) & (data['rooms'] == rooms), 'kitchen_area'] = median\n",
    "print('Пропуски площадь кухни после:', data['kitchen_area'].isna().sum())\n",
    "#У студий нет площади кухни, поэтому оставшиеся пропуски заменяю на 0.\n",
    "data['kitchen_area'] = data['kitchen_area'].fillna(0)\n",
    "print('Пропуски площадь кухни после_2:', data['kitchen_area'].isna().sum())\n",
    "\n",
    "# Пропуски в столбце locality_name удаляю, поскольку их значение незначительно.\n",
    "print('Пропуски населенный пункт до:', data['locality_name'].isna().sum())\n",
    "data.dropna(subset = ['locality_name'], inplace = True)\n",
    "print('Пропуски населенный пункт после:',data['locality_name'].isna().sum())\n",
    "\n",
    "# Пропуски в картографических данных заменяю медианой по населенному пункту.\n",
    "print('Пропуски ближайший аэропорт до:', data['airports_nearest'].isna().sum())\n",
    "print('Пропуски расстояние до центра до:', data['cityCenters_nearest'].isna().sum())\n",
    "print('Пропуски парки в радиусе 3 км до:', data['parks_around3000'].isna().sum())\n",
    "print('Пропуски расстояние до парка до:', data['parks_nearest'].isna().sum())\n",
    "print('Пропуски водоемы в радиусе 3 км до:', data['ponds_around3000'].isna().sum())\n",
    "print('Пропуски расстояние до водоема до:', data['ponds_nearest'].isna().sum())\n",
    "\n",
    "nearest = ['airports_nearest', 'cityCenters_nearest', 'parks_around3000','parks_nearest', 'ponds_around3000', 'ponds_nearest']\n",
    "\n",
    "for column in nearest:\n",
    "    for locality in data['locality_name'].unique():\n",
    "        median = data.loc[data['locality_name'] == locality, column].median()\n",
    "        data.loc[(data[column].isna()) & (data['locality_name'] == locality), column] = median\n",
    "\n",
    "print('Пропуски ближайший аэропорт после:', data['airports_nearest'].isna().sum())\n",
    "print('Пропуски расстояние до центра после:', data['cityCenters_nearest'].isna().sum())\n",
    "print('Пропуски парки в радиусе 3 км после:', data['parks_around3000'].isna().sum())\n",
    "print('Пропуски расстояние до парка после:', data['parks_nearest'].isna().sum())\n",
    "print('Пропуски водоемы в радиусе 3 км после:', data['ponds_around3000'].isna().sum())\n",
    "print('Пропуски расстояние до водоема после:', data['ponds_nearest'].isna().sum())\n",
    "\n",
    "# Помогло мало, поэтому оставшиеся пропуски заменяю медианой по всему столбцу.\n",
    "for column in nearest:\n",
    "    data.loc[data[column].isna(), column] = data[column].median()\n",
    "  \n",
    "print('Пропуски ближайший аэропорт после2:', data['airports_nearest'].isna().sum())\n",
    "print('Пропуски расстояние до центра после2:', data['cityCenters_nearest'].isna().sum())\n",
    "print('Пропуски парки в радиусе 3 км после2:', data['parks_around3000'].isna().sum())\n",
    "print('Пропуски расстояние до парка после2:', data['parks_nearest'].isna().sum())\n",
    "print('Пропуски водоемы в радиусе 3 км после2:', data['ponds_around3000'].isna().sum())\n",
    "print('Пропуски расстояние до водоема после2:', data['ponds_nearest'].isna().sum())"
   ]
  },
  {
   "cell_type": "markdown",
   "metadata": {},
   "source": [
    "### Изменение типов данных"
   ]
  },
  {
   "cell_type": "code",
   "execution_count": 3,
   "metadata": {},
   "outputs": [
    {
     "name": "stdout",
     "output_type": "stream",
     "text": [
      "datetime64[ns]\n",
      "int64\n",
      "Дубликатов в таблице 0\n"
     ]
    }
   ],
   "source": [
    "data.dtypes # Смотрим типы данных. Явно в столбце first_day_exposition должен быть тип данных datetime, а не object, \n",
    "# иначе работать с датами будет невозможно.\n",
    "# В столбцах floors_total, balcony, days_exposition логично будет поменять тип с вещественного на целочисленные значения.\n",
    "#!!!! Объяснение про days_exposition\n",
    "# Меняю только балконы, потому что именно эти данные понадобятся для расчетов, и в этом столбце обработаны пропуски.\n",
    "data['first_day_exposition'] = pd.to_datetime(data['first_day_exposition'])\n",
    "data['balcony'] = data['balcony'].astype('int')\n",
    "print(data['first_day_exposition'].dtypes)\n",
    "print(data['balcony'].dtypes)\n",
    "\n",
    "print ('Дубликатов в таблице', data.duplicated().sum()) # Проверяю на наличие явных дубликатов\n"
   ]
  },
  {
   "cell_type": "markdown",
   "metadata": {},
   "source": [
    "### Вывод\n",
    "В таблице заменены пропуски почти по всем значениям, исключениями стали столбцы, которые не понадобятся для дальнейших расчетов.\n",
    "Пропуски в столбце is_apartment заменены на False, поскольку владельцы квартир не указывали ничего в этой графе.\n",
    "Пропуски в столбце balcony заменены на 0, поскольку владельцы не указывали ничего в этой графе, если балкона нет.\n",
    "Пропуски в столбце locality_name удалены, их было очень мало и взять значения неоткуда. Возможно, данные потерялись при выгрузке.\n",
    "Остальные пропуски заменены на медианные значения, по возможности с группировкой по данным в других столбцах.\n",
    "Типы данных изменены в подходящие для работы методами to_datetime() и astype()."
   ]
  },
  {
   "cell_type": "markdown",
   "metadata": {},
   "source": [
    "## Расчёты и добавление результатов в таблицу"
   ]
  },
  {
   "cell_type": "code",
   "execution_count": 4,
   "metadata": {},
   "outputs": [
    {
     "data": {
      "text/html": [
       "<div>\n",
       "<style scoped>\n",
       "    .dataframe tbody tr th:only-of-type {\n",
       "        vertical-align: middle;\n",
       "    }\n",
       "\n",
       "    .dataframe tbody tr th {\n",
       "        vertical-align: top;\n",
       "    }\n",
       "\n",
       "    .dataframe thead th {\n",
       "        text-align: right;\n",
       "    }\n",
       "</style>\n",
       "<table border=\"1\" class=\"dataframe\">\n",
       "  <thead>\n",
       "    <tr style=\"text-align: right;\">\n",
       "      <th></th>\n",
       "      <th>total_images</th>\n",
       "      <th>last_price</th>\n",
       "      <th>total_area</th>\n",
       "      <th>first_day_exposition</th>\n",
       "      <th>rooms</th>\n",
       "      <th>ceiling_height</th>\n",
       "      <th>floors_total</th>\n",
       "      <th>living_area</th>\n",
       "      <th>floor</th>\n",
       "      <th>is_apartment</th>\n",
       "      <th>...</th>\n",
       "      <th>ponds_around3000</th>\n",
       "      <th>ponds_nearest</th>\n",
       "      <th>days_exposition</th>\n",
       "      <th>price_m2</th>\n",
       "      <th>weekday</th>\n",
       "      <th>month</th>\n",
       "      <th>year</th>\n",
       "      <th>floor_category</th>\n",
       "      <th>ratio_living_area</th>\n",
       "      <th>ratio_kitchen_area</th>\n",
       "    </tr>\n",
       "  </thead>\n",
       "  <tbody>\n",
       "    <tr>\n",
       "      <td>0</td>\n",
       "      <td>20</td>\n",
       "      <td>13000000.0</td>\n",
       "      <td>108.0</td>\n",
       "      <td>2019-03-07</td>\n",
       "      <td>3</td>\n",
       "      <td>2.70</td>\n",
       "      <td>16.0</td>\n",
       "      <td>51.0</td>\n",
       "      <td>8</td>\n",
       "      <td>False</td>\n",
       "      <td>...</td>\n",
       "      <td>2.0</td>\n",
       "      <td>755.0</td>\n",
       "      <td>NaN</td>\n",
       "      <td>120370.370370</td>\n",
       "      <td>3</td>\n",
       "      <td>3</td>\n",
       "      <td>2019</td>\n",
       "      <td>другой</td>\n",
       "      <td>47.22%</td>\n",
       "      <td>23.15%</td>\n",
       "    </tr>\n",
       "    <tr>\n",
       "      <td>1</td>\n",
       "      <td>7</td>\n",
       "      <td>3350000.0</td>\n",
       "      <td>40.4</td>\n",
       "      <td>2018-12-04</td>\n",
       "      <td>1</td>\n",
       "      <td>2.65</td>\n",
       "      <td>11.0</td>\n",
       "      <td>18.6</td>\n",
       "      <td>1</td>\n",
       "      <td>False</td>\n",
       "      <td>...</td>\n",
       "      <td>0.0</td>\n",
       "      <td>584.5</td>\n",
       "      <td>81.0</td>\n",
       "      <td>82920.792079</td>\n",
       "      <td>1</td>\n",
       "      <td>12</td>\n",
       "      <td>2018</td>\n",
       "      <td>первый</td>\n",
       "      <td>46.04%</td>\n",
       "      <td>27.23%</td>\n",
       "    </tr>\n",
       "    <tr>\n",
       "      <td>2</td>\n",
       "      <td>10</td>\n",
       "      <td>5196000.0</td>\n",
       "      <td>56.0</td>\n",
       "      <td>2015-08-20</td>\n",
       "      <td>2</td>\n",
       "      <td>2.65</td>\n",
       "      <td>5.0</td>\n",
       "      <td>34.3</td>\n",
       "      <td>4</td>\n",
       "      <td>False</td>\n",
       "      <td>...</td>\n",
       "      <td>2.0</td>\n",
       "      <td>574.0</td>\n",
       "      <td>558.0</td>\n",
       "      <td>92785.714286</td>\n",
       "      <td>3</td>\n",
       "      <td>8</td>\n",
       "      <td>2015</td>\n",
       "      <td>другой</td>\n",
       "      <td>61.25%</td>\n",
       "      <td>14.82%</td>\n",
       "    </tr>\n",
       "  </tbody>\n",
       "</table>\n",
       "<p>3 rows × 29 columns</p>\n",
       "</div>"
      ],
      "text/plain": [
       "   total_images  last_price  total_area first_day_exposition  rooms  \\\n",
       "0            20  13000000.0       108.0           2019-03-07      3   \n",
       "1             7   3350000.0        40.4           2018-12-04      1   \n",
       "2            10   5196000.0        56.0           2015-08-20      2   \n",
       "\n",
       "   ceiling_height  floors_total  living_area  floor  is_apartment  ...  \\\n",
       "0            2.70          16.0         51.0      8         False  ...   \n",
       "1            2.65          11.0         18.6      1         False  ...   \n",
       "2            2.65           5.0         34.3      4         False  ...   \n",
       "\n",
       "   ponds_around3000  ponds_nearest  days_exposition       price_m2 weekday  \\\n",
       "0               2.0          755.0              NaN  120370.370370       3   \n",
       "1               0.0          584.5             81.0   82920.792079       1   \n",
       "2               2.0          574.0            558.0   92785.714286       3   \n",
       "\n",
       "   month  year  floor_category  ratio_living_area  ratio_kitchen_area  \n",
       "0      3  2019          другой             47.22%              23.15%  \n",
       "1     12  2018          первый             46.04%              27.23%  \n",
       "2      8  2015          другой             61.25%              14.82%  \n",
       "\n",
       "[3 rows x 29 columns]"
      ]
     },
     "metadata": {},
     "output_type": "display_data"
    }
   ],
   "source": [
    "# Добавляю в таблицу цену квадратного метра.\n",
    "data['price_m2'] = data['last_price'] / data['total_area']\n",
    "\n",
    "# Добавляю в таблицу новые столбцы с номером дня недели, месяцем и годом публицации объявления.\n",
    "data['weekday'] = data['first_day_exposition'].dt.weekday\n",
    "data['month'] = data['first_day_exposition'].dt.month\n",
    "data['year'] = data['first_day_exposition'].dt.year\n",
    "\n",
    "# Добавляю в таблицу столбец с этажом квартиры.\n",
    "def floor_category(row):\n",
    "    if row['floor'] == 1:\n",
    "        return 'первый'\n",
    "    if row['floor'] == row ['floors_total']:\n",
    "        return 'последний'\n",
    "    return 'другой'\n",
    "\n",
    "data['floor_category'] = data.apply(floor_category, axis = 1)\n",
    "\n",
    "# Добавляю в таблицу столбцы с данными по соотношению жилой и общей площади, отношение площади кухни к общей.\n",
    "data['ratio_living_area'] = (data['living_area'] / data['total_area']).map('{:,.2%}'.format)\n",
    "data['ratio_kitchen_area'] = (data['kitchen_area'] / data['total_area']).map('{:,.2%}'.format)\n",
    "\n",
    "display(data.head(3))\n"
   ]
  },
  {
   "cell_type": "markdown",
   "metadata": {},
   "source": [
    "### Вывод"
   ]
  },
  {
   "cell_type": "markdown",
   "metadata": {},
   "source": [
    "Добавлены необходимые для последующего анализа новые столбцы. Выполнены расчеты, столбцы заполнены значениями."
   ]
  },
  {
   "cell_type": "markdown",
   "metadata": {},
   "source": [
    "## Исследовательский анализ данных"
   ]
  },
  {
   "cell_type": "markdown",
   "metadata": {},
   "source": [
    "###  Изучение параметров: площадь, цена, количество комнат, высота потолков."
   ]
  },
  {
   "cell_type": "code",
   "execution_count": 5,
   "metadata": {
    "scrolled": false
   },
   "outputs": [
    {
     "data": {
      "image/png": "[encoded data removed]",
      "text/plain": [
       "<Figure size 432x288 with 1 Axes>"
      ]
     },
     "metadata": {
      "needs_background": "light"
     },
     "output_type": "display_data"
    },
    {
     "name": "stdout",
     "output_type": "stream",
     "text": [
      "Границы интервала наиболее вероятных значений площади: -4.550000000000004 114.25\n"
     ]
    },
    {
     "data": {
      "image/png": "[encoded data removed]",
      "text/plain": [
       "<Figure size 432x288 with 1 Axes>"
      ]
     },
     "metadata": {
      "needs_background": "light"
     },
     "output_type": "display_data"
    },
    {
     "name": "stdout",
     "output_type": "stream",
     "text": [
      "Минимальное значение: 12190.0\n",
      "Максимальное значение: 763000000.0\n",
      "Медианное значение: 4650000.0\n",
      "Среднее значение: 6541126.897928119\n",
      "Границы интервала наиболее вероятных значений цены: -1698500.0 11897500.0\n"
     ]
    },
    {
     "data": {
      "image/png": "[encoded data removed]",
      "text/plain": [
       "<Figure size 432x288 with 1 Axes>"
      ]
     },
     "metadata": {
      "needs_background": "light"
     },
     "output_type": "display_data"
    },
    {
     "name": "stdout",
     "output_type": "stream",
     "text": [
      "Границы интервала наиболее вероятных значений комнат: -2.0 6.0\n"
     ]
    },
    {
     "data": {
      "image/png": "[encoded data removed]",
      "text/plain": [
       "<Figure size 432x288 with 1 Axes>"
      ]
     },
     "metadata": {
      "needs_background": "light"
     },
     "output_type": "display_data"
    },
    {
     "name": "stdout",
     "output_type": "stream",
     "text": [
      "Границы интервала наиболее вероятных значений высоты потолков: 2.45 2.8500000000000005\n"
     ]
    }
   ],
   "source": [
    "import matplotlib.pyplot as plt # Строим гистограммы по параметрам: площадь, цена, количество комнат, высота потолков.\n",
    "\n",
    "data.plot(kind='hist', bins=100, y='total_area', title='Общая площадь квартир', legend=True)# Строим гистограмму по площади.\n",
    "plt.xlabel('Общая площадь, м2')\n",
    "plt.ylabel('Количество, шт.')\n",
    "plt.show()\n",
    "data['total_area'].describe() # Судя по гистограмме пик значений количества квартир приходится на площадь около 50 м2.\n",
    "# Площади более 150 м2 являются редкими значениями.\n",
    "# C помощью метода describe() можно посмотреть минимальное значение - 19м2, максимальное значение - 900 м2, среднее - 60 м2.\n",
    "#Рассчитаем границы выбросов с помощью IQR:\n",
    "q1 = data['total_area'].quantile(0.25)\n",
    "q3 = data['total_area'].quantile(0.75)\n",
    "iqr = q3 - q1\n",
    "print('Границы интервала наиболее вероятных значений площади:', q1 - 1.5 * iqr, q3 + 1.5 * iqr)\n",
    "rare_values_area_border = 115 # Создаю переменную со значением границы выбросов\n",
    "\n",
    "data.plot(kind='hist', bins=10, y='last_price', title='Цена квартиры', legend=True) # Строим гистограмму по ценам.\n",
    "plt.xlabel('Цена, руб.')\n",
    "plt.ylabel('Количество, шт.')\n",
    "plt.show()\n",
    "data['last_price'].describe()\n",
    "print('Минимальное значение:', data['last_price'].min())\n",
    "print('Максимальное значение:', data['last_price'].max())\n",
    "print('Медианное значение:', data['last_price'].median())\n",
    "print('Среднее значение:', data['last_price'].mean())\n",
    "# Очень большой разброс по ценам, минимальное значение 12 190, максимальное 763 млн. Медиана 4,6 млн.\n",
    "# Судя по графику сделки дороже 7 млн. уже редки.\n",
    "#Рассчитаем границы выбросов с помощью IQR:\n",
    "q1 = data['last_price'].quantile(0.25)\n",
    "q3 = data['last_price'].quantile(0.75)\n",
    "iqr = q3 - q1\n",
    "print('Границы интервала наиболее вероятных значений цены:', q1 - 1.5 * iqr, q3 + 1.5 * iqr)\n",
    "rare_values_price_border = 12000000 # Создаю переменную со значением границы выбросов\n",
    "\n",
    "#data['rooms'].hist(bins = 10) #Гистограмма по количеству комнат.\n",
    "data.plot(kind='hist', bins=10, y='rooms', title='Число комнат', legend=True) # Строим гистограмму по количеству комнат.\n",
    "plt.xlabel('Количество комнат, шт.')\n",
    "plt.ylabel('Количество квартир, шт.')\n",
    "plt.show()\n",
    "data['rooms'].describe()\n",
    "# Сразу бросается в глаза странное минимальное значение 0 комнат, вероятно студии. Судя по графику больше всего на рынке 2-3 комнатных квартир.\n",
    "# Медиана равна 2. Максимальное значение 19. Квартиры больше 5 комнат довольно редки, но сильно вляют на среднее и явлются выбросами.\n",
    "# Рассчитаем границы выбросов с помощью IQR:\n",
    "q1 = data['rooms'].quantile(0.25)\n",
    "q3 = data['rooms'].quantile(0.75)\n",
    "iqr = q3 - q1\n",
    "print('Границы интервала наиболее вероятных значений комнат:', q1 - 1.5 * iqr, q3 + 1.5 * iqr)\n",
    "rare_values_rooms_border = 6 # Создаю переменную со значением границы выбросов\n",
    "\n",
    "data.plot(kind='hist', bins=10, y='ceiling_height', title='Высота потолков', legend=True) # Строим гистограмму по высоте потолков.\n",
    "plt.xlabel('Высота потолков, м')\n",
    "plt.ylabel('Количество квартир, шт.')\n",
    "plt.show()\n",
    "data['ceiling_height'].describe()\n",
    "# Минимальные и максимальные значения (1 и 100 метров) явно не соответствуют реальности. В данных присутствуют ошибки.\n",
    "# А медиана в 2,65 м похожа на правду. Минимальная высота потолков в жилых помещениях регламентирована и не может быть меньше 2,5 м.\n",
    "# Максимальные значения могут быть где-то в районе 5-7 метров в частных домах или старинных особняках.\n",
    "q1 = data['ceiling_height'].quantile(0.25)\n",
    "q3 = data['ceiling_height'].quantile(0.75)\n",
    "iqr = q3 - q1\n",
    "print('Границы интервала наиболее вероятных значений высоты потолков:', q1 - 1.5 * iqr, q3 + 1.5 * iqr)"
   ]
  },
  {
   "cell_type": "markdown",
   "metadata": {},
   "source": [
    "#### Вывод\n",
    "Изучив гистограммы по параметрам площадь, цена, количество комнат и высота потолков можно сказать следующее:\n",
    "Больше всего кварир с площадью 50-60 м2, минимальные значения около 20 м2, а квартиры больше 150 м2 уже редкость.\n",
    "В данных огромный разброс по ценам, но средняя цена квартиры 4,6 млн.руб., а сделки дороже 7 млн. встречаются не часто.\n",
    "Больше всего на рынке 2-х комнатных квартир. В целом, высота потолков соответствует строительным стандартам 2.45-2.85 м."
   ]
  },
  {
   "cell_type": "markdown",
   "metadata": {},
   "source": [
    "### Изучение времени продажи квартиры"
   ]
  },
  {
   "cell_type": "code",
   "execution_count": 6,
   "metadata": {},
   "outputs": [
    {
     "data": {
      "image/png": "[encoded data removed]",
      "text/plain": [
       "<Figure size 432x288 with 1 Axes>"
      ]
     },
     "metadata": {
      "needs_background": "light"
     },
     "output_type": "display_data"
    },
    {
     "name": "stdout",
     "output_type": "stream",
     "text": [
      "count    20470.000000\n",
      "mean       180.753200\n",
      "std        219.777916\n",
      "min          1.000000\n",
      "25%         45.000000\n",
      "50%         95.000000\n",
      "75%        231.000000\n",
      "max       1580.000000\n",
      "Name: days_exposition, dtype: float64\n"
     ]
    },
    {
     "data": {
      "image/png": "[encoded data removed]",
      "text/plain": [
       "<Figure size 432x288 with 1 Axes>"
      ]
     },
     "metadata": {
      "needs_background": "light"
     },
     "output_type": "display_data"
    },
    {
     "name": "stdout",
     "output_type": "stream",
     "text": [
      "Границы интервала наиболее вероятных значений: -234.0 510.0\n"
     ]
    }
   ],
   "source": [
    "data['days_exposition'].hist(bins = 10) # Гистограмма по параметру время продажи.\n",
    "plt.show()\n",
    "print(data['days_exposition'].describe())\n",
    "# Среднее время продажи 180 дней, а медиана 95 дней. Среднее в два раза больше медианы, большие выбросы в сторону макс. значений\n",
    "\n",
    "data.boxplot('days_exposition') # Построим диаграмму размаха\n",
    "plt.show()\n",
    "# Судя по диаграмме выбросы начинаются примерно со значения 550\n",
    "# Рассчитаем границы выбросов с помощью IQR:\n",
    "q1 = data['days_exposition'].quantile(0.25)\n",
    "q3 = data['days_exposition'].quantile(0.75)\n",
    "iqr = q3 - q1\n",
    "print('Границы интервала наиболее вероятных значений:', q1 - 1.5 * iqr, q3 + 1.5 * iqr)\n",
    "# Получается, что нижняя граница сливается с нулем а верхняя 510 дней. \n",
    "# Eсли квартира продается дольше 510 дней - это необычно долго. \n",
    "# А если меньше 45 дней (значение первого квартиля), то продажу можно считать очень быстрой.\n",
    "rare_values_days_exposition_border = 510\n"
   ]
  },
  {
   "cell_type": "markdown",
   "metadata": {},
   "source": [
    "#### Вывод\n",
    "Среднее время продажи квартиры 95 дней. Eсли квартира продается дольше 510 дней - это необычно долго. \n",
    "А если меньше 45 дней, то продажу можно считать очень быстрой."
   ]
  },
  {
   "cell_type": "markdown",
   "metadata": {},
   "source": [
    "### Удаление редких и выбивающихся значений"
   ]
  },
  {
   "cell_type": "code",
   "execution_count": 7,
   "metadata": {},
   "outputs": [
    {
     "name": "stdout",
     "output_type": "stream",
     "text": [
      "32.69767441860465\n",
      "15917\n"
     ]
    }
   ],
   "source": [
    "# Для того, чтобы убрать искажения в данных создадим новый фрейм без редких и выбивающихся значений\n",
    "# Используем метод query() и отрежем выбросы, найденные в предыдуших двух пунктах\n",
    "df_filtered = data.query('total_area <= @rare_values_area_border')\n",
    "df_filtered = df_filtered.query('last_price <= @rare_values_price_border')\n",
    "df_filtered = df_filtered.query('0 < rooms <= @rare_values_rooms_border')\n",
    "df_filtered = df_filtered.query('2.45 <= ceiling_height <= 2.85')\n",
    "df_filtered = df_filtered.query('days_exposition <= @rare_values_days_exposition_border')\n",
    "df_filtered.head(10)\n",
    "print(100-len(df_filtered)/len(data)*100) # В фильтрованном фрейме осталось 15917 строк, в исходном было 23699. \n",
    "# Таким образом, я отбросила 32.7 % данных. Многовато, конечно.\n",
    "print(len(df_filtered))"
   ]
  },
  {
   "cell_type": "markdown",
   "metadata": {},
   "source": [
    "#### Вывод\n",
    "При удалении редких и выбивающихся значений (выбросов) было потеряно 32,7 % данных. Разброс цен на недвижимость очень большой."
   ]
  },
  {
   "cell_type": "markdown",
   "metadata": {},
   "source": [
    "### Исследование факторов,  влияющих на стоимость квартиры"
   ]
  },
  {
   "cell_type": "code",
   "execution_count": 8,
   "metadata": {},
   "outputs": [
    {
     "data": {
      "image/png": "[encoded data removed]",
      "text/plain": [
       "<Figure size 432x288 with 1 Axes>"
      ]
     },
     "metadata": {
      "needs_background": "light"
     },
     "output_type": "display_data"
    },
    {
     "data": {
      "image/png": "[encoded data removed]",
      "text/plain": [
       "<Figure size 432x288 with 1 Axes>"
      ]
     },
     "metadata": {
      "needs_background": "light"
     },
     "output_type": "display_data"
    },
    {
     "name": "stdout",
     "output_type": "stream",
     "text": [
      "-0.08831693539389816\n"
     ]
    },
    {
     "data": {
      "image/png": "[encoded data removed]",
      "text/plain": [
       "<Figure size 432x288 with 1 Axes>"
      ]
     },
     "metadata": {
      "needs_background": "light"
     },
     "output_type": "display_data"
    },
    {
     "name": "stdout",
     "output_type": "stream",
     "text": [
      "-0.24307285613861013\n"
     ]
    },
    {
     "data": {
      "image/png": "[encoded data removed]",
      "text/plain": [
       "<Figure size 432x288 with 1 Axes>"
      ]
     },
     "metadata": {
      "needs_background": "light"
     },
     "output_type": "display_data"
    },
    {
     "name": "stdout",
     "output_type": "stream",
     "text": [
      "-0.18947854880927084\n"
     ]
    },
    {
     "data": {
      "image/png": "[encoded data removed]",
      "text/plain": [
       "<Figure size 432x288 with 1 Axes>"
      ]
     },
     "metadata": {
      "needs_background": "light"
     },
     "output_type": "display_data"
    },
    {
     "data": {
      "image/png": "[encoded data removed]",
      "text/plain": [
       "<Figure size 432x288 with 1 Axes>"
      ]
     },
     "metadata": {
      "needs_background": "light"
     },
     "output_type": "display_data"
    }
   ],
   "source": [
    "#Изучим как влияют на цену м2 параметры: этаж, общая площадь, количество комнат, удаленность от центра и дата размещения обьявления\n",
    "\n",
    "df_filtered.boxplot(column = 'price_m2', by ='floor_category')# Строим диаграмму размаха для категории этажей\n",
    "plt.ylim(0, 175000)\n",
    "plt.show()\n",
    "# Судя по графику цена м2 в квартирах на первом  и последнем этажах существенно ниже чем на других.\n",
    "# Медиана цены в квартирах на первом этаже около 78 тыс., на последнем этаже 83 тыс., на других этажах 94 тыс.\n",
    "# Межквартильный размах у квартир на последних этажах шире, значит вероятность продать дороже выше, чем на первом.\n",
    "\n",
    "df_filtered.plot(x='total_area', y='price_m2', kind='scatter', alpha=0.03)# Строю диаграмму рассеяния для общей площади\n",
    "plt.show()\n",
    "print(df_filtered['price_m2'].corr(df_filtered['total_area'])) # Чтобы выявить взаимосвязь считаю коэффициент корреляции Пирсона\n",
    "# График выглядит равномерным, коэффициент корреляции близок к нулю, то есть при изменении одной величины, другая остаётся прежней. \n",
    "\n",
    "\n",
    "df_filtered.plot(x='rooms', y='price_m2', kind='scatter', alpha=0.03)# Строю диаграмму рассеяния для комнат и цены м2\n",
    "plt.show()\n",
    "print(df_filtered['price_m2'].corr(df_filtered['rooms'])) \n",
    "# Судя по графику чем меньше комнат в квартире, тем выше цена за м2\n",
    "# Коэффициент корреляции также указывает на то, что рост цены связан с уменьшением количества комнат\n",
    "\n",
    "df_filtered.plot(x='cityCenters_nearest', y='price_m2', kind='scatter', alpha=0.03)# Строю диаграмму для удаленности от центра\n",
    "plt.show()\n",
    "print(df_filtered['price_m2'].corr(df_filtered['cityCenters_nearest']))\n",
    "# Зависимость есть, чем ближе к центру, тем выше цена за метр. Коэффициент - 0,19 тоже указывает на такую взаимосвязь.\n",
    "# Также на графике отчетливо виден результат заполнения пустых значений медианой в районе 13 тыс.м от центра\n",
    "\n",
    "# Построю линейный график по сгруппированным данным дня размещения обьявления и цены за м2\n",
    "first_day_exposition_stat = df_filtered.pivot_table(index='first_day_exposition', values='price_m2', aggfunc='median')\n",
    "first_day_exposition_stat.plot(y='price_m2', grid = True)\n",
    "plt.show()\n",
    "# На графике видны редкие пики и спады, но в целом цена остается постоянной, около 95 тыс.руб за м2\n",
    "\n",
    "# Также изучим зависимость от даты размещения по дням недели\n",
    "weekday_stat = df_filtered.pivot_table(index='weekday', values='price_m2') \n",
    "weekday_stat.plot(y='price_m2', grid = True)\n",
    "plt.show()\n",
    "# Интересная получается ситуация: в середине недели цена при размещении выше, а в субботу минимальна. \n",
    "# Могу предположить, что в середине недели в основном размещают обьявления риелторские компании, юридические лица. А по выходным обычные люди."
   ]
  },
  {
   "cell_type": "markdown",
   "metadata": {},
   "source": [
    "#### Вывод\n",
    "Исследование факторов влияющих на цену показало, что рост цены связан с близостью к центру(коэффициент корреляции -0.19). Также рост цены связан с уменьшением количества комнат (коэффициент корреляции -0.24) и этажностью, квартиры на первом этаже дешевле всего (в среднем 78 тыс.руб.), далее последний этаж (в среднем 83 тыс.руб.) и дороже всего другие этажи (в среднем 94 тыс.руб.). Взаимосвязь цены и общей площади близка к нулю. В целом, цены в наблюдаемом периоде стабильны, около 95 тыс.руб за м2. В середине недели цена при размещении выше, а в субботу минимальна."
   ]
  },
  {
   "cell_type": "markdown",
   "metadata": {},
   "source": [
    "### Анализ десяти населенных пунктов с наибольшим числом обьявлений"
   ]
  },
  {
   "cell_type": "code",
   "execution_count": 9,
   "metadata": {},
   "outputs": [
    {
     "name": "stdout",
     "output_type": "stream",
     "text": [
      "                   rooms       price_m2\n",
      "locality_name                          \n",
      "Санкт-Петербург    15721  114849.008794\n",
      "посёлок Мурино       522   85752.189195\n",
      "посёлок Шушары       440   78677.364217\n",
      "Всеволожск           398   68654.473986\n",
      "Пушкин               369  103125.819291\n",
      "Колпино              338   75424.579098\n",
      "посёлок Парголово    327   90175.913458\n",
      "Гатчина              307   68746.146763\n",
      "деревня Кудрово      299   92473.547576\n",
      "Выборг               237   58141.909153\n",
      "               rooms      price_m2\n",
      "locality_name                     \n",
      "село Шум           1  33898.305085\n"
     ]
    }
   ],
   "source": [
    "# Судя по предыдущим пунктам анализа, больше всего на цену влияет местоположение\n",
    "# Посмотрим на значения столбца locality_name\n",
    "df_filtered['locality_name'].unique() \n",
    "# В списке уникальных значений найдены дубликаты, в некоторых случаях указан посёлок Мурино, а в некоторых поселок Мурино\n",
    "\n",
    "# С помощью цикла заменяю название населенного пункта на пустое значение и сохраняю в новый столбец\n",
    "df_filtered['locality_name_new'] = df_filtered['locality_name']\n",
    "for repl in ['поселок', 'деревня', 'посёлок', 'городской', 'коттеджный']:\n",
    "    df_filtered['locality_name_new'] = df_filtered['locality_name_new'].str.replace(repl, '')\n",
    "\n",
    "df_filtered[['locality_name', 'locality_name_new']].drop_duplicates() # Удаляю дубликаты\n",
    "\n",
    "# Группирую столбцы и вывожу 10 первых значений по убыванию, так получаем 10 населенныхпунктов с самой высокой ценой за м2\n",
    "print(data.groupby('locality_name').agg({'rooms': 'count', 'price_m2': 'mean'}).sort_values(by = 'rooms', ascending = False).head(10))\n",
    "# Методом tail() вывожу последнюю строку таблицы и получаем населенный пункт с самой низкой ценой\n",
    "print(data.groupby('locality_name').agg({'rooms': 'count', 'price_m2': 'mean'}).sort_values(by = 'rooms', ascending = False).tail(1))"
   ]
  },
  {
   "cell_type": "markdown",
   "metadata": {},
   "source": [
    "#### Вывод\n",
    "Самая высокая средняя цена за м2 в Санкт-Петербурге - 114 850 руб., самая низкая в селе Шум - 33 898 руб. за м2."
   ]
  },
  {
   "cell_type": "markdown",
   "metadata": {},
   "source": [
    "### Анализ изменения цены по степени удаленности от центра"
   ]
  },
  {
   "cell_type": "code",
   "execution_count": 10,
   "metadata": {},
   "outputs": [
    {
     "data": {
      "text/plain": [
       "9     15\n",
       "10    13\n",
       "15    14\n",
       "18    10\n",
       "21     9\n",
       "Name: spb_centers_nearest, dtype: int64"
      ]
     },
     "metadata": {},
     "output_type": "display_data"
    },
    {
     "data": {
      "image/png": "[encoded data removed]",
      "text/plain": [
       "<Figure size 432x288 with 1 Axes>"
      ]
     },
     "metadata": {
      "needs_background": "light"
     },
     "output_type": "display_data"
    },
    {
     "data": {
      "text/plain": [
       "spb_centers_nearest\n",
       "0    122528.673598\n",
       "1    126647.014815\n",
       "2    112502.386293\n",
       "3    111131.223891\n",
       "4    123306.051118\n",
       "5    121700.284312\n",
       "6    122574.222020\n",
       "7    118323.310856\n",
       "Name: price_m2, dtype: float64"
      ]
     },
     "metadata": {},
     "output_type": "display_data"
    }
   ],
   "source": [
    "# Создаем фрейм с квартирами только в Санкт-Петербурге\n",
    "locality_spb = df_filtered.query('locality_name_new == \"Санкт-Петербург\"')\n",
    "# Создаем столбец с расстоянием в километрах до центра, округляем до целых значений\n",
    "locality_spb['spb_centers_nearest'] = (locality_spb['cityCenters_nearest']/1000).astype('int')\n",
    "display(locality_spb['spb_centers_nearest'].head())\n",
    "# Группируем данные и строим график\n",
    "locality_spb_grouped = locality_spb.groupby('spb_centers_nearest')['price_m2'].mean()\n",
    "locality_spb_grouped.plot(x='spb_centers_nearest', y='price_m2', grid=True)\n",
    "plt.show()\n",
    "# Судя по графику самые дорогие квартиры расположены в 8 км от центра, далее резкий и неуклонный спад по цене за м2\n",
    "display(locality_spb_grouped.head(8))"
   ]
  },
  {
   "cell_type": "markdown",
   "metadata": {},
   "source": [
    "#### Вывод\n",
    "Самые дорогие квартиры в Санкт-Петербурге находятся в радиусе 8 км. от центра города. Средняя цена 118-122 тыс.руб. за м2."
   ]
  },
  {
   "cell_type": "markdown",
   "metadata": {},
   "source": [
    "### Сравнение выводов по квартирам в центре и общих выводов по всему городу"
   ]
  },
  {
   "cell_type": "code",
   "execution_count": 11,
   "metadata": {},
   "outputs": [
    {
     "data": {
      "image/png": "[encoded data removed]",
      "text/plain": [
       "<Figure size 432x288 with 1 Axes>"
      ]
     },
     "metadata": {
      "needs_background": "light"
     },
     "output_type": "display_data"
    },
    {
     "name": "stdout",
     "output_type": "stream",
     "text": [
      "count    1160.000000\n",
      "mean       60.428207\n",
      "std        20.289847\n",
      "min        12.000000\n",
      "25%        44.075000\n",
      "50%        58.000000\n",
      "75%        74.000000\n",
      "max       115.000000\n",
      "Name: total_area, dtype: float64\n",
      "count    8511.000000\n",
      "mean       50.989354\n",
      "std        16.446523\n",
      "min        13.000000\n",
      "25%        38.500000\n",
      "50%        46.600000\n",
      "75%        60.695000\n",
      "max       115.000000\n",
      "Name: total_area, dtype: float64\n"
     ]
    },
    {
     "data": {
      "image/png": "[encoded data removed]",
      "text/plain": [
       "<Figure size 432x288 with 1 Axes>"
      ]
     },
     "metadata": {
      "needs_background": "light"
     },
     "output_type": "display_data"
    },
    {
     "name": "stdout",
     "output_type": "stream",
     "text": [
      "count    1.160000e+03\n",
      "mean     7.006563e+06\n",
      "std      2.244086e+06\n",
      "min      1.686000e+06\n",
      "25%      5.250000e+06\n",
      "50%      6.761381e+06\n",
      "75%      8.600000e+06\n",
      "max      1.200000e+07\n",
      "Name: last_price, dtype: float64\n",
      "count    8.511000e+03\n",
      "mean     5.088192e+06\n",
      "std      1.768929e+06\n",
      "min      1.219000e+04\n",
      "25%      3.831500e+06\n",
      "50%      4.650000e+06\n",
      "75%      5.900000e+06\n",
      "max      1.200000e+07\n",
      "Name: last_price, dtype: float64\n"
     ]
    },
    {
     "data": {
      "image/png": "[encoded data removed]",
      "text/plain": [
       "<Figure size 432x288 with 1 Axes>"
      ]
     },
     "metadata": {
      "needs_background": "light"
     },
     "output_type": "display_data"
    },
    {
     "name": "stdout",
     "output_type": "stream",
     "text": [
      "count    1160.000000\n",
      "mean        2.105172\n",
      "std         0.893447\n",
      "min         1.000000\n",
      "25%         1.000000\n",
      "50%         2.000000\n",
      "75%         3.000000\n",
      "max         6.000000\n",
      "Name: rooms, dtype: float64\n",
      "count    8511.000000\n",
      "mean        1.866173\n",
      "std         0.856891\n",
      "min         1.000000\n",
      "25%         1.000000\n",
      "50%         2.000000\n",
      "75%         2.000000\n",
      "max         6.000000\n",
      "Name: rooms, dtype: float64\n"
     ]
    },
    {
     "data": {
      "image/png": "[encoded data removed]",
      "text/plain": [
       "<Figure size 432x288 with 1 Axes>"
      ]
     },
     "metadata": {
      "needs_background": "light"
     },
     "output_type": "display_data"
    },
    {
     "name": "stdout",
     "output_type": "stream",
     "text": [
      "count    1160.000000\n",
      "mean        2.657810\n",
      "std         0.072948\n",
      "min         2.460000\n",
      "25%         2.650000\n",
      "50%         2.650000\n",
      "75%         2.650000\n",
      "max         2.850000\n",
      "Name: ceiling_height, dtype: float64\n",
      "count    8511.000000\n",
      "mean        2.627593\n",
      "std         0.081619\n",
      "min         2.450000\n",
      "25%         2.560000\n",
      "50%         2.650000\n",
      "75%         2.650000\n",
      "max         2.850000\n",
      "Name: ceiling_height, dtype: float64\n"
     ]
    },
    {
     "data": {
      "image/png": "[encoded data removed]",
      "text/plain": [
       "<Figure size 1080x432 with 2 Axes>"
      ]
     },
     "metadata": {
      "needs_background": "light"
     },
     "output_type": "display_data"
    },
    {
     "data": {
      "image/png": "[encoded data removed]",
      "text/plain": [
       "<Figure size 1080x432 with 2 Axes>"
      ]
     },
     "metadata": {
      "needs_background": "light"
     },
     "output_type": "display_data"
    },
    {
     "data": {
      "image/png": "[encoded data removed]",
      "text/plain": [
       "<Figure size 1080x432 with 2 Axes>"
      ]
     },
     "metadata": {
      "needs_background": "light"
     },
     "output_type": "display_data"
    },
    {
     "data": {
      "image/png": "[encoded data removed]",
      "text/plain": [
       "<Figure size 432x288 with 1 Axes>"
      ]
     },
     "metadata": {
      "needs_background": "light"
     },
     "output_type": "display_data"
    },
    {
     "data": {
      "image/png": "[encoded data removed]",
      "text/plain": [
       "<Figure size 432x288 with 1 Axes>"
      ]
     },
     "metadata": {
      "needs_background": "light"
     },
     "output_type": "display_data"
    }
   ],
   "source": [
    "# Создаю таблицу по квартирам в самом центре\n",
    "locality_spb_centr = locality_spb.query('spb_centers_nearest < 8')\n",
    "# Создаю таблицу по квартирам не в центре\n",
    "locality_spb_not_the_city_centr = locality_spb.query('spb_centers_nearest > 8')\n",
    "#display(locality_spb_centrs['spb_centers_nearest'])\n",
    "\n",
    "# Повторяю анализ по параметрам и факторам из п.4.1 и п.4.4\n",
    "# Строю сравнительную гистограмму площади квартир.\n",
    "ax = locality_spb_not_the_city_centr.plot(kind='hist', bins=100, y='total_area', legend=True, label='окраина')\n",
    "locality_spb_centr.plot(kind='hist', bins=100, y='total_area', legend=True, label='центр', ax=ax)\n",
    "\n",
    "plt.title('Общая площадь квартир в Санкт-Петербурге')\n",
    "plt.xlabel('Площадь, м2')\n",
    "plt.ylabel('Количество, шт.')\n",
    "plt.show()\n",
    "\n",
    "print(locality_spb_centr['total_area'].describe()) \n",
    "print(locality_spb_not_the_city_centr['total_area'].describe()) \n",
    "# Средняя площадь квартир в центре примерно на 10 м2 больше чем на окраине. Среднее значение 60 м2 в центре и 51 м2 на окраине.\n",
    "# Медиана по центру 58м2, а по окраине 47м2. Разброс одинаковый от 12 до 115 м2.\n",
    "# На графике более равномерное распределение по площади в центре, а на окраине гораздо больше малогабаритных вариантов.\n",
    "\n",
    "\n",
    "\n",
    "#Строим гистограмму по ценам в центре и на окраине.\n",
    "ax = locality_spb_not_the_city_centr.plot(kind='hist', bins=10, y='last_price', legend=True, label='окраина')\n",
    "locality_spb_centr.plot(kind='hist', bins=10, y='last_price', legend=True, label='центр', ax=ax)\n",
    "plt.title('Средняя цена квартир в Санкт-Петербурге')\n",
    "plt.xlabel('Цена, руб.')\n",
    "plt.ylabel('Количество, шт.')\n",
    "plt.show()\n",
    "print(locality_spb_centr['last_price'].describe())\n",
    "print(locality_spb_not_the_city_centr['last_price'].describe())\n",
    "# Средняя цена квартиры в центре 7 млн.руб, а на окраине 5 млн. Причем бюджетных вариантов на окраине гораздо больше.\n",
    "\n",
    "#Гистограмма по количеству комнат.\n",
    "ax = locality_spb_not_the_city_centr.plot(kind='hist', bins=10, y='rooms', legend=True, label='окраина')\n",
    "locality_spb_centr.plot(kind='hist', bins=10, y='rooms', legend=True, label='центр', ax=ax)\n",
    "plt.title('Количество комнат в Санкт-Петербурге')\n",
    "plt.xlabel('Количество комнат, шт.')\n",
    "plt.ylabel('Количество квартир, шт.')\n",
    "plt.show()\n",
    "print(locality_spb_centr['rooms'].describe())\n",
    "print(locality_spb_not_the_city_centr['rooms'].describe())\n",
    "# Больше всего двухкомнатных квартир как в центре, так и на окраине.\n",
    "\n",
    "# Гистограмма по высоте потолков.\n",
    "ax = locality_spb_not_the_city_centr.plot(kind='hist', bins=10, y='ceiling_height', legend=True, label='окраина')\n",
    "locality_spb_centr.plot(kind='hist', bins=10, y='ceiling_height', legend=True, label='центр', ax=ax)\n",
    "plt.title('Высота потолков в Санкт-Петербурге')\n",
    "plt.xlabel('Высота потолков, м')\n",
    "plt.ylabel('Количество квартир, шт.')\n",
    "plt.show()\n",
    "print(locality_spb_centr['ceiling_height'].describe())\n",
    "print(locality_spb_not_the_city_centr['ceiling_height'].describe())\n",
    "# Средняя высота потолков в центре и на окраине такая же 2,65 м.\n",
    "\n",
    "\n",
    "# Строим диаграмму размаха для категории этажей\n",
    "fig, axes = plt.subplots(1,2, figsize=(15,6))\n",
    "locality_spb_not_the_city_centr.boxplot(column = 'price_m2', by ='floor_category', ax=axes[0])\n",
    "axes[0].set_title('Зависимость цены от этажа на окраине')\n",
    "locality_spb_centr.boxplot(column = 'price_m2', by ='floor_category', ax=axes[1])\n",
    "axes[1].set_title('Зависимость цены от этажа в центре')\n",
    "plt.show()\n",
    "# Так же цена м2 в центре и на окраине на первом  и последнем этажах существенно ниже чем на других.\n",
    "\n",
    "\n",
    "# Строю диаграмму рассеяния для комнат и цены м2\n",
    "fig, axes = plt.subplots(1,2, figsize=(15,6))\n",
    "locality_spb_not_the_city_centr.plot(x='rooms', y='price_m2', kind='scatter', alpha=0.03, ax=axes[0])\n",
    "axes[0].set_title('Зависимость цены от количества комнат на окраине')\n",
    "locality_spb_centr.plot(x='rooms', y='price_m2', kind='scatter', alpha=0.03, ax=axes[1])\n",
    "axes[1].set_title('Зависимость цены от количества комнат в центре')\n",
    "plt.show()\n",
    "#Зависимость сохраняется, чем меньше комнат в квартире, тем выше цена за м2\n",
    "\n",
    "#Строю диаграмму для удаленности от центра\n",
    "fig, axes = plt.subplots(1,2, figsize=(15,6))\n",
    "locality_spb_not_the_city_centr.plot(x='cityCenters_nearest', y='price_m2', kind='scatter', alpha=0.03, ax=axes[0])\n",
    "axes[0].set_title('Зависимость цены от близости к центру на окраине')\n",
    "locality_spb_centr.plot(x='cityCenters_nearest', y='price_m2', kind='scatter', alpha=0.03, ax=axes[1])\n",
    "axes[1].set_title('Зависимость цены от близости к центру в центре')\n",
    "plt.show()\n",
    "# Зависимость не видна, по всему центру и по окраине цена за м2 распределена равномерно.\n",
    "\n",
    "\n",
    "# Построю линейный график по сгруппированным данным дня размещения обьявления и цены за м2\n",
    "ax = (locality_spb_not_the_city_centr\n",
    " .pivot_table(index='first_day_exposition', values='price_m2', aggfunc='median')\n",
    " .plot(y='price_m2', legend=True, label='окраина', grid = True)\n",
    ")\n",
    "(locality_spb_centr\n",
    " .pivot_table(index='first_day_exposition', values='price_m2', aggfunc='median')\n",
    " .plot(y='price_m2', grid = True, legend=True, label='центр', ax=ax)\n",
    ")\n",
    "plt.title('Дата размещения обьявления в Санкт-Петербурге')\n",
    "plt.xlabel('Дата год/мес.')\n",
    "plt.ylabel('Цена, руб.м2')\n",
    "plt.show()\n",
    "# Цена остается на протяжении времени в диапазоне 100-150 тыс.руб за м2 в центре и 80-125 тыс.руб. за м2 на окраине.\n",
    "\n",
    "\n",
    "# Также изучим зависимость от даты размещения по дням недели\n",
    "ax = (locality_spb_not_the_city_centr\n",
    " .pivot_table(index='weekday', values='price_m2', aggfunc='median')\n",
    " .plot(y='price_m2', legend=True, label='окраина', grid = True)\n",
    ")\n",
    "(locality_spb_centr\n",
    " .pivot_table(index='weekday', values='price_m2', aggfunc='median')\n",
    " .plot(y='price_m2', grid = True, legend=True, label='центр', ax=ax)\n",
    ")\n",
    "plt.title('День недели размещения обьявления в Санкт-Петербурге')\n",
    "plt.xlabel('День недели')\n",
    "plt.ylabel('Цена, руб.м2')\n",
    "plt.show()\n",
    "\n",
    "\n"
   ]
  },
  {
   "cell_type": "markdown",
   "metadata": {},
   "source": [
    "#### Вывод\n",
    "Проанализировав параметры и факторы, влияющие на стоимость квартиры в центре Санкт-Петербурга, можно сказать, что они отличаются от всех объектов города по цене и по площади. Средняя площадь квартир в центре примерно на 10 м2 больше чем на окраине. Среднее значение 60 м2 в центре и 51 м2 на окраине. Разброс от 12 до 115 м2. Более равномерное распределение по площади в центре, а на окраине гораздо больше малогабаритных вариантов. Средняя цена квартиры в центре 7 млн.руб, а на окраине 5 млн. Причем бюджетных вариантов на окраине гораздо больше. \n",
    "Больше всего двухкомнатных квартир. Средняя высота потолков в центре такая же как и на окраине 2,65 м. Так же цена м2 в квартирах на первом  и последнем этажах существенно ниже чем на других. Зависимость сохраняется, чем меньше комнат в квартире, тем выше цена за м2. \n",
    "Цена остается на протяжении времени в диапазоне 100-150 тыс.руб за м2 в центре и 80-125 тыс.руб. за м2 на окраине."
   ]
  },
  {
   "cell_type": "markdown",
   "metadata": {},
   "source": [
    "## Общий вывод"
   ]
  },
  {
   "cell_type": "markdown",
   "metadata": {},
   "source": [
    "Задача исследования - установить параметры, влияющие на цену квартир в Санкт-Петербурге и области. Главным параметром оказалось удаленность от центра, чем ближе к центру тем дороже. Причем средняя цена обьекта в центре на 50 % выше средней цены квартиры не в центре (7 и 4,6 млн.руб.соответственно). Чем меньше комнат в квартире, тем дороже м2. Квартиры на первом этаже дешевле всего (в среднем 78 тыс.руб.), далее последний этаж (в среднем 83 тыс.руб.) и дороже всего другие этажи (в среднем 94 тыс.руб.).\n",
    "Выбор на рынке большой и по цене и по площади, однако средний обьект это двухкомнатная квартира, площадью 60 м2, с высотой потолков, соответствующей строительным стандартам (2.45-2.85 м).\n",
    "Цены в наблюдаемом периоде стабильны, около 95 тыс.руб за м2. Средний срок продажи квартиры 95 дней."
   ]
  },
  {
   "cell_type": "code",
   "execution_count": null,
   "metadata": {},
   "outputs": [],
   "source": []
  }
 ],
 "metadata": {
  "ExecuteTimeLog": [
   {
    "duration": 3597,
    "start_time": "2022-01-10T00:00:17.833Z"
   },
   {
    "duration": 129,
    "start_time": "2022-01-10T00:01:03.847Z"
   },
   {
    "duration": 140,
    "start_time": "2022-01-10T00:05:31.028Z"
   },
   {
    "duration": 431,
    "start_time": "2022-01-10T23:12:57.397Z"
   },
   {
    "duration": 967,
    "start_time": "2022-01-10T23:13:17.711Z"
   },
   {
    "duration": 8,
    "start_time": "2022-01-10T23:13:18.682Z"
   },
   {
    "duration": 21,
    "start_time": "2022-01-10T23:25:56.481Z"
   },
   {
    "duration": 15,
    "start_time": "2022-01-10T23:26:28.245Z"
   },
   {
    "duration": 975,
    "start_time": "2022-01-10T23:26:47.695Z"
   },
   {
    "duration": 16,
    "start_time": "2022-01-10T23:26:48.673Z"
   },
   {
    "duration": 11677,
    "start_time": "2022-01-10T23:33:30.200Z"
   },
   {
    "duration": 1293,
    "start_time": "2022-01-10T23:33:54.568Z"
   },
   {
    "duration": 23,
    "start_time": "2022-01-10T23:33:55.864Z"
   },
   {
    "duration": 899,
    "start_time": "2022-01-10T23:34:25.882Z"
   },
   {
    "duration": 17,
    "start_time": "2022-01-10T23:34:26.784Z"
   },
   {
    "duration": 20,
    "start_time": "2022-01-11T00:00:59.713Z"
   },
   {
    "duration": 937,
    "start_time": "2022-01-11T00:01:10.452Z"
   },
   {
    "duration": 25,
    "start_time": "2022-01-11T00:01:11.392Z"
   },
   {
    "duration": 507,
    "start_time": "2022-01-11T00:23:00.254Z"
   },
   {
    "duration": 89,
    "start_time": "2022-01-11T00:27:06.868Z"
   },
   {
    "duration": 161,
    "start_time": "2022-01-11T00:32:10.044Z"
   },
   {
    "duration": 163,
    "start_time": "2022-01-11T00:40:54.915Z"
   },
   {
    "duration": 919,
    "start_time": "2022-01-11T00:41:36.885Z"
   },
   {
    "duration": 157,
    "start_time": "2022-01-11T00:41:37.808Z"
   },
   {
    "duration": 967,
    "start_time": "2022-01-11T00:42:31.810Z"
   },
   {
    "duration": 184,
    "start_time": "2022-01-11T00:42:32.780Z"
   },
   {
    "duration": 132,
    "start_time": "2022-01-11T00:43:50.194Z"
   },
   {
    "duration": 175,
    "start_time": "2022-01-11T00:48:36.606Z"
   },
   {
    "duration": 123,
    "start_time": "2022-01-11T06:33:54.298Z"
   },
   {
    "duration": 135,
    "start_time": "2022-01-11T06:34:12.052Z"
   },
   {
    "duration": 178,
    "start_time": "2022-01-11T06:34:52.607Z"
   },
   {
    "duration": 1619,
    "start_time": "2022-01-11T06:35:06.194Z"
   },
   {
    "duration": 411,
    "start_time": "2022-01-11T06:35:24.753Z"
   },
   {
    "duration": 722,
    "start_time": "2022-01-11T06:35:36.451Z"
   },
   {
    "duration": 103,
    "start_time": "2022-01-11T06:35:37.175Z"
   },
   {
    "duration": 97,
    "start_time": "2022-01-11T22:41:01.335Z"
   },
   {
    "duration": 94,
    "start_time": "2022-01-11T22:41:28.754Z"
   },
   {
    "duration": 648,
    "start_time": "2022-01-11T23:17:15.413Z"
   },
   {
    "duration": 1730,
    "start_time": "2022-01-11T23:17:16.064Z"
   },
   {
    "duration": 877,
    "start_time": "2022-01-12T20:36:59.392Z"
   },
   {
    "duration": 13957,
    "start_time": "2022-01-12T20:37:00.272Z"
   },
   {
    "duration": 933,
    "start_time": "2022-01-12T20:43:50.843Z"
   },
   {
    "duration": 895,
    "start_time": "2022-01-12T20:44:49.265Z"
   },
   {
    "duration": 631,
    "start_time": "2022-01-12T20:44:50.163Z"
   },
   {
    "duration": 1012,
    "start_time": "2022-01-12T20:45:41.048Z"
   },
   {
    "duration": 14002,
    "start_time": "2022-01-12T20:45:42.063Z"
   },
   {
    "duration": 936,
    "start_time": "2022-01-12T20:51:55.176Z"
   },
   {
    "duration": 1083,
    "start_time": "2022-01-12T20:54:59.244Z"
   },
   {
    "duration": 14266,
    "start_time": "2022-01-12T20:55:00.331Z"
   },
   {
    "duration": 880,
    "start_time": "2022-01-12T21:05:27.486Z"
   },
   {
    "duration": 15796,
    "start_time": "2022-01-12T21:05:28.370Z"
   },
   {
    "duration": 1912,
    "start_time": "2022-01-12T21:10:30.307Z"
   },
   {
    "duration": 15798,
    "start_time": "2022-01-12T21:10:32.222Z"
   },
   {
    "duration": 928,
    "start_time": "2022-01-12T21:25:46.636Z"
   },
   {
    "duration": 761,
    "start_time": "2022-01-12T21:25:47.572Z"
   },
   {
    "duration": 935,
    "start_time": "2022-01-12T21:28:08.264Z"
   },
   {
    "duration": 14411,
    "start_time": "2022-01-12T21:28:09.201Z"
   },
   {
    "duration": 891,
    "start_time": "2022-01-12T21:28:49.665Z"
   },
   {
    "duration": 14005,
    "start_time": "2022-01-12T21:28:50.560Z"
   },
   {
    "duration": 1002,
    "start_time": "2022-01-12T21:29:43.218Z"
   },
   {
    "duration": 634,
    "start_time": "2022-01-12T21:29:44.223Z"
   },
   {
    "duration": 864,
    "start_time": "2022-01-12T21:30:28.398Z"
   },
   {
    "duration": 14965,
    "start_time": "2022-01-12T21:30:29.266Z"
   },
   {
    "duration": 905,
    "start_time": "2022-01-12T21:31:47.557Z"
   },
   {
    "duration": 16741,
    "start_time": "2022-01-12T21:31:48.464Z"
   },
   {
    "duration": 942,
    "start_time": "2022-01-12T21:46:58.032Z"
   },
   {
    "duration": 10256,
    "start_time": "2022-01-12T21:46:58.976Z"
   },
   {
    "duration": 838,
    "start_time": "2022-01-12T21:48:11.510Z"
   },
   {
    "duration": 17646,
    "start_time": "2022-01-12T21:48:12.351Z"
   },
   {
    "duration": 913,
    "start_time": "2022-01-12T21:49:17.431Z"
   },
   {
    "duration": 15211,
    "start_time": "2022-01-12T21:49:18.348Z"
   },
   {
    "duration": 922,
    "start_time": "2022-01-12T21:51:39.727Z"
   },
   {
    "duration": 17498,
    "start_time": "2022-01-12T21:51:40.652Z"
   },
   {
    "duration": 1204,
    "start_time": "2022-01-12T21:58:13.295Z"
   },
   {
    "duration": 14758,
    "start_time": "2022-01-12T21:58:14.502Z"
   },
   {
    "duration": 960,
    "start_time": "2022-01-12T21:59:30.745Z"
   },
   {
    "duration": 16500,
    "start_time": "2022-01-12T21:59:31.713Z"
   },
   {
    "duration": 922,
    "start_time": "2022-01-12T22:00:24.441Z"
   },
   {
    "duration": 17177,
    "start_time": "2022-01-12T22:00:25.366Z"
   },
   {
    "duration": 856,
    "start_time": "2022-01-12T22:01:52.703Z"
   },
   {
    "duration": 16746,
    "start_time": "2022-01-12T22:01:53.562Z"
   },
   {
    "duration": 923,
    "start_time": "2022-01-12T22:03:10.841Z"
   },
   {
    "duration": 16677,
    "start_time": "2022-01-12T22:03:11.767Z"
   },
   {
    "duration": 925,
    "start_time": "2022-01-12T22:08:01.263Z"
   },
   {
    "duration": 8215,
    "start_time": "2022-01-12T22:08:02.191Z"
   },
   {
    "duration": 885,
    "start_time": "2022-01-12T22:09:09.399Z"
   },
   {
    "duration": 14208,
    "start_time": "2022-01-12T22:09:10.286Z"
   },
   {
    "duration": 926,
    "start_time": "2022-01-12T22:14:47.737Z"
   },
   {
    "duration": 14332,
    "start_time": "2022-01-12T22:14:48.667Z"
   },
   {
    "duration": 927,
    "start_time": "2022-01-12T22:17:47.690Z"
   },
   {
    "duration": 20942,
    "start_time": "2022-01-12T22:17:48.619Z"
   },
   {
    "duration": 909,
    "start_time": "2022-01-12T22:39:23.386Z"
   },
   {
    "duration": 13932,
    "start_time": "2022-01-12T22:39:24.297Z"
   },
   {
    "duration": 953,
    "start_time": "2022-01-12T22:44:37.817Z"
   },
   {
    "duration": 14376,
    "start_time": "2022-01-12T22:44:38.774Z"
   },
   {
    "duration": 936,
    "start_time": "2022-01-12T22:51:53.323Z"
   },
   {
    "duration": 14297,
    "start_time": "2022-01-12T22:51:54.262Z"
   },
   {
    "duration": 694,
    "start_time": "2022-01-12T22:52:59.820Z"
   },
   {
    "duration": 936,
    "start_time": "2022-01-12T22:57:37.128Z"
   },
   {
    "duration": 622,
    "start_time": "2022-01-12T22:57:38.067Z"
   },
   {
    "duration": 884,
    "start_time": "2022-01-12T23:04:33.310Z"
   },
   {
    "duration": 14269,
    "start_time": "2022-01-12T23:04:34.197Z"
   },
   {
    "duration": 957,
    "start_time": "2022-01-12T23:08:19.225Z"
   },
   {
    "duration": 17964,
    "start_time": "2022-01-12T23:08:20.184Z"
   },
   {
    "duration": 926,
    "start_time": "2022-01-12T23:10:02.585Z"
   },
   {
    "duration": 18093,
    "start_time": "2022-01-12T23:10:03.517Z"
   },
   {
    "duration": 974,
    "start_time": "2022-01-12T23:11:22.036Z"
   },
   {
    "duration": 17928,
    "start_time": "2022-01-12T23:11:23.013Z"
   },
   {
    "duration": 958,
    "start_time": "2022-01-12T23:13:23.538Z"
   },
   {
    "duration": 14089,
    "start_time": "2022-01-12T23:13:24.499Z"
   },
   {
    "duration": 924,
    "start_time": "2022-01-12T23:15:35.218Z"
   },
   {
    "duration": 14284,
    "start_time": "2022-01-12T23:15:36.144Z"
   },
   {
    "duration": 872,
    "start_time": "2022-01-12T23:17:34.392Z"
   },
   {
    "duration": 14132,
    "start_time": "2022-01-12T23:17:35.266Z"
   },
   {
    "duration": 131,
    "start_time": "2022-01-12T23:36:19.837Z"
   },
   {
    "duration": 116,
    "start_time": "2022-01-12T23:40:40.585Z"
   },
   {
    "duration": 3,
    "start_time": "2022-01-12T23:40:49.615Z"
   },
   {
    "duration": 682,
    "start_time": "2022-01-13T18:01:00.960Z"
   },
   {
    "duration": 4,
    "start_time": "2022-01-13T18:01:01.644Z"
   },
   {
    "duration": 386,
    "start_time": "2022-01-13T18:01:01.650Z"
   },
   {
    "duration": 603,
    "start_time": "2022-01-13T18:02:06.251Z"
   },
   {
    "duration": 2,
    "start_time": "2022-01-13T18:02:06.856Z"
   },
   {
    "duration": 9510,
    "start_time": "2022-01-13T18:02:06.860Z"
   },
   {
    "duration": 2,
    "start_time": "2022-01-13T18:08:29.011Z"
   },
   {
    "duration": 3,
    "start_time": "2022-01-13T18:08:35.074Z"
   },
   {
    "duration": 2,
    "start_time": "2022-01-13T18:16:00.748Z"
   },
   {
    "duration": 2,
    "start_time": "2022-01-13T18:16:03.806Z"
   },
   {
    "duration": 236,
    "start_time": "2022-01-13T18:18:41.396Z"
   },
   {
    "duration": 4,
    "start_time": "2022-01-13T18:21:19.577Z"
   },
   {
    "duration": 6,
    "start_time": "2022-01-13T18:28:45.216Z"
   },
   {
    "duration": 455,
    "start_time": "2022-01-13T22:29:06.002Z"
   },
   {
    "duration": 934,
    "start_time": "2022-01-13T22:29:22.834Z"
   },
   {
    "duration": 15079,
    "start_time": "2022-01-13T22:29:23.771Z"
   },
   {
    "duration": 512,
    "start_time": "2022-01-13T22:29:38.858Z"
   },
   {
    "duration": 8,
    "start_time": "2022-01-13T22:31:51.267Z"
   },
   {
    "duration": 10,
    "start_time": "2022-01-13T22:32:39.005Z"
   },
   {
    "duration": 135,
    "start_time": "2022-01-13T22:37:46.947Z"
   },
   {
    "duration": 130,
    "start_time": "2022-01-13T22:38:14.295Z"
   },
   {
    "duration": 132,
    "start_time": "2022-01-13T22:38:49.923Z"
   },
   {
    "duration": 130,
    "start_time": "2022-01-13T22:39:18.232Z"
   },
   {
    "duration": 1528,
    "start_time": "2022-01-13T22:43:28.687Z"
   },
   {
    "duration": 1574,
    "start_time": "2022-01-13T22:45:17.078Z"
   },
   {
    "duration": 970,
    "start_time": "2022-01-13T22:46:33.559Z"
   },
   {
    "duration": 15038,
    "start_time": "2022-01-13T22:46:34.532Z"
   },
   {
    "duration": 1674,
    "start_time": "2022-01-13T22:46:49.573Z"
   },
   {
    "duration": 139,
    "start_time": "2022-01-13T22:48:18.146Z"
   },
   {
    "duration": 11,
    "start_time": "2022-01-13T22:48:25.222Z"
   },
   {
    "duration": 33,
    "start_time": "2022-01-13T22:48:58.894Z"
   },
   {
    "duration": 430,
    "start_time": "2022-01-13T22:49:51.421Z"
   },
   {
    "duration": 395,
    "start_time": "2022-01-13T22:56:12.667Z"
   },
   {
    "duration": 1029,
    "start_time": "2022-01-13T23:00:11.317Z"
   },
   {
    "duration": 15385,
    "start_time": "2022-01-13T23:00:12.350Z"
   },
   {
    "duration": 2749,
    "start_time": "2022-01-13T23:00:24.989Z"
   },
   {
    "duration": 903,
    "start_time": "2022-01-13T23:01:06.049Z"
   },
   {
    "duration": 15386,
    "start_time": "2022-01-13T23:01:06.955Z"
   },
   {
    "duration": 498,
    "start_time": "2022-01-13T23:01:22.344Z"
   },
   {
    "duration": 985,
    "start_time": "2022-01-13T23:01:56.177Z"
   },
   {
    "duration": 15570,
    "start_time": "2022-01-13T23:01:57.165Z"
   },
   {
    "duration": 503,
    "start_time": "2022-01-13T23:02:12.737Z"
   },
   {
    "duration": 950,
    "start_time": "2022-01-13T23:03:11.359Z"
   },
   {
    "duration": 14816,
    "start_time": "2022-01-13T23:03:12.311Z"
   },
   {
    "duration": 27,
    "start_time": "2022-01-13T23:03:27.130Z"
   },
   {
    "duration": 996,
    "start_time": "2022-01-13T23:11:14.863Z"
   },
   {
    "duration": 15340,
    "start_time": "2022-01-13T23:11:15.862Z"
   },
   {
    "duration": 15,
    "start_time": "2022-01-13T23:11:31.205Z"
   },
   {
    "duration": 935,
    "start_time": "2022-01-13T23:17:14.636Z"
   },
   {
    "duration": 15261,
    "start_time": "2022-01-13T23:17:15.574Z"
   },
   {
    "duration": 21,
    "start_time": "2022-01-13T23:17:30.841Z"
   },
   {
    "duration": 8,
    "start_time": "2022-01-13T23:18:26.849Z"
   },
   {
    "duration": 9844,
    "start_time": "2022-01-13T23:18:52.952Z"
   },
   {
    "duration": 10,
    "start_time": "2022-01-13T23:19:39.341Z"
   },
   {
    "duration": 145,
    "start_time": "2022-01-13T23:38:54.402Z"
   },
   {
    "duration": 27,
    "start_time": "2022-01-14T00:32:25.243Z"
   },
   {
    "duration": 27,
    "start_time": "2022-01-14T00:44:10.923Z"
   },
   {
    "duration": 31,
    "start_time": "2022-01-14T00:51:29.576Z"
   },
   {
    "duration": 34,
    "start_time": "2022-01-14T00:52:10.817Z"
   },
   {
    "duration": 36,
    "start_time": "2022-01-14T01:18:38.893Z"
   },
   {
    "duration": 976,
    "start_time": "2022-01-14T01:32:18.885Z"
   },
   {
    "duration": 978,
    "start_time": "2022-01-14T01:33:19.293Z"
   },
   {
    "duration": 831,
    "start_time": "2022-01-14T22:28:27.275Z"
   },
   {
    "duration": 774,
    "start_time": "2022-01-14T22:28:40.124Z"
   },
   {
    "duration": 11468,
    "start_time": "2022-01-14T22:28:40.899Z"
   },
   {
    "duration": 11,
    "start_time": "2022-01-14T22:28:52.369Z"
   },
   {
    "duration": 631,
    "start_time": "2022-01-14T22:28:52.382Z"
   },
   {
    "duration": 270,
    "start_time": "2022-01-14T22:28:53.014Z"
   },
   {
    "duration": 281,
    "start_time": "2022-01-14T22:34:06.776Z"
   },
   {
    "duration": 448,
    "start_time": "2022-01-14T22:36:52.140Z"
   },
   {
    "duration": 288,
    "start_time": "2022-01-14T22:37:50.705Z"
   },
   {
    "duration": 435,
    "start_time": "2022-01-14T22:38:12.255Z"
   },
   {
    "duration": 665,
    "start_time": "2022-01-14T22:38:24.973Z"
   },
   {
    "duration": 154,
    "start_time": "2022-01-14T22:38:55.856Z"
   },
   {
    "duration": 295,
    "start_time": "2022-01-14T22:39:11.096Z"
   },
   {
    "duration": 293,
    "start_time": "2022-01-14T22:39:49.940Z"
   },
   {
    "duration": 667,
    "start_time": "2022-01-14T22:43:41.863Z"
   },
   {
    "duration": 923,
    "start_time": "2022-01-14T22:47:27.319Z"
   },
   {
    "duration": 1263,
    "start_time": "2022-01-14T22:48:39.319Z"
   },
   {
    "duration": 1452,
    "start_time": "2022-01-14T22:49:25.553Z"
   },
   {
    "duration": 1050,
    "start_time": "2022-01-14T22:49:42.221Z"
   },
   {
    "duration": 1138,
    "start_time": "2022-01-14T22:50:10.412Z"
   },
   {
    "duration": 1010,
    "start_time": "2022-01-14T22:51:54.587Z"
   },
   {
    "duration": 867,
    "start_time": "2022-01-14T22:52:14.710Z"
   },
   {
    "duration": 1339,
    "start_time": "2022-01-14T22:55:20.368Z"
   },
   {
    "duration": 420,
    "start_time": "2022-01-14T22:55:54.866Z"
   },
   {
    "duration": 546,
    "start_time": "2022-01-14T23:36:32.708Z"
   },
   {
    "duration": 424,
    "start_time": "2022-01-14T23:36:55.919Z"
   },
   {
    "duration": 595,
    "start_time": "2022-01-14T23:49:36.215Z"
   },
   {
    "duration": 576,
    "start_time": "2022-01-14T23:50:56.702Z"
   },
   {
    "duration": 656,
    "start_time": "2022-01-14T23:51:25.063Z"
   },
   {
    "duration": 8666,
    "start_time": "2022-01-14T23:51:25.720Z"
   },
   {
    "duration": 12,
    "start_time": "2022-01-14T23:51:34.388Z"
   },
   {
    "duration": 558,
    "start_time": "2022-01-14T23:51:34.401Z"
   },
   {
    "duration": 654,
    "start_time": "2022-01-14T23:51:34.961Z"
   },
   {
    "duration": 428,
    "start_time": "2022-01-14T23:52:20.659Z"
   },
   {
    "duration": 733,
    "start_time": "2022-01-14T23:53:23.943Z"
   },
   {
    "duration": 551,
    "start_time": "2022-01-14T23:53:41.672Z"
   },
   {
    "duration": 1175,
    "start_time": "2022-01-14T23:53:59.700Z"
   },
   {
    "duration": 1086,
    "start_time": "2022-01-14T23:54:11.967Z"
   },
   {
    "duration": 525,
    "start_time": "2022-01-14T23:54:28.666Z"
   },
   {
    "duration": 425,
    "start_time": "2022-01-14T23:59:43.773Z"
   },
   {
    "duration": 422,
    "start_time": "2022-01-14T23:59:56.963Z"
   },
   {
    "duration": 496,
    "start_time": "2022-01-15T00:00:49.155Z"
   },
   {
    "duration": 506,
    "start_time": "2022-01-15T00:01:30.721Z"
   },
   {
    "duration": 434,
    "start_time": "2022-01-15T00:02:50.267Z"
   },
   {
    "duration": 656,
    "start_time": "2022-01-15T00:04:38.874Z"
   },
   {
    "duration": 600,
    "start_time": "2022-01-15T00:05:16.822Z"
   },
   {
    "duration": 682,
    "start_time": "2022-01-15T00:05:44.631Z"
   },
   {
    "duration": 8799,
    "start_time": "2022-01-15T00:05:45.315Z"
   },
   {
    "duration": 20,
    "start_time": "2022-01-15T00:05:54.116Z"
   },
   {
    "duration": 562,
    "start_time": "2022-01-15T00:05:54.138Z"
   },
   {
    "duration": 748,
    "start_time": "2022-01-15T00:05:54.702Z"
   },
   {
    "duration": 426,
    "start_time": "2022-01-15T00:06:31.679Z"
   },
   {
    "duration": 552,
    "start_time": "2022-01-15T00:07:08.332Z"
   },
   {
    "duration": 615,
    "start_time": "2022-01-15T00:08:38.854Z"
   },
   {
    "duration": 656,
    "start_time": "2022-01-15T14:05:47.713Z"
   },
   {
    "duration": 9653,
    "start_time": "2022-01-15T14:05:48.371Z"
   },
   {
    "duration": 14,
    "start_time": "2022-01-15T14:05:58.026Z"
   },
   {
    "duration": 607,
    "start_time": "2022-01-15T14:05:58.042Z"
   },
   {
    "duration": 741,
    "start_time": "2022-01-15T14:05:58.651Z"
   },
   {
    "duration": 600,
    "start_time": "2022-01-15T14:08:18.687Z"
   },
   {
    "duration": 7,
    "start_time": "2022-01-15T14:09:10.626Z"
   },
   {
    "duration": 587,
    "start_time": "2022-01-15T14:09:30.610Z"
   },
   {
    "duration": 712,
    "start_time": "2022-01-15T14:12:50.451Z"
   },
   {
    "duration": 477,
    "start_time": "2022-01-15T14:13:39.112Z"
   },
   {
    "duration": 487,
    "start_time": "2022-01-15T14:21:57.974Z"
   },
   {
    "duration": 545,
    "start_time": "2022-01-15T14:23:35.971Z"
   },
   {
    "duration": 6762,
    "start_time": "2022-01-15T15:30:45.137Z"
   },
   {
    "duration": 7121,
    "start_time": "2022-01-15T15:31:02.799Z"
   },
   {
    "duration": 7897,
    "start_time": "2022-01-15T15:33:01.424Z"
   },
   {
    "duration": 727,
    "start_time": "2022-01-15T15:33:35.031Z"
   },
   {
    "duration": 9903,
    "start_time": "2022-01-15T15:33:35.760Z"
   },
   {
    "duration": 13,
    "start_time": "2022-01-15T15:33:45.665Z"
   },
   {
    "duration": 621,
    "start_time": "2022-01-15T15:33:45.680Z"
   },
   {
    "duration": 7323,
    "start_time": "2022-01-15T15:33:46.303Z"
   },
   {
    "duration": 81,
    "start_time": "2022-01-15T15:39:29.160Z"
   },
   {
    "duration": 686,
    "start_time": "2022-01-15T15:40:09.942Z"
   },
   {
    "duration": 902,
    "start_time": "2022-01-15T16:01:17.020Z"
   },
   {
    "duration": 960,
    "start_time": "2022-01-15T16:37:58.567Z"
   },
   {
    "duration": 1224,
    "start_time": "2022-01-15T16:38:56.503Z"
   },
   {
    "duration": 1035,
    "start_time": "2022-01-15T16:39:40.856Z"
   },
   {
    "duration": 1181,
    "start_time": "2022-01-15T17:42:10.244Z"
   },
   {
    "duration": 1013,
    "start_time": "2022-01-15T17:43:26.616Z"
   },
   {
    "duration": 36,
    "start_time": "2022-01-15T21:54:14.442Z"
   },
   {
    "duration": 641,
    "start_time": "2022-01-15T22:06:26.515Z"
   },
   {
    "duration": 9281,
    "start_time": "2022-01-15T22:06:27.158Z"
   },
   {
    "duration": 40,
    "start_time": "2022-01-15T22:06:36.441Z"
   },
   {
    "duration": 617,
    "start_time": "2022-01-15T22:06:36.483Z"
   },
   {
    "duration": 1099,
    "start_time": "2022-01-15T22:06:37.101Z"
   },
   {
    "duration": 1370,
    "start_time": "2022-01-15T23:03:40.551Z"
   },
   {
    "duration": 1227,
    "start_time": "2022-01-15T23:04:15.944Z"
   },
   {
    "duration": 3,
    "start_time": "2022-01-15T23:47:47.585Z"
   },
   {
    "duration": 2,
    "start_time": "2022-01-15T23:53:56.968Z"
   },
   {
    "duration": 314,
    "start_time": "2022-01-15T23:56:36.555Z"
   },
   {
    "duration": 341,
    "start_time": "2022-01-16T00:30:13.633Z"
   },
   {
    "duration": 382,
    "start_time": "2022-01-16T00:33:12.463Z"
   },
   {
    "duration": 708,
    "start_time": "2022-01-16T00:49:18.354Z"
   },
   {
    "duration": 9247,
    "start_time": "2022-01-16T00:49:19.064Z"
   },
   {
    "duration": 49,
    "start_time": "2022-01-16T00:49:28.314Z"
   },
   {
    "duration": 681,
    "start_time": "2022-01-16T00:49:28.365Z"
   },
   {
    "duration": 880,
    "start_time": "2022-01-16T00:49:29.048Z"
   },
   {
    "duration": 330,
    "start_time": "2022-01-16T00:49:29.930Z"
   },
   {
    "duration": 127,
    "start_time": "2022-01-16T01:55:38.289Z"
   },
   {
    "duration": 854,
    "start_time": "2022-01-16T01:55:59.141Z"
   },
   {
    "duration": 989,
    "start_time": "2022-01-16T02:00:03.881Z"
   },
   {
    "duration": 613,
    "start_time": "2022-01-16T02:14:40.472Z"
   },
   {
    "duration": 871,
    "start_time": "2022-01-16T02:18:13.039Z"
   },
   {
    "duration": 242,
    "start_time": "2022-01-16T02:43:07.360Z"
   },
   {
    "duration": 258,
    "start_time": "2022-01-16T02:44:32.758Z"
   },
   {
    "duration": 6,
    "start_time": "2022-01-16T02:47:01.227Z"
   },
   {
    "duration": 270,
    "start_time": "2022-01-16T02:50:07.244Z"
   },
   {
    "duration": 702,
    "start_time": "2022-01-16T02:50:58.431Z"
   },
   {
    "duration": 9369,
    "start_time": "2022-01-16T02:50:59.135Z"
   },
   {
    "duration": 33,
    "start_time": "2022-01-16T02:51:08.506Z"
   },
   {
    "duration": 620,
    "start_time": "2022-01-16T02:51:08.541Z"
   },
   {
    "duration": 942,
    "start_time": "2022-01-16T02:51:09.163Z"
   },
   {
    "duration": 333,
    "start_time": "2022-01-16T02:51:10.107Z"
   },
   {
    "duration": 4,
    "start_time": "2022-01-16T02:51:10.441Z"
   },
   {
    "duration": 312,
    "start_time": "2022-01-16T02:51:58.239Z"
   },
   {
    "duration": 254,
    "start_time": "2022-01-16T02:54:03.470Z"
   },
   {
    "duration": 251,
    "start_time": "2022-01-16T02:57:41.224Z"
   },
   {
    "duration": 84,
    "start_time": "2022-01-16T02:59:43.976Z"
   },
   {
    "duration": 81,
    "start_time": "2022-01-16T03:00:16.440Z"
   },
   {
    "duration": 112,
    "start_time": "2022-01-16T03:00:36.580Z"
   },
   {
    "duration": 263,
    "start_time": "2022-01-16T03:01:12.997Z"
   },
   {
    "duration": 282,
    "start_time": "2022-01-16T03:02:21.774Z"
   },
   {
    "duration": 28,
    "start_time": "2022-01-16T03:03:40.145Z"
   },
   {
    "duration": 35,
    "start_time": "2022-01-16T03:04:13.135Z"
   },
   {
    "duration": 41,
    "start_time": "2022-01-16T03:06:18.540Z"
   },
   {
    "duration": 38,
    "start_time": "2022-01-16T03:06:55.001Z"
   },
   {
    "duration": 294,
    "start_time": "2022-01-16T03:07:00.732Z"
   },
   {
    "duration": 278,
    "start_time": "2022-01-16T03:09:07.761Z"
   },
   {
    "duration": 40,
    "start_time": "2022-01-16T03:09:16.118Z"
   },
   {
    "duration": 54,
    "start_time": "2022-01-16T03:09:56.964Z"
   },
   {
    "duration": 44,
    "start_time": "2022-01-16T03:10:54.692Z"
   },
   {
    "duration": 293,
    "start_time": "2022-01-16T03:14:04.138Z"
   },
   {
    "duration": 274,
    "start_time": "2022-01-16T03:15:33.408Z"
   },
   {
    "duration": 44,
    "start_time": "2022-01-16T03:16:02.223Z"
   },
   {
    "duration": 273,
    "start_time": "2022-01-16T03:17:59.758Z"
   },
   {
    "duration": 42,
    "start_time": "2022-01-16T03:18:12.516Z"
   },
   {
    "duration": 348,
    "start_time": "2022-01-16T12:34:21.312Z"
   },
   {
    "duration": 917,
    "start_time": "2022-01-16T12:34:38.153Z"
   },
   {
    "duration": 15116,
    "start_time": "2022-01-16T12:34:39.076Z"
   },
   {
    "duration": 52,
    "start_time": "2022-01-16T12:34:54.195Z"
   },
   {
    "duration": 1093,
    "start_time": "2022-01-16T12:34:54.268Z"
   },
   {
    "duration": 1668,
    "start_time": "2022-01-16T12:34:55.367Z"
   },
   {
    "duration": 596,
    "start_time": "2022-01-16T12:34:57.038Z"
   },
   {
    "duration": 80,
    "start_time": "2022-01-16T12:34:57.637Z"
   },
   {
    "duration": 38,
    "start_time": "2022-01-16T13:00:39.138Z"
   },
   {
    "duration": 37,
    "start_time": "2022-01-16T15:02:41.204Z"
   },
   {
    "duration": 39,
    "start_time": "2022-01-16T15:04:56.517Z"
   },
   {
    "duration": 384,
    "start_time": "2022-01-16T15:44:08.009Z"
   },
   {
    "duration": 934,
    "start_time": "2022-01-16T15:44:42.934Z"
   },
   {
    "duration": 17430,
    "start_time": "2022-01-16T15:44:43.871Z"
   },
   {
    "duration": 79,
    "start_time": "2022-01-16T15:45:01.304Z"
   },
   {
    "duration": 1098,
    "start_time": "2022-01-16T15:45:01.391Z"
   },
   {
    "duration": 2475,
    "start_time": "2022-01-16T15:45:02.492Z"
   },
   {
    "duration": 756,
    "start_time": "2022-01-16T15:45:04.971Z"
   },
   {
    "duration": 78,
    "start_time": "2022-01-16T15:45:05.730Z"
   },
   {
    "duration": 583,
    "start_time": "2022-01-16T15:45:05.640Z"
   },
   {
    "duration": 496,
    "start_time": "2022-01-16T15:45:12.176Z"
   },
   {
    "duration": 474,
    "start_time": "2022-01-16T15:46:47.149Z"
   },
   {
    "duration": 140,
    "start_time": "2022-01-16T15:55:09.566Z"
   },
   {
    "duration": 962,
    "start_time": "2022-01-16T15:55:27.676Z"
   },
   {
    "duration": 18077,
    "start_time": "2022-01-16T15:55:28.641Z"
   },
   {
    "duration": 78,
    "start_time": "2022-01-16T15:55:46.722Z"
   },
   {
    "duration": 1186,
    "start_time": "2022-01-16T15:55:46.805Z"
   },
   {
    "duration": 1955,
    "start_time": "2022-01-16T15:55:47.993Z"
   },
   {
    "duration": 792,
    "start_time": "2022-01-16T15:55:49.951Z"
   },
   {
    "duration": 69,
    "start_time": "2022-01-16T15:55:50.745Z"
   },
   {
    "duration": 381,
    "start_time": "2022-01-16T15:55:50.819Z"
   },
   {
    "duration": 39,
    "start_time": "2022-01-16T15:59:10.830Z"
   },
   {
    "duration": 51,
    "start_time": "2022-01-16T16:04:13.055Z"
   },
   {
    "duration": 51,
    "start_time": "2022-01-16T16:07:07.732Z"
   },
   {
    "duration": 45,
    "start_time": "2022-01-16T16:08:01.725Z"
   },
   {
    "duration": 49,
    "start_time": "2022-01-16T16:09:29.239Z"
   },
   {
    "duration": 334,
    "start_time": "2022-01-16T16:12:39.574Z"
   },
   {
    "duration": 49,
    "start_time": "2022-01-16T16:24:46.826Z"
   },
   {
    "duration": 942,
    "start_time": "2022-01-16T16:24:55.318Z"
   },
   {
    "duration": 15973,
    "start_time": "2022-01-16T16:24:56.268Z"
   },
   {
    "duration": 64,
    "start_time": "2022-01-16T16:25:12.244Z"
   },
   {
    "duration": 1127,
    "start_time": "2022-01-16T16:25:12.312Z"
   },
   {
    "duration": 1816,
    "start_time": "2022-01-16T16:25:13.442Z"
   },
   {
    "duration": 612,
    "start_time": "2022-01-16T16:25:15.268Z"
   },
   {
    "duration": 492,
    "start_time": "2022-01-16T16:25:15.884Z"
   },
   {
    "duration": 620,
    "start_time": "2022-01-16T16:25:15.759Z"
   },
   {
    "duration": 319,
    "start_time": "2022-01-16T16:25:24.208Z"
   },
   {
    "duration": 1055,
    "start_time": "2022-01-16T16:25:45.568Z"
   },
   {
    "duration": 16679,
    "start_time": "2022-01-16T16:25:46.626Z"
   },
   {
    "duration": 68,
    "start_time": "2022-01-16T16:26:03.308Z"
   },
   {
    "duration": 1107,
    "start_time": "2022-01-16T16:26:03.379Z"
   },
   {
    "duration": 1714,
    "start_time": "2022-01-16T16:26:04.489Z"
   },
   {
    "duration": 610,
    "start_time": "2022-01-16T16:26:06.205Z"
   },
   {
    "duration": 70,
    "start_time": "2022-01-16T16:26:06.818Z"
   },
   {
    "duration": 390,
    "start_time": "2022-01-16T16:26:06.891Z"
   },
   {
    "duration": 321,
    "start_time": "2022-01-16T16:27:54.107Z"
   },
   {
    "duration": 339,
    "start_time": "2022-01-16T16:35:35.587Z"
   },
   {
    "duration": 343,
    "start_time": "2022-01-16T16:42:47.020Z"
   },
   {
    "duration": 942,
    "start_time": "2022-01-16T21:53:06.450Z"
   },
   {
    "duration": 14926,
    "start_time": "2022-01-16T21:53:07.395Z"
   },
   {
    "duration": 65,
    "start_time": "2022-01-16T21:53:22.323Z"
   },
   {
    "duration": 1745,
    "start_time": "2022-01-16T21:53:22.391Z"
   },
   {
    "duration": 1503,
    "start_time": "2022-01-16T21:53:24.139Z"
   },
   {
    "duration": 664,
    "start_time": "2022-01-16T21:53:25.644Z"
   },
   {
    "duration": 61,
    "start_time": "2022-01-16T21:53:26.310Z"
   },
   {
    "duration": 340,
    "start_time": "2022-01-16T21:53:26.375Z"
   },
   {
    "duration": 1079,
    "start_time": "2022-01-16T21:57:45.526Z"
   },
   {
    "duration": 354,
    "start_time": "2022-01-16T22:16:25.650Z"
   },
   {
    "duration": 342,
    "start_time": "2022-01-16T22:18:16.928Z"
   },
   {
    "duration": 340,
    "start_time": "2022-01-16T22:19:15.551Z"
   },
   {
    "duration": 96,
    "start_time": "2022-01-16T22:50:29.633Z"
   },
   {
    "duration": 743,
    "start_time": "2022-01-16T22:50:53.389Z"
   },
   {
    "duration": 1058,
    "start_time": "2022-01-16T22:51:41.120Z"
   },
   {
    "duration": 952,
    "start_time": "2022-01-16T22:53:23.428Z"
   },
   {
    "duration": 937,
    "start_time": "2022-01-16T22:54:27.633Z"
   },
   {
    "duration": 1209,
    "start_time": "2022-01-16T22:56:55.630Z"
   },
   {
    "duration": 100,
    "start_time": "2022-01-16T22:57:37.172Z"
   },
   {
    "duration": 966,
    "start_time": "2022-01-16T22:58:00.679Z"
   },
   {
    "duration": 946,
    "start_time": "2022-01-16T22:58:41.937Z"
   },
   {
    "duration": 2045,
    "start_time": "2022-01-16T23:13:34.037Z"
   },
   {
    "duration": 1752,
    "start_time": "2022-01-16T23:14:51.892Z"
   },
   {
    "duration": 1592,
    "start_time": "2022-01-16T23:21:11.929Z"
   },
   {
    "duration": 1706,
    "start_time": "2022-01-16T23:23:10.151Z"
   },
   {
    "duration": 8784,
    "start_time": "2022-01-16T23:52:41.073Z"
   },
   {
    "duration": 2214,
    "start_time": "2022-01-16T23:55:08.335Z"
   },
   {
    "duration": 2714,
    "start_time": "2022-01-17T00:19:08.613Z"
   },
   {
    "duration": 2755,
    "start_time": "2022-01-17T00:20:00.953Z"
   },
   {
    "duration": 2781,
    "start_time": "2022-01-17T00:21:51.544Z"
   },
   {
    "duration": 2737,
    "start_time": "2022-01-17T00:26:57.918Z"
   },
   {
    "duration": 2636,
    "start_time": "2022-01-17T00:30:36.631Z"
   },
   {
    "duration": 3225,
    "start_time": "2022-01-17T00:48:36.386Z"
   },
   {
    "duration": 3145,
    "start_time": "2022-01-17T00:49:54.660Z"
   },
   {
    "duration": 2586,
    "start_time": "2022-01-17T00:50:28.005Z"
   },
   {
    "duration": 3075,
    "start_time": "2022-01-17T00:54:57.177Z"
   },
   {
    "duration": 2892,
    "start_time": "2022-01-17T00:55:40.581Z"
   },
   {
    "duration": 3124,
    "start_time": "2022-01-17T00:59:19.561Z"
   },
   {
    "duration": 2860,
    "start_time": "2022-01-17T01:13:22.822Z"
   },
   {
    "duration": 11,
    "start_time": "2022-01-17T01:48:45.039Z"
   },
   {
    "duration": 8,
    "start_time": "2022-01-17T01:49:59.209Z"
   },
   {
    "duration": 84,
    "start_time": "2022-01-17T02:04:21.068Z"
   },
   {
    "duration": 7327,
    "start_time": "2022-01-17T02:15:57.271Z"
   },
   {
    "duration": 94,
    "start_time": "2022-01-17T02:16:42.531Z"
   },
   {
    "duration": 355,
    "start_time": "2022-01-17T02:17:39.405Z"
   },
   {
    "duration": 87,
    "start_time": "2022-01-17T02:18:16.780Z"
   },
   {
    "duration": 98,
    "start_time": "2022-01-17T02:21:35.079Z"
   },
   {
    "duration": 3,
    "start_time": "2022-01-17T02:27:30.012Z"
   },
   {
    "duration": 3,
    "start_time": "2022-01-17T02:27:33.362Z"
   },
   {
    "duration": 105,
    "start_time": "2022-01-17T15:56:45.674Z"
   },
   {
    "duration": 724,
    "start_time": "2022-01-17T15:57:13.499Z"
   },
   {
    "duration": 8559,
    "start_time": "2022-01-17T15:57:14.225Z"
   },
   {
    "duration": 44,
    "start_time": "2022-01-17T15:57:22.786Z"
   },
   {
    "duration": 569,
    "start_time": "2022-01-17T15:57:22.832Z"
   },
   {
    "duration": 862,
    "start_time": "2022-01-17T15:57:23.403Z"
   },
   {
    "duration": 320,
    "start_time": "2022-01-17T15:57:24.267Z"
   },
   {
    "duration": 40,
    "start_time": "2022-01-17T15:57:24.589Z"
   },
   {
    "duration": 1833,
    "start_time": "2022-01-17T15:57:24.632Z"
   },
   {
    "duration": 64,
    "start_time": "2022-01-17T15:57:26.466Z"
   },
   {
    "duration": 101,
    "start_time": "2022-01-17T15:57:26.531Z"
   },
   {
    "duration": 104,
    "start_time": "2022-01-17T15:57:52.771Z"
   },
   {
    "duration": 110,
    "start_time": "2022-01-17T15:58:10.072Z"
   },
   {
    "duration": 564,
    "start_time": "2022-01-17T16:16:13.049Z"
   },
   {
    "duration": 60,
    "start_time": "2022-01-17T16:16:29.975Z"
   },
   {
    "duration": 54,
    "start_time": "2022-01-17T16:29:57.417Z"
   },
   {
    "duration": 307,
    "start_time": "2022-01-17T16:33:50.016Z"
   },
   {
    "duration": 162,
    "start_time": "2022-01-17T16:34:24.233Z"
   },
   {
    "duration": 4,
    "start_time": "2022-01-17T22:41:30.548Z"
   },
   {
    "duration": 3,
    "start_time": "2022-01-17T22:51:45.952Z"
   },
   {
    "duration": 3,
    "start_time": "2022-01-17T23:03:25.555Z"
   },
   {
    "duration": 308,
    "start_time": "2022-01-17T23:32:19.197Z"
   },
   {
    "duration": 876,
    "start_time": "2022-01-17T23:32:36.630Z"
   },
   {
    "duration": 14053,
    "start_time": "2022-01-17T23:32:37.509Z"
   },
   {
    "duration": 71,
    "start_time": "2022-01-17T23:32:51.569Z"
   },
   {
    "duration": 1079,
    "start_time": "2022-01-17T23:32:51.642Z"
   },
   {
    "duration": 1617,
    "start_time": "2022-01-17T23:32:52.724Z"
   },
   {
    "duration": 541,
    "start_time": "2022-01-17T23:32:54.343Z"
   },
   {
    "duration": 65,
    "start_time": "2022-01-17T23:32:54.888Z"
   },
   {
    "duration": 2891,
    "start_time": "2022-01-17T23:32:54.956Z"
   },
   {
    "duration": 107,
    "start_time": "2022-01-17T23:32:57.850Z"
   },
   {
    "duration": 6450,
    "start_time": "2022-01-17T23:32:57.959Z"
   },
   {
    "duration": 15,
    "start_time": "2022-01-17T23:35:31.649Z"
   },
   {
    "duration": 15,
    "start_time": "2022-01-17T23:40:29.958Z"
   },
   {
    "duration": 32,
    "start_time": "2022-01-18T00:15:47.889Z"
   },
   {
    "duration": 6183,
    "start_time": "2022-01-18T00:30:41.273Z"
   },
   {
    "duration": 282,
    "start_time": "2022-01-18T00:33:01.908Z"
   },
   {
    "duration": 252,
    "start_time": "2022-01-18T00:33:49.793Z"
   },
   {
    "duration": 277,
    "start_time": "2022-01-18T00:34:46.004Z"
   },
   {
    "duration": 272,
    "start_time": "2022-01-18T00:34:57.500Z"
   },
   {
    "duration": 269,
    "start_time": "2022-01-18T00:41:27.149Z"
   },
   {
    "duration": 404,
    "start_time": "2022-01-18T01:04:15.055Z"
   },
   {
    "duration": 273,
    "start_time": "2022-01-18T01:25:05.308Z"
   },
   {
    "duration": 278,
    "start_time": "2022-01-18T01:33:27.316Z"
   },
   {
    "duration": 275,
    "start_time": "2022-01-18T01:34:08.593Z"
   },
   {
    "duration": 274,
    "start_time": "2022-01-18T01:34:23.208Z"
   },
   {
    "duration": 33,
    "start_time": "2022-01-18T03:11:41.593Z"
   },
   {
    "duration": 10,
    "start_time": "2022-01-18T03:12:32.706Z"
   },
   {
    "duration": 15,
    "start_time": "2022-01-18T03:12:59.876Z"
   },
   {
    "duration": 1433,
    "start_time": "2022-01-18T03:27:17.342Z"
   },
   {
    "duration": 1425,
    "start_time": "2022-01-18T03:30:12.650Z"
   },
   {
    "duration": 1460,
    "start_time": "2022-01-18T03:34:38.915Z"
   },
   {
    "duration": 1393,
    "start_time": "2022-01-18T03:39:15.788Z"
   },
   {
    "duration": 1500,
    "start_time": "2022-01-18T03:44:11.936Z"
   },
   {
    "duration": 1369,
    "start_time": "2022-01-18T03:48:25.306Z"
   },
   {
    "duration": 3652,
    "start_time": "2022-01-18T03:59:06.373Z"
   },
   {
    "duration": 3290,
    "start_time": "2022-01-18T04:25:53.153Z"
   },
   {
    "duration": 3261,
    "start_time": "2022-01-18T04:30:54.858Z"
   },
   {
    "duration": 3307,
    "start_time": "2022-01-18T04:36:18.242Z"
   },
   {
    "duration": 3429,
    "start_time": "2022-01-18T04:45:13.815Z"
   },
   {
    "duration": 3259,
    "start_time": "2022-01-18T04:46:45.010Z"
   },
   {
    "duration": 2876,
    "start_time": "2022-01-18T04:48:06.191Z"
   },
   {
    "duration": 3300,
    "start_time": "2022-01-18T04:55:09.657Z"
   },
   {
    "duration": 912,
    "start_time": "2022-01-18T06:38:10.160Z"
   },
   {
    "duration": 14344,
    "start_time": "2022-01-18T06:38:11.075Z"
   },
   {
    "duration": 61,
    "start_time": "2022-01-18T06:38:25.422Z"
   },
   {
    "duration": 1049,
    "start_time": "2022-01-18T06:38:25.485Z"
   },
   {
    "duration": 1742,
    "start_time": "2022-01-18T06:38:26.536Z"
   },
   {
    "duration": 533,
    "start_time": "2022-01-18T06:38:28.280Z"
   },
   {
    "duration": 64,
    "start_time": "2022-01-18T06:38:28.816Z"
   },
   {
    "duration": 3015,
    "start_time": "2022-01-18T06:38:28.883Z"
   },
   {
    "duration": 106,
    "start_time": "2022-01-18T06:38:31.901Z"
   },
   {
    "duration": 303,
    "start_time": "2022-01-18T06:38:32.010Z"
   },
   {
    "duration": 3329,
    "start_time": "2022-01-18T06:38:32.317Z"
   },
   {
    "duration": 836,
    "start_time": "2022-01-18T06:40:32.144Z"
   },
   {
    "duration": 13867,
    "start_time": "2022-01-18T06:40:32.986Z"
   },
   {
    "duration": 48,
    "start_time": "2022-01-18T06:40:46.857Z"
   },
   {
    "duration": 1068,
    "start_time": "2022-01-18T06:40:46.908Z"
   },
   {
    "duration": 1555,
    "start_time": "2022-01-18T06:40:47.980Z"
   },
   {
    "duration": 527,
    "start_time": "2022-01-18T06:40:49.537Z"
   },
   {
    "duration": 66,
    "start_time": "2022-01-18T06:40:50.066Z"
   },
   {
    "duration": 2900,
    "start_time": "2022-01-18T06:40:50.136Z"
   },
   {
    "duration": 105,
    "start_time": "2022-01-18T06:40:53.039Z"
   },
   {
    "duration": 304,
    "start_time": "2022-01-18T06:40:53.147Z"
   },
   {
    "duration": 3328,
    "start_time": "2022-01-18T06:40:53.453Z"
   },
   {
    "duration": 927,
    "start_time": "2022-01-21T12:23:41.195Z"
   },
   {
    "duration": 14676,
    "start_time": "2022-01-21T12:23:42.125Z"
   },
   {
    "duration": 66,
    "start_time": "2022-01-21T12:23:56.804Z"
   },
   {
    "duration": 1050,
    "start_time": "2022-01-21T12:23:56.873Z"
   },
   {
    "duration": 1548,
    "start_time": "2022-01-21T12:23:57.925Z"
   },
   {
    "duration": 538,
    "start_time": "2022-01-21T12:23:59.475Z"
   },
   {
    "duration": 68,
    "start_time": "2022-01-21T12:24:00.016Z"
   },
   {
    "duration": 3007,
    "start_time": "2022-01-21T12:24:00.087Z"
   },
   {
    "duration": 108,
    "start_time": "2022-01-21T12:24:03.097Z"
   },
   {
    "duration": 306,
    "start_time": "2022-01-21T12:24:03.208Z"
   },
   {
    "duration": 3410,
    "start_time": "2022-01-21T12:24:03.516Z"
   },
   {
    "duration": 710,
    "start_time": "2022-01-22T22:36:15.727Z"
   },
   {
    "duration": 9251,
    "start_time": "2022-01-22T22:36:16.439Z"
   },
   {
    "duration": 33,
    "start_time": "2022-01-22T22:36:25.693Z"
   },
   {
    "duration": 648,
    "start_time": "2022-01-22T22:36:25.729Z"
   },
   {
    "duration": 974,
    "start_time": "2022-01-22T22:36:26.379Z"
   },
   {
    "duration": 342,
    "start_time": "2022-01-22T22:36:27.355Z"
   },
   {
    "duration": 38,
    "start_time": "2022-01-22T22:36:27.699Z"
   },
   {
    "duration": 2050,
    "start_time": "2022-01-22T22:36:27.740Z"
   },
   {
    "duration": 72,
    "start_time": "2022-01-22T22:36:29.791Z"
   },
   {
    "duration": 182,
    "start_time": "2022-01-22T22:36:29.865Z"
   },
   {
    "duration": 2224,
    "start_time": "2022-01-22T22:36:30.049Z"
   },
   {
    "duration": 2169,
    "start_time": "2022-01-22T23:25:37.328Z"
   },
   {
    "duration": 1936,
    "start_time": "2022-01-22T23:54:33.395Z"
   },
   {
    "duration": 815,
    "start_time": "2022-01-23T00:11:25.538Z"
   },
   {
    "duration": 86,
    "start_time": "2022-01-23T00:35:53.211Z"
   },
   {
    "duration": 733,
    "start_time": "2022-01-23T00:36:07.671Z"
   },
   {
    "duration": 633,
    "start_time": "2022-01-23T00:36:27.707Z"
   },
   {
    "duration": 702,
    "start_time": "2022-01-23T00:37:08.150Z"
   },
   {
    "duration": 941,
    "start_time": "2022-01-23T00:42:10.366Z"
   },
   {
    "duration": 823,
    "start_time": "2022-01-23T00:43:29.018Z"
   },
   {
    "duration": 717,
    "start_time": "2022-01-23T00:50:41.531Z"
   },
   {
    "duration": 880,
    "start_time": "2022-01-23T00:53:07.096Z"
   },
   {
    "duration": 566,
    "start_time": "2022-01-23T00:54:28.418Z"
   },
   {
    "duration": 690,
    "start_time": "2022-01-23T00:56:13.389Z"
   },
   {
    "duration": 668,
    "start_time": "2022-01-23T00:57:38.385Z"
   },
   {
    "duration": 628,
    "start_time": "2022-01-23T01:00:40.647Z"
   },
   {
    "duration": 600,
    "start_time": "2022-01-23T01:04:18.270Z"
   },
   {
    "duration": 827,
    "start_time": "2022-01-23T01:06:02.784Z"
   },
   {
    "duration": 1032,
    "start_time": "2022-01-23T01:08:06.314Z"
   },
   {
    "duration": 627,
    "start_time": "2022-01-23T01:08:55.287Z"
   },
   {
    "duration": 602,
    "start_time": "2022-01-23T01:12:15.369Z"
   },
   {
    "duration": 613,
    "start_time": "2022-01-23T01:12:54.886Z"
   },
   {
    "duration": 624,
    "start_time": "2022-01-23T01:14:01.865Z"
   },
   {
    "duration": 688,
    "start_time": "2022-01-23T01:16:16.157Z"
   },
   {
    "duration": 8957,
    "start_time": "2022-01-23T01:16:16.847Z"
   },
   {
    "duration": 39,
    "start_time": "2022-01-23T01:16:25.806Z"
   },
   {
    "duration": 619,
    "start_time": "2022-01-23T01:16:25.847Z"
   },
   {
    "duration": 1013,
    "start_time": "2022-01-23T01:16:26.468Z"
   },
   {
    "duration": 335,
    "start_time": "2022-01-23T01:16:27.482Z"
   },
   {
    "duration": 41,
    "start_time": "2022-01-23T01:16:27.819Z"
   },
   {
    "duration": 1934,
    "start_time": "2022-01-23T01:16:27.863Z"
   },
   {
    "duration": 67,
    "start_time": "2022-01-23T01:16:29.799Z"
   },
   {
    "duration": 180,
    "start_time": "2022-01-23T01:16:29.867Z"
   },
   {
    "duration": 528,
    "start_time": "2022-01-23T01:16:30.048Z"
   },
   {
    "duration": 860,
    "start_time": "2022-01-23T01:19:13.430Z"
   },
   {
    "duration": 725,
    "start_time": "2022-01-23T01:21:54.468Z"
   },
   {
    "duration": 656,
    "start_time": "2022-01-23T01:22:14.716Z"
   },
   {
    "duration": 671,
    "start_time": "2022-01-23T01:23:17.920Z"
   },
   {
    "duration": 876,
    "start_time": "2022-01-23T01:23:52.060Z"
   },
   {
    "duration": 940,
    "start_time": "2022-01-23T01:24:09.826Z"
   },
   {
    "duration": 902,
    "start_time": "2022-01-23T01:41:50.664Z"
   },
   {
    "duration": 785,
    "start_time": "2022-01-23T02:01:33.312Z"
   },
   {
    "duration": 1038,
    "start_time": "2022-01-23T02:05:04.171Z"
   },
   {
    "duration": 945,
    "start_time": "2022-01-23T02:06:38.881Z"
   },
   {
    "duration": 100,
    "start_time": "2022-01-23T02:08:28.948Z"
   },
   {
    "duration": 88,
    "start_time": "2022-01-23T02:09:59.801Z"
   },
   {
    "duration": 89,
    "start_time": "2022-01-23T02:12:14.925Z"
   },
   {
    "duration": 90,
    "start_time": "2022-01-23T02:13:38.168Z"
   },
   {
    "duration": 85,
    "start_time": "2022-01-23T02:21:47.591Z"
   },
   {
    "duration": 120,
    "start_time": "2022-01-23T02:21:52.841Z"
   },
   {
    "duration": 83,
    "start_time": "2022-01-23T02:22:10.739Z"
   },
   {
    "duration": 92,
    "start_time": "2022-01-23T02:24:10.242Z"
   },
   {
    "duration": 89,
    "start_time": "2022-01-23T02:24:41.675Z"
   },
   {
    "duration": 122,
    "start_time": "2022-01-23T02:25:22.356Z"
   },
   {
    "duration": 688,
    "start_time": "2022-01-23T02:25:34.489Z"
   },
   {
    "duration": 9351,
    "start_time": "2022-01-23T02:25:35.181Z"
   },
   {
    "duration": 46,
    "start_time": "2022-01-23T02:25:44.535Z"
   },
   {
    "duration": 615,
    "start_time": "2022-01-23T02:25:44.583Z"
   },
   {
    "duration": 1070,
    "start_time": "2022-01-23T02:25:45.200Z"
   },
   {
    "duration": 78,
    "start_time": "2022-01-23T02:25:46.272Z"
   },
   {
    "duration": 288,
    "start_time": "2022-01-23T02:25:46.065Z"
   },
   {
    "duration": 284,
    "start_time": "2022-01-23T02:25:46.070Z"
   },
   {
    "duration": 274,
    "start_time": "2022-01-23T02:25:46.082Z"
   },
   {
    "duration": 271,
    "start_time": "2022-01-23T02:25:46.086Z"
   },
   {
    "duration": 262,
    "start_time": "2022-01-23T02:25:46.096Z"
   },
   {
    "duration": 261,
    "start_time": "2022-01-23T02:25:46.099Z"
   },
   {
    "duration": 274,
    "start_time": "2022-01-24T22:13:12.183Z"
   },
   {
    "duration": 236,
    "start_time": "2022-01-24T22:29:59.136Z"
   },
   {
    "duration": 804,
    "start_time": "2022-01-24T22:30:18.660Z"
   },
   {
    "duration": 9347,
    "start_time": "2022-01-24T22:30:19.466Z"
   },
   {
    "duration": 48,
    "start_time": "2022-01-24T22:30:28.816Z"
   },
   {
    "duration": 635,
    "start_time": "2022-01-24T22:30:28.866Z"
   },
   {
    "duration": 1119,
    "start_time": "2022-01-24T22:30:29.503Z"
   },
   {
    "duration": 347,
    "start_time": "2022-01-24T22:30:30.623Z"
   },
   {
    "duration": 35,
    "start_time": "2022-01-24T22:30:30.972Z"
   },
   {
    "duration": 2047,
    "start_time": "2022-01-24T22:30:31.010Z"
   },
   {
    "duration": 63,
    "start_time": "2022-01-24T22:30:33.061Z"
   },
   {
    "duration": 195,
    "start_time": "2022-01-24T22:30:33.125Z"
   },
   {
    "duration": 1824,
    "start_time": "2022-01-24T22:30:33.322Z"
   },
   {
    "duration": 6242,
    "start_time": "2022-01-24T22:37:45.214Z"
   },
   {
    "duration": 85,
    "start_time": "2022-01-24T22:40:49.820Z"
   },
   {
    "duration": 5743,
    "start_time": "2022-01-24T22:41:17.013Z"
   },
   {
    "duration": 2290,
    "start_time": "2022-01-24T22:43:39.521Z"
   },
   {
    "duration": 2251,
    "start_time": "2022-01-24T22:49:51.241Z"
   },
   {
    "duration": 2443,
    "start_time": "2022-01-24T22:50:56.662Z"
   },
   {
    "duration": 2464,
    "start_time": "2022-01-24T22:57:50.973Z"
   },
   {
    "duration": 2356,
    "start_time": "2022-01-24T23:43:09.428Z"
   },
   {
    "duration": 2449,
    "start_time": "2022-01-24T23:48:48.244Z"
   },
   {
    "duration": 2419,
    "start_time": "2022-01-25T00:21:15.661Z"
   },
   {
    "duration": 80,
    "start_time": "2022-01-25T00:44:50.623Z"
   },
   {
    "duration": 2543,
    "start_time": "2022-01-25T00:46:59.186Z"
   },
   {
    "duration": 2580,
    "start_time": "2022-01-25T01:01:33.012Z"
   },
   {
    "duration": 320,
    "start_time": "2022-01-25T17:49:59.487Z"
   },
   {
    "duration": 729,
    "start_time": "2022-01-25T17:50:11.386Z"
   },
   {
    "duration": 9801,
    "start_time": "2022-01-25T17:50:12.120Z"
   },
   {
    "duration": 34,
    "start_time": "2022-01-25T17:50:21.923Z"
   },
   {
    "duration": 660,
    "start_time": "2022-01-25T17:50:21.959Z"
   },
   {
    "duration": 1251,
    "start_time": "2022-01-25T17:50:22.621Z"
   },
   {
    "duration": 381,
    "start_time": "2022-01-25T17:50:23.873Z"
   },
   {
    "duration": 43,
    "start_time": "2022-01-25T17:50:24.257Z"
   },
   {
    "duration": 2171,
    "start_time": "2022-01-25T17:50:24.302Z"
   },
   {
    "duration": 75,
    "start_time": "2022-01-25T17:50:26.474Z"
   },
   {
    "duration": 206,
    "start_time": "2022-01-25T17:50:26.550Z"
   },
   {
    "duration": 1853,
    "start_time": "2022-01-25T17:50:26.758Z"
   },
   {
    "duration": 1988,
    "start_time": "2022-01-25T17:59:46.639Z"
   },
   {
    "duration": 2244,
    "start_time": "2022-01-25T18:01:06.334Z"
   },
   {
    "duration": 2044,
    "start_time": "2022-01-25T18:02:27.748Z"
   },
   {
    "duration": 2085,
    "start_time": "2022-01-25T18:05:51.957Z"
   },
   {
    "duration": 2395,
    "start_time": "2022-01-25T18:18:49.187Z"
   },
   {
    "duration": 2375,
    "start_time": "2022-01-25T18:21:54.361Z"
   },
   {
    "duration": 3141,
    "start_time": "2022-01-25T18:23:57.310Z"
   },
   {
    "duration": 3313,
    "start_time": "2022-01-25T18:26:29.640Z"
   },
   {
    "duration": 3055,
    "start_time": "2022-01-25T18:28:31.745Z"
   },
   {
    "duration": 98,
    "start_time": "2022-01-25T18:43:44.039Z"
   },
   {
    "duration": 102,
    "start_time": "2022-01-25T18:44:20.533Z"
   },
   {
    "duration": 98,
    "start_time": "2022-01-25T18:44:51.701Z"
   },
   {
    "duration": 3048,
    "start_time": "2022-01-25T18:45:34.069Z"
   },
   {
    "duration": 106,
    "start_time": "2022-01-25T19:11:36.484Z"
   },
   {
    "duration": 2094,
    "start_time": "2022-01-25T19:12:11.383Z"
   },
   {
    "duration": 2001,
    "start_time": "2022-01-25T19:18:55.572Z"
   },
   {
    "duration": 2955,
    "start_time": "2022-01-25T19:19:19.894Z"
   },
   {
    "duration": 3009,
    "start_time": "2022-01-25T19:35:02.468Z"
   },
   {
    "duration": 2930,
    "start_time": "2022-01-25T19:35:53.631Z"
   },
   {
    "duration": 95,
    "start_time": "2022-01-25T19:51:17.706Z"
   },
   {
    "duration": 96,
    "start_time": "2022-01-25T19:52:08.465Z"
   },
   {
    "duration": 155,
    "start_time": "2022-01-25T19:53:05.846Z"
   },
   {
    "duration": 3315,
    "start_time": "2022-01-25T19:53:59.217Z"
   },
   {
    "duration": 3053,
    "start_time": "2022-01-25T20:26:05.938Z"
   },
   {
    "duration": 3325,
    "start_time": "2022-01-25T21:18:03.747Z"
   },
   {
    "duration": 3732,
    "start_time": "2022-01-25T21:24:57.115Z"
   },
   {
    "duration": 3802,
    "start_time": "2022-01-25T21:31:15.026Z"
   },
   {
    "duration": 85,
    "start_time": "2022-01-25T21:57:32.622Z"
   },
   {
    "duration": 88,
    "start_time": "2022-01-25T22:02:19.109Z"
   },
   {
    "duration": 696,
    "start_time": "2022-01-25T22:34:01.149Z"
   },
   {
    "duration": 9411,
    "start_time": "2022-01-25T22:34:01.848Z"
   },
   {
    "duration": 41,
    "start_time": "2022-01-25T22:34:11.261Z"
   },
   {
    "duration": 649,
    "start_time": "2022-01-25T22:34:11.304Z"
   },
   {
    "duration": 1251,
    "start_time": "2022-01-25T22:34:11.955Z"
   },
   {
    "duration": 369,
    "start_time": "2022-01-25T22:34:13.207Z"
   },
   {
    "duration": 38,
    "start_time": "2022-01-25T22:34:13.578Z"
   },
   {
    "duration": 2098,
    "start_time": "2022-01-25T22:34:13.618Z"
   },
   {
    "duration": 81,
    "start_time": "2022-01-25T22:34:15.718Z"
   },
   {
    "duration": 221,
    "start_time": "2022-01-25T22:34:15.801Z"
   },
   {
    "duration": 3817,
    "start_time": "2022-01-25T22:34:16.024Z"
   }
  ],
  "kernelspec": {
   "display_name": "Python 3 (ipykernel)",
   "language": "python",
   "name": "python3"
  },
  "language_info": {
   "codemirror_mode": {
    "name": "ipython",
    "version": 3
   },
   "file_extension": ".py",
   "mimetype": "text/x-python",
   "name": "python",
   "nbconvert_exporter": "python",
   "pygments_lexer": "ipython3",
   "version": "3.9.5"
  },
  "toc": {
   "base_numbering": 1,
   "nav_menu": {},
   "number_sections": true,
   "sideBar": true,
   "skip_h1_title": true,
   "title_cell": "Содержание",
   "title_sidebar": "Contents",
   "toc_cell": true,
   "toc_position": {},
   "toc_section_display": true,
   "toc_window_display": false
  }
 },
 "nbformat": 4,
 "nbformat_minor": 2
}
