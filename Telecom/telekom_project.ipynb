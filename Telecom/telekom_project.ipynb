{
 "cells": [
  {
   "cell_type": "markdown",
   "metadata": {},
   "source": [
    "# Определение перспективного тарифа для телеком-компании. \n",
    "# Цель: Определить, тариф «Смарт» или «Ультра» является более выгодным для компании."
   ]
  },
  {
   "cell_type": "markdown",
   "metadata": {
    "toc": true
   },
   "source": [
    "<h1>Содержание<span class=\"tocSkip\"></span></h1>\n",
    "<div class=\"toc\"><ul class=\"toc-item\"><li><span><a href=\"#Изучение-данных-из-файлов\" data-toc-modified-id=\"Изучение-данных-из-файлов-1\"><span class=\"toc-item-num\">1&nbsp;&nbsp;</span>Изучение данных из файлов</a></span><ul class=\"toc-item\"><li><span><a href=\"#Вывод\" data-toc-modified-id=\"Вывод-1.1\"><span class=\"toc-item-num\">1.1&nbsp;&nbsp;</span>Вывод</a></span></li></ul></li><li><span><a href=\"#Подготовка-данных\" data-toc-modified-id=\"Подготовка-данных-2\"><span class=\"toc-item-num\">2&nbsp;&nbsp;</span>Подготовка данных</a></span><ul class=\"toc-item\"><li><span><a href=\"#Группировка-и-обьединение-данных\" data-toc-modified-id=\"Группировка-и-обьединение-данных-2.1\"><span class=\"toc-item-num\">2.1&nbsp;&nbsp;</span>Группировка и обьединение данных</a></span></li><li><span><a href=\"#Подсчет-выручки\" data-toc-modified-id=\"Подсчет-выручки-2.2\"><span class=\"toc-item-num\">2.2&nbsp;&nbsp;</span>Подсчет выручки</a></span></li><li><span><a href=\"#Вывод\" data-toc-modified-id=\"Вывод-2.3\"><span class=\"toc-item-num\">2.3&nbsp;&nbsp;</span>Вывод</a></span></li></ul></li><li><span><a href=\"#Анализ-данных\" data-toc-modified-id=\"Анализ-данных-3\"><span class=\"toc-item-num\">3&nbsp;&nbsp;</span>Анализ данных</a></span><ul class=\"toc-item\"><li><span><a href=\"#Анализ-минут-разговора-,-сообщений,--интернет-трафика\" data-toc-modified-id=\"Анализ-минут-разговора-,-сообщений,--интернет-трафика-3.1\"><span class=\"toc-item-num\">3.1&nbsp;&nbsp;</span>Анализ минут разговора , сообщений,  интернет-трафика</a></span></li><li><span><a href=\"#Анализ-выручки-по-тарифам\" data-toc-modified-id=\"Анализ-выручки-по-тарифам-3.2\"><span class=\"toc-item-num\">3.2&nbsp;&nbsp;</span>Анализ выручки по тарифам</a></span></li><li><span><a href=\"#Подсчет-дисперсии,-стандартного-отклонения,-средних-значений\" data-toc-modified-id=\"Подсчет-дисперсии,-стандартного-отклонения,-средних-значений-3.3\"><span class=\"toc-item-num\">3.3&nbsp;&nbsp;</span>Подсчет дисперсии, стандартного отклонения, средних значений</a></span></li><li><span><a href=\"#Вывод\" data-toc-modified-id=\"Вывод-3.4\"><span class=\"toc-item-num\">3.4&nbsp;&nbsp;</span>Вывод</a></span></li></ul></li><li><span><a href=\"#Проверка-гипотез\" data-toc-modified-id=\"Проверка-гипотез-4\"><span class=\"toc-item-num\">4&nbsp;&nbsp;</span>Проверка гипотез</a></span><ul class=\"toc-item\"><li><span><a href=\"#Гипотеза-о-равенстве-выручки-по-тарифам\" data-toc-modified-id=\"Гипотеза-о-равенстве-выручки-по-тарифам-4.1\"><span class=\"toc-item-num\">4.1&nbsp;&nbsp;</span>Гипотеза о равенстве выручки по тарифам</a></span></li><li><span><a href=\"#Гипотеза-о-равенстве-выручки-в-Москве-и-регионах\" data-toc-modified-id=\"Гипотеза-о-равенстве-выручки-в-Москве-и-регионах-4.2\"><span class=\"toc-item-num\">4.2&nbsp;&nbsp;</span>Гипотеза о равенстве выручки в Москве и регионах</a></span></li><li><span><a href=\"#Вывод\" data-toc-modified-id=\"Вывод-4.3\"><span class=\"toc-item-num\">4.3&nbsp;&nbsp;</span>Вывод</a></span></li></ul></li><li><span><a href=\"#Общий-вывод\" data-toc-modified-id=\"Общий-вывод-5\"><span class=\"toc-item-num\">5&nbsp;&nbsp;</span>Общий вывод</a></span></li></ul></div>"
   ]
  },
  {
   "cell_type": "markdown",
   "metadata": {},
   "source": [
    "## Изучение данных из файлов"
   ]
  },
  {
   "cell_type": "code",
   "execution_count": 1,
   "metadata": {},
   "outputs": [
    {
     "data": {
      "text/html": [
       "<div>\n",
       "<style scoped>\n",
       "    .dataframe tbody tr th:only-of-type {\n",
       "        vertical-align: middle;\n",
       "    }\n",
       "\n",
       "    .dataframe tbody tr th {\n",
       "        vertical-align: top;\n",
       "    }\n",
       "\n",
       "    .dataframe thead th {\n",
       "        text-align: right;\n",
       "    }\n",
       "</style>\n",
       "<table border=\"1\" class=\"dataframe\">\n",
       "  <thead>\n",
       "    <tr style=\"text-align: right;\">\n",
       "      <th></th>\n",
       "      <th>id</th>\n",
       "      <th>call_date</th>\n",
       "      <th>duration</th>\n",
       "      <th>user_id</th>\n",
       "    </tr>\n",
       "  </thead>\n",
       "  <tbody>\n",
       "    <tr>\n",
       "      <td>0</td>\n",
       "      <td>1000_0</td>\n",
       "      <td>2018-07-25</td>\n",
       "      <td>0.00</td>\n",
       "      <td>1000</td>\n",
       "    </tr>\n",
       "    <tr>\n",
       "      <td>1</td>\n",
       "      <td>1000_1</td>\n",
       "      <td>2018-08-17</td>\n",
       "      <td>0.00</td>\n",
       "      <td>1000</td>\n",
       "    </tr>\n",
       "    <tr>\n",
       "      <td>2</td>\n",
       "      <td>1000_2</td>\n",
       "      <td>2018-06-11</td>\n",
       "      <td>2.85</td>\n",
       "      <td>1000</td>\n",
       "    </tr>\n",
       "    <tr>\n",
       "      <td>3</td>\n",
       "      <td>1000_3</td>\n",
       "      <td>2018-09-21</td>\n",
       "      <td>13.80</td>\n",
       "      <td>1000</td>\n",
       "    </tr>\n",
       "    <tr>\n",
       "      <td>4</td>\n",
       "      <td>1000_4</td>\n",
       "      <td>2018-12-15</td>\n",
       "      <td>5.18</td>\n",
       "      <td>1000</td>\n",
       "    </tr>\n",
       "  </tbody>\n",
       "</table>\n",
       "</div>"
      ],
      "text/plain": [
       "       id   call_date  duration  user_id\n",
       "0  1000_0  2018-07-25      0.00     1000\n",
       "1  1000_1  2018-08-17      0.00     1000\n",
       "2  1000_2  2018-06-11      2.85     1000\n",
       "3  1000_3  2018-09-21     13.80     1000\n",
       "4  1000_4  2018-12-15      5.18     1000"
      ]
     },
     "metadata": {},
     "output_type": "display_data"
    },
    {
     "name": "stdout",
     "output_type": "stream",
     "text": [
      "<class 'pandas.core.frame.DataFrame'>\n",
      "RangeIndex: 202607 entries, 0 to 202606\n",
      "Data columns (total 4 columns):\n",
      "id           202607 non-null object\n",
      "call_date    202607 non-null object\n",
      "duration     202607 non-null float64\n",
      "user_id      202607 non-null int64\n",
      "dtypes: float64(1), int64(1), object(2)\n",
      "memory usage: 6.2+ MB\n",
      "Дубликатов в таблице: 0\n",
      "Пропусков в таблице: id           0\n",
      "call_date    0\n",
      "duration     0\n",
      "user_id      0\n",
      "dtype: int64\n",
      "            duration        user_id\n",
      "count  202607.000000  202607.000000\n",
      "mean        6.755887    1253.940619\n",
      "std         5.843365     144.722751\n",
      "min         0.000000    1000.000000\n",
      "25%         1.300000    1126.000000\n",
      "50%         6.000000    1260.000000\n",
      "75%        10.700000    1379.000000\n",
      "max        38.000000    1499.000000\n"
     ]
    }
   ],
   "source": [
    "import pandas as pd # Импортирую необходимую библиотеку\n",
    "\n",
    "calls = pd.read_csv('/datasets/calls.csv', sep = ',') # Открываю файлы\n",
    "internet = pd.read_csv('/datasets/internet.csv', sep = ',')\n",
    "messages = pd.read_csv('/datasets/messages.csv', sep = ',')\n",
    "tariffs = pd.read_csv('/datasets/tariffs.csv' , sep = ',')\n",
    "users = pd.read_csv('/datasets/users.csv', sep = ',')                      \n",
    "\n",
    "def f(df): # Создаю функцию, которая последовательно применит методы для первоначальной оценки данных\n",
    "    display(df.head())\n",
    "    df.info()\n",
    "    print('Дубликатов в таблице:', df.duplicated().sum())\n",
    "    print('Пропусков в таблице:', df.isna().sum())\n",
    "    print(df.describe())\n",
    "\n",
    "f(calls) # Вызываю функцию для каждого фрейма и изучаю информацию.\n",
    "\n",
    "\n",
    "import warnings # Отключаю предупреждения\n",
    "warnings.filterwarnings('ignore')"
   ]
  },
  {
   "cell_type": "markdown",
   "metadata": {},
   "source": [
    "### Вывод\n"
   ]
  },
  {
   "cell_type": "markdown",
   "metadata": {},
   "source": [
    "После первого взгляда на данные можно сказать следующее: Названия колонок корректные, явных дубликатов нет. Пропущенные значения есть только в таблице users в столбце churn_date (дата прекращения пользования тарифом). Пропущенное значение не является ошибкой, оначает, что тариф еще действует на момент выгрузки.\n",
    "Тип всех дат в таблицах object, значит они сейчас как текст,  для перевода в формат даты нужно применить to_datetime()."
   ]
  },
  {
   "cell_type": "markdown",
   "metadata": {},
   "source": [
    "## Подготовка данных"
   ]
  },
  {
   "cell_type": "markdown",
   "metadata": {},
   "source": [
    "### Группировка и обьединение данных"
   ]
  },
  {
   "cell_type": "code",
   "execution_count": 2,
   "metadata": {},
   "outputs": [
    {
     "data": {
      "text/html": [
       "<div>\n",
       "<style scoped>\n",
       "    .dataframe tbody tr th:only-of-type {\n",
       "        vertical-align: middle;\n",
       "    }\n",
       "\n",
       "    .dataframe tbody tr th {\n",
       "        vertical-align: top;\n",
       "    }\n",
       "\n",
       "    .dataframe thead th {\n",
       "        text-align: right;\n",
       "    }\n",
       "</style>\n",
       "<table border=\"1\" class=\"dataframe\">\n",
       "  <thead>\n",
       "    <tr style=\"text-align: right;\">\n",
       "      <th></th>\n",
       "      <th>id</th>\n",
       "      <th>call_date</th>\n",
       "      <th>duration</th>\n",
       "      <th>user_id</th>\n",
       "      <th>date</th>\n",
       "    </tr>\n",
       "  </thead>\n",
       "  <tbody>\n",
       "    <tr>\n",
       "      <td>0</td>\n",
       "      <td>1000_0</td>\n",
       "      <td>2018-07-25</td>\n",
       "      <td>0.00</td>\n",
       "      <td>1000</td>\n",
       "      <td>2018-07-01</td>\n",
       "    </tr>\n",
       "    <tr>\n",
       "      <td>1</td>\n",
       "      <td>1000_1</td>\n",
       "      <td>2018-08-17</td>\n",
       "      <td>0.00</td>\n",
       "      <td>1000</td>\n",
       "      <td>2018-08-01</td>\n",
       "    </tr>\n",
       "    <tr>\n",
       "      <td>2</td>\n",
       "      <td>1000_2</td>\n",
       "      <td>2018-06-11</td>\n",
       "      <td>2.85</td>\n",
       "      <td>1000</td>\n",
       "      <td>2018-06-01</td>\n",
       "    </tr>\n",
       "  </tbody>\n",
       "</table>\n",
       "</div>"
      ],
      "text/plain": [
       "       id   call_date  duration  user_id       date\n",
       "0  1000_0  2018-07-25      0.00     1000 2018-07-01\n",
       "1  1000_1  2018-08-17      0.00     1000 2018-08-01\n",
       "2  1000_2  2018-06-11      2.85     1000 2018-06-01"
      ]
     },
     "metadata": {},
     "output_type": "display_data"
    },
    {
     "data": {
      "text/html": [
       "<div>\n",
       "<style scoped>\n",
       "    .dataframe tbody tr th:only-of-type {\n",
       "        vertical-align: middle;\n",
       "    }\n",
       "\n",
       "    .dataframe tbody tr th {\n",
       "        vertical-align: top;\n",
       "    }\n",
       "\n",
       "    .dataframe thead th {\n",
       "        text-align: right;\n",
       "    }\n",
       "</style>\n",
       "<table border=\"1\" class=\"dataframe\">\n",
       "  <thead>\n",
       "    <tr style=\"text-align: right;\">\n",
       "      <th></th>\n",
       "      <th>id</th>\n",
       "      <th>message_date</th>\n",
       "      <th>user_id</th>\n",
       "      <th>date</th>\n",
       "    </tr>\n",
       "  </thead>\n",
       "  <tbody>\n",
       "    <tr>\n",
       "      <td>0</td>\n",
       "      <td>1000_0</td>\n",
       "      <td>2018-06-27</td>\n",
       "      <td>1000</td>\n",
       "      <td>2018-06-01</td>\n",
       "    </tr>\n",
       "    <tr>\n",
       "      <td>1</td>\n",
       "      <td>1000_1</td>\n",
       "      <td>2018-10-08</td>\n",
       "      <td>1000</td>\n",
       "      <td>2018-10-01</td>\n",
       "    </tr>\n",
       "    <tr>\n",
       "      <td>2</td>\n",
       "      <td>1000_2</td>\n",
       "      <td>2018-08-04</td>\n",
       "      <td>1000</td>\n",
       "      <td>2018-08-01</td>\n",
       "    </tr>\n",
       "  </tbody>\n",
       "</table>\n",
       "</div>"
      ],
      "text/plain": [
       "       id message_date  user_id       date\n",
       "0  1000_0   2018-06-27     1000 2018-06-01\n",
       "1  1000_1   2018-10-08     1000 2018-10-01\n",
       "2  1000_2   2018-08-04     1000 2018-08-01"
      ]
     },
     "metadata": {},
     "output_type": "display_data"
    },
    {
     "data": {
      "text/html": [
       "<div>\n",
       "<style scoped>\n",
       "    .dataframe tbody tr th:only-of-type {\n",
       "        vertical-align: middle;\n",
       "    }\n",
       "\n",
       "    .dataframe tbody tr th {\n",
       "        vertical-align: top;\n",
       "    }\n",
       "\n",
       "    .dataframe thead th {\n",
       "        text-align: right;\n",
       "    }\n",
       "</style>\n",
       "<table border=\"1\" class=\"dataframe\">\n",
       "  <thead>\n",
       "    <tr style=\"text-align: right;\">\n",
       "      <th></th>\n",
       "      <th>Unnamed: 0</th>\n",
       "      <th>id</th>\n",
       "      <th>mb_used</th>\n",
       "      <th>session_date</th>\n",
       "      <th>user_id</th>\n",
       "      <th>date</th>\n",
       "    </tr>\n",
       "  </thead>\n",
       "  <tbody>\n",
       "    <tr>\n",
       "      <td>0</td>\n",
       "      <td>0</td>\n",
       "      <td>1000_0</td>\n",
       "      <td>112.95</td>\n",
       "      <td>2018-11-25</td>\n",
       "      <td>1000</td>\n",
       "      <td>2018-11-01</td>\n",
       "    </tr>\n",
       "    <tr>\n",
       "      <td>1</td>\n",
       "      <td>1</td>\n",
       "      <td>1000_1</td>\n",
       "      <td>1052.81</td>\n",
       "      <td>2018-09-07</td>\n",
       "      <td>1000</td>\n",
       "      <td>2018-09-01</td>\n",
       "    </tr>\n",
       "    <tr>\n",
       "      <td>2</td>\n",
       "      <td>2</td>\n",
       "      <td>1000_2</td>\n",
       "      <td>1197.26</td>\n",
       "      <td>2018-06-25</td>\n",
       "      <td>1000</td>\n",
       "      <td>2018-06-01</td>\n",
       "    </tr>\n",
       "  </tbody>\n",
       "</table>\n",
       "</div>"
      ],
      "text/plain": [
       "   Unnamed: 0      id  mb_used session_date  user_id       date\n",
       "0           0  1000_0   112.95   2018-11-25     1000 2018-11-01\n",
       "1           1  1000_1  1052.81   2018-09-07     1000 2018-09-01\n",
       "2           2  1000_2  1197.26   2018-06-25     1000 2018-06-01"
      ]
     },
     "metadata": {},
     "output_type": "display_data"
    }
   ],
   "source": [
    "# Создаю столбцы с значением месяца для дальнейшей группировки по месяцам в таблицах calls, messages, internet.\n",
    "#calls['month'] = pd.to_datetime(calls['call_date']).dt.month\n",
    "calls['date'] = calls['call_date'].astype('datetime64[M]')\n",
    "display(calls.head(3))\n",
    "messages['date'] = messages['message_date'].astype('datetime64[M]')\n",
    "display(messages.head(3))\n",
    "internet['date'] = internet['session_date'].astype('datetime64[M]')\n",
    "display(internet.head(3))         \n"
   ]
  },
  {
   "cell_type": "code",
   "execution_count": 3,
   "metadata": {},
   "outputs": [
    {
     "data": {
      "text/html": [
       "<div>\n",
       "<style scoped>\n",
       "    .dataframe tbody tr th:only-of-type {\n",
       "        vertical-align: middle;\n",
       "    }\n",
       "\n",
       "    .dataframe tbody tr th {\n",
       "        vertical-align: top;\n",
       "    }\n",
       "\n",
       "    .dataframe thead th {\n",
       "        text-align: right;\n",
       "    }\n",
       "</style>\n",
       "<table border=\"1\" class=\"dataframe\">\n",
       "  <thead>\n",
       "    <tr style=\"text-align: right;\">\n",
       "      <th></th>\n",
       "      <th>id</th>\n",
       "      <th>call_date</th>\n",
       "      <th>duration</th>\n",
       "      <th>user_id</th>\n",
       "      <th>date</th>\n",
       "    </tr>\n",
       "  </thead>\n",
       "  <tbody>\n",
       "    <tr>\n",
       "      <td>0</td>\n",
       "      <td>1000_0</td>\n",
       "      <td>2018-07-25</td>\n",
       "      <td>0.0</td>\n",
       "      <td>1000</td>\n",
       "      <td>2018-07-01</td>\n",
       "    </tr>\n",
       "    <tr>\n",
       "      <td>1</td>\n",
       "      <td>1000_1</td>\n",
       "      <td>2018-08-17</td>\n",
       "      <td>0.0</td>\n",
       "      <td>1000</td>\n",
       "      <td>2018-08-01</td>\n",
       "    </tr>\n",
       "    <tr>\n",
       "      <td>2</td>\n",
       "      <td>1000_2</td>\n",
       "      <td>2018-06-11</td>\n",
       "      <td>3.0</td>\n",
       "      <td>1000</td>\n",
       "      <td>2018-06-01</td>\n",
       "    </tr>\n",
       "    <tr>\n",
       "      <td>3</td>\n",
       "      <td>1000_3</td>\n",
       "      <td>2018-09-21</td>\n",
       "      <td>14.0</td>\n",
       "      <td>1000</td>\n",
       "      <td>2018-09-01</td>\n",
       "    </tr>\n",
       "    <tr>\n",
       "      <td>4</td>\n",
       "      <td>1000_4</td>\n",
       "      <td>2018-12-15</td>\n",
       "      <td>6.0</td>\n",
       "      <td>1000</td>\n",
       "      <td>2018-12-01</td>\n",
       "    </tr>\n",
       "  </tbody>\n",
       "</table>\n",
       "</div>"
      ],
      "text/plain": [
       "       id   call_date  duration  user_id       date\n",
       "0  1000_0  2018-07-25       0.0     1000 2018-07-01\n",
       "1  1000_1  2018-08-17       0.0     1000 2018-08-01\n",
       "2  1000_2  2018-06-11       3.0     1000 2018-06-01\n",
       "3  1000_3  2018-09-21      14.0     1000 2018-09-01\n",
       "4  1000_4  2018-12-15       6.0     1000 2018-12-01"
      ]
     },
     "metadata": {},
     "output_type": "display_data"
    }
   ],
   "source": [
    "# Округляю звонки в большую сторону\n",
    "import numpy as np\n",
    "calls['duration'] = np.ceil(calls['duration'])\n",
    "display(calls.head(5))"
   ]
  },
  {
   "cell_type": "code",
   "execution_count": 4,
   "metadata": {},
   "outputs": [
    {
     "data": {
      "text/html": [
       "<div>\n",
       "<style scoped>\n",
       "    .dataframe tbody tr th:only-of-type {\n",
       "        vertical-align: middle;\n",
       "    }\n",
       "\n",
       "    .dataframe tbody tr th {\n",
       "        vertical-align: top;\n",
       "    }\n",
       "\n",
       "    .dataframe thead th {\n",
       "        text-align: right;\n",
       "    }\n",
       "</style>\n",
       "<table border=\"1\" class=\"dataframe\">\n",
       "  <thead>\n",
       "    <tr style=\"text-align: right;\">\n",
       "      <th></th>\n",
       "      <th>user_id</th>\n",
       "      <th>date</th>\n",
       "      <th>duration</th>\n",
       "      <th>calls</th>\n",
       "      <th>mb_used</th>\n",
       "      <th>messages</th>\n",
       "      <th>age</th>\n",
       "      <th>churn_date</th>\n",
       "      <th>city</th>\n",
       "      <th>first_name</th>\n",
       "      <th>last_name</th>\n",
       "      <th>reg_date</th>\n",
       "      <th>tariff</th>\n",
       "      <th>messages_included</th>\n",
       "      <th>mb_per_month_included</th>\n",
       "      <th>minutes_included</th>\n",
       "      <th>rub_monthly_fee</th>\n",
       "      <th>rub_per_gb</th>\n",
       "      <th>rub_per_message</th>\n",
       "      <th>rub_per_minute</th>\n",
       "      <th>tariff_name</th>\n",
       "    </tr>\n",
       "  </thead>\n",
       "  <tbody>\n",
       "    <tr>\n",
       "      <td>0</td>\n",
       "      <td>1000</td>\n",
       "      <td>2018-05-01</td>\n",
       "      <td>159.0</td>\n",
       "      <td>22.0</td>\n",
       "      <td>2253.49</td>\n",
       "      <td>22.0</td>\n",
       "      <td>52</td>\n",
       "      <td>NaN</td>\n",
       "      <td>Краснодар</td>\n",
       "      <td>Рафаил</td>\n",
       "      <td>Верещагин</td>\n",
       "      <td>2018-05-25</td>\n",
       "      <td>ultra</td>\n",
       "      <td>1000</td>\n",
       "      <td>30720</td>\n",
       "      <td>3000</td>\n",
       "      <td>1950</td>\n",
       "      <td>150</td>\n",
       "      <td>1</td>\n",
       "      <td>1</td>\n",
       "      <td>ultra</td>\n",
       "    </tr>\n",
       "    <tr>\n",
       "      <td>1</td>\n",
       "      <td>1000</td>\n",
       "      <td>2018-06-01</td>\n",
       "      <td>172.0</td>\n",
       "      <td>43.0</td>\n",
       "      <td>23233.77</td>\n",
       "      <td>60.0</td>\n",
       "      <td>52</td>\n",
       "      <td>NaN</td>\n",
       "      <td>Краснодар</td>\n",
       "      <td>Рафаил</td>\n",
       "      <td>Верещагин</td>\n",
       "      <td>2018-05-25</td>\n",
       "      <td>ultra</td>\n",
       "      <td>1000</td>\n",
       "      <td>30720</td>\n",
       "      <td>3000</td>\n",
       "      <td>1950</td>\n",
       "      <td>150</td>\n",
       "      <td>1</td>\n",
       "      <td>1</td>\n",
       "      <td>ultra</td>\n",
       "    </tr>\n",
       "    <tr>\n",
       "      <td>2</td>\n",
       "      <td>1000</td>\n",
       "      <td>2018-07-01</td>\n",
       "      <td>340.0</td>\n",
       "      <td>47.0</td>\n",
       "      <td>14003.64</td>\n",
       "      <td>75.0</td>\n",
       "      <td>52</td>\n",
       "      <td>NaN</td>\n",
       "      <td>Краснодар</td>\n",
       "      <td>Рафаил</td>\n",
       "      <td>Верещагин</td>\n",
       "      <td>2018-05-25</td>\n",
       "      <td>ultra</td>\n",
       "      <td>1000</td>\n",
       "      <td>30720</td>\n",
       "      <td>3000</td>\n",
       "      <td>1950</td>\n",
       "      <td>150</td>\n",
       "      <td>1</td>\n",
       "      <td>1</td>\n",
       "      <td>ultra</td>\n",
       "    </tr>\n",
       "    <tr>\n",
       "      <td>3</td>\n",
       "      <td>1000</td>\n",
       "      <td>2018-08-01</td>\n",
       "      <td>408.0</td>\n",
       "      <td>52.0</td>\n",
       "      <td>14055.93</td>\n",
       "      <td>81.0</td>\n",
       "      <td>52</td>\n",
       "      <td>NaN</td>\n",
       "      <td>Краснодар</td>\n",
       "      <td>Рафаил</td>\n",
       "      <td>Верещагин</td>\n",
       "      <td>2018-05-25</td>\n",
       "      <td>ultra</td>\n",
       "      <td>1000</td>\n",
       "      <td>30720</td>\n",
       "      <td>3000</td>\n",
       "      <td>1950</td>\n",
       "      <td>150</td>\n",
       "      <td>1</td>\n",
       "      <td>1</td>\n",
       "      <td>ultra</td>\n",
       "    </tr>\n",
       "    <tr>\n",
       "      <td>4</td>\n",
       "      <td>1000</td>\n",
       "      <td>2018-09-01</td>\n",
       "      <td>466.0</td>\n",
       "      <td>58.0</td>\n",
       "      <td>14568.91</td>\n",
       "      <td>57.0</td>\n",
       "      <td>52</td>\n",
       "      <td>NaN</td>\n",
       "      <td>Краснодар</td>\n",
       "      <td>Рафаил</td>\n",
       "      <td>Верещагин</td>\n",
       "      <td>2018-05-25</td>\n",
       "      <td>ultra</td>\n",
       "      <td>1000</td>\n",
       "      <td>30720</td>\n",
       "      <td>3000</td>\n",
       "      <td>1950</td>\n",
       "      <td>150</td>\n",
       "      <td>1</td>\n",
       "      <td>1</td>\n",
       "      <td>ultra</td>\n",
       "    </tr>\n",
       "  </tbody>\n",
       "</table>\n",
       "</div>"
      ],
      "text/plain": [
       "   user_id       date  duration  calls   mb_used  messages  age churn_date  \\\n",
       "0     1000 2018-05-01     159.0   22.0   2253.49      22.0   52        NaN   \n",
       "1     1000 2018-06-01     172.0   43.0  23233.77      60.0   52        NaN   \n",
       "2     1000 2018-07-01     340.0   47.0  14003.64      75.0   52        NaN   \n",
       "3     1000 2018-08-01     408.0   52.0  14055.93      81.0   52        NaN   \n",
       "4     1000 2018-09-01     466.0   58.0  14568.91      57.0   52        NaN   \n",
       "\n",
       "        city first_name  last_name    reg_date tariff  messages_included  \\\n",
       "0  Краснодар     Рафаил  Верещагин  2018-05-25  ultra               1000   \n",
       "1  Краснодар     Рафаил  Верещагин  2018-05-25  ultra               1000   \n",
       "2  Краснодар     Рафаил  Верещагин  2018-05-25  ultra               1000   \n",
       "3  Краснодар     Рафаил  Верещагин  2018-05-25  ultra               1000   \n",
       "4  Краснодар     Рафаил  Верещагин  2018-05-25  ultra               1000   \n",
       "\n",
       "   mb_per_month_included  minutes_included  rub_monthly_fee  rub_per_gb  \\\n",
       "0                  30720              3000             1950         150   \n",
       "1                  30720              3000             1950         150   \n",
       "2                  30720              3000             1950         150   \n",
       "3                  30720              3000             1950         150   \n",
       "4                  30720              3000             1950         150   \n",
       "\n",
       "   rub_per_message  rub_per_minute tariff_name  \n",
       "0                1               1       ultra  \n",
       "1                1               1       ultra  \n",
       "2                1               1       ultra  \n",
       "3                1               1       ultra  \n",
       "4                1               1       ultra  "
      ]
     },
     "metadata": {},
     "output_type": "display_data"
    }
   ],
   "source": [
    "# Группирую по месяцам и абоненту и создаю единую таблицу для анализа методом merge()\n",
    "calls = calls.groupby(['user_id', 'date']).agg({'duration':'sum', 'id':'count'})\\\n",
    ".rename(columns = {'id':'calls'}).reset_index()\n",
    "internet = internet.groupby(['user_id', 'date']).agg({'mb_used':'sum'}).reset_index()\n",
    "messages = messages.groupby(['user_id', 'date']).agg({'id':'count'})\\\n",
    ".rename(columns = {'id':'messages'}).reset_index()\n",
    "df_merged = calls.merge(internet, on = ['user_id', 'date'], how = 'outer')\\\n",
    ".merge(messages, on = ['user_id', 'date'], how = 'outer').fillna(0)\n",
    "df_merged = df_merged.merge(users, on = 'user_id', how = 'left').merge(tariffs, left_on = 'tariff', \n",
    "                                                                 right_on = 'tariff_name', how = 'left')\n",
    "pd.set_option('display.max_columns', None)\n",
    "display(df_merged.head(5))"
   ]
  },
  {
   "cell_type": "code",
   "execution_count": 5,
   "metadata": {},
   "outputs": [],
   "source": [
    "# В тарифе цена указана за gb, а  расход посчитан в mb. Переведу все в gb и округлю в большую сторону.\n",
    "df_merged['mb_used'] = (df_merged['mb_used']/1024).apply(np.ceil)\n",
    "df_merged['mb_per_month_included'] = df_merged['mb_per_month_included']/1024\n",
    "df_merged.rename(columns={'mb_used': 'gb_used', 'mb_per_month_included':'gb_per_month_included'}, inplace=True)\n"
   ]
  },
  {
   "cell_type": "markdown",
   "metadata": {},
   "source": [
    "### Подсчет выручки"
   ]
  },
  {
   "cell_type": "code",
   "execution_count": 6,
   "metadata": {},
   "outputs": [
    {
     "data": {
      "text/html": [
       "<div>\n",
       "<style scoped>\n",
       "    .dataframe tbody tr th:only-of-type {\n",
       "        vertical-align: middle;\n",
       "    }\n",
       "\n",
       "    .dataframe tbody tr th {\n",
       "        vertical-align: top;\n",
       "    }\n",
       "\n",
       "    .dataframe thead th {\n",
       "        text-align: right;\n",
       "    }\n",
       "</style>\n",
       "<table border=\"1\" class=\"dataframe\">\n",
       "  <thead>\n",
       "    <tr style=\"text-align: right;\">\n",
       "      <th></th>\n",
       "      <th>user_id</th>\n",
       "      <th>date</th>\n",
       "      <th>duration</th>\n",
       "      <th>calls</th>\n",
       "      <th>gb_used</th>\n",
       "      <th>messages</th>\n",
       "      <th>age</th>\n",
       "      <th>churn_date</th>\n",
       "      <th>city</th>\n",
       "      <th>first_name</th>\n",
       "      <th>last_name</th>\n",
       "      <th>reg_date</th>\n",
       "      <th>tariff</th>\n",
       "      <th>messages_included</th>\n",
       "      <th>gb_per_month_included</th>\n",
       "      <th>minutes_included</th>\n",
       "      <th>rub_monthly_fee</th>\n",
       "      <th>rub_per_gb</th>\n",
       "      <th>rub_per_message</th>\n",
       "      <th>rub_per_minute</th>\n",
       "      <th>tariff_name</th>\n",
       "      <th>revenue</th>\n",
       "    </tr>\n",
       "  </thead>\n",
       "  <tbody>\n",
       "    <tr>\n",
       "      <td>0</td>\n",
       "      <td>1000</td>\n",
       "      <td>2018-05-01</td>\n",
       "      <td>159.0</td>\n",
       "      <td>22.0</td>\n",
       "      <td>3.0</td>\n",
       "      <td>22.0</td>\n",
       "      <td>52</td>\n",
       "      <td>NaN</td>\n",
       "      <td>Краснодар</td>\n",
       "      <td>Рафаил</td>\n",
       "      <td>Верещагин</td>\n",
       "      <td>2018-05-25</td>\n",
       "      <td>ultra</td>\n",
       "      <td>1000</td>\n",
       "      <td>30.0</td>\n",
       "      <td>3000</td>\n",
       "      <td>1950</td>\n",
       "      <td>150</td>\n",
       "      <td>1</td>\n",
       "      <td>1</td>\n",
       "      <td>ultra</td>\n",
       "      <td>1950.0</td>\n",
       "    </tr>\n",
       "    <tr>\n",
       "      <td>1</td>\n",
       "      <td>1000</td>\n",
       "      <td>2018-06-01</td>\n",
       "      <td>172.0</td>\n",
       "      <td>43.0</td>\n",
       "      <td>23.0</td>\n",
       "      <td>60.0</td>\n",
       "      <td>52</td>\n",
       "      <td>NaN</td>\n",
       "      <td>Краснодар</td>\n",
       "      <td>Рафаил</td>\n",
       "      <td>Верещагин</td>\n",
       "      <td>2018-05-25</td>\n",
       "      <td>ultra</td>\n",
       "      <td>1000</td>\n",
       "      <td>30.0</td>\n",
       "      <td>3000</td>\n",
       "      <td>1950</td>\n",
       "      <td>150</td>\n",
       "      <td>1</td>\n",
       "      <td>1</td>\n",
       "      <td>ultra</td>\n",
       "      <td>1950.0</td>\n",
       "    </tr>\n",
       "    <tr>\n",
       "      <td>2</td>\n",
       "      <td>1000</td>\n",
       "      <td>2018-07-01</td>\n",
       "      <td>340.0</td>\n",
       "      <td>47.0</td>\n",
       "      <td>14.0</td>\n",
       "      <td>75.0</td>\n",
       "      <td>52</td>\n",
       "      <td>NaN</td>\n",
       "      <td>Краснодар</td>\n",
       "      <td>Рафаил</td>\n",
       "      <td>Верещагин</td>\n",
       "      <td>2018-05-25</td>\n",
       "      <td>ultra</td>\n",
       "      <td>1000</td>\n",
       "      <td>30.0</td>\n",
       "      <td>3000</td>\n",
       "      <td>1950</td>\n",
       "      <td>150</td>\n",
       "      <td>1</td>\n",
       "      <td>1</td>\n",
       "      <td>ultra</td>\n",
       "      <td>1950.0</td>\n",
       "    </tr>\n",
       "    <tr>\n",
       "      <td>3</td>\n",
       "      <td>1000</td>\n",
       "      <td>2018-08-01</td>\n",
       "      <td>408.0</td>\n",
       "      <td>52.0</td>\n",
       "      <td>14.0</td>\n",
       "      <td>81.0</td>\n",
       "      <td>52</td>\n",
       "      <td>NaN</td>\n",
       "      <td>Краснодар</td>\n",
       "      <td>Рафаил</td>\n",
       "      <td>Верещагин</td>\n",
       "      <td>2018-05-25</td>\n",
       "      <td>ultra</td>\n",
       "      <td>1000</td>\n",
       "      <td>30.0</td>\n",
       "      <td>3000</td>\n",
       "      <td>1950</td>\n",
       "      <td>150</td>\n",
       "      <td>1</td>\n",
       "      <td>1</td>\n",
       "      <td>ultra</td>\n",
       "      <td>1950.0</td>\n",
       "    </tr>\n",
       "    <tr>\n",
       "      <td>4</td>\n",
       "      <td>1000</td>\n",
       "      <td>2018-09-01</td>\n",
       "      <td>466.0</td>\n",
       "      <td>58.0</td>\n",
       "      <td>15.0</td>\n",
       "      <td>57.0</td>\n",
       "      <td>52</td>\n",
       "      <td>NaN</td>\n",
       "      <td>Краснодар</td>\n",
       "      <td>Рафаил</td>\n",
       "      <td>Верещагин</td>\n",
       "      <td>2018-05-25</td>\n",
       "      <td>ultra</td>\n",
       "      <td>1000</td>\n",
       "      <td>30.0</td>\n",
       "      <td>3000</td>\n",
       "      <td>1950</td>\n",
       "      <td>150</td>\n",
       "      <td>1</td>\n",
       "      <td>1</td>\n",
       "      <td>ultra</td>\n",
       "      <td>1950.0</td>\n",
       "    </tr>\n",
       "    <tr>\n",
       "      <td>5</td>\n",
       "      <td>1000</td>\n",
       "      <td>2018-10-01</td>\n",
       "      <td>350.0</td>\n",
       "      <td>57.0</td>\n",
       "      <td>15.0</td>\n",
       "      <td>73.0</td>\n",
       "      <td>52</td>\n",
       "      <td>NaN</td>\n",
       "      <td>Краснодар</td>\n",
       "      <td>Рафаил</td>\n",
       "      <td>Верещагин</td>\n",
       "      <td>2018-05-25</td>\n",
       "      <td>ultra</td>\n",
       "      <td>1000</td>\n",
       "      <td>30.0</td>\n",
       "      <td>3000</td>\n",
       "      <td>1950</td>\n",
       "      <td>150</td>\n",
       "      <td>1</td>\n",
       "      <td>1</td>\n",
       "      <td>ultra</td>\n",
       "      <td>1950.0</td>\n",
       "    </tr>\n",
       "    <tr>\n",
       "      <td>6</td>\n",
       "      <td>1000</td>\n",
       "      <td>2018-11-01</td>\n",
       "      <td>338.0</td>\n",
       "      <td>43.0</td>\n",
       "      <td>15.0</td>\n",
       "      <td>58.0</td>\n",
       "      <td>52</td>\n",
       "      <td>NaN</td>\n",
       "      <td>Краснодар</td>\n",
       "      <td>Рафаил</td>\n",
       "      <td>Верещагин</td>\n",
       "      <td>2018-05-25</td>\n",
       "      <td>ultra</td>\n",
       "      <td>1000</td>\n",
       "      <td>30.0</td>\n",
       "      <td>3000</td>\n",
       "      <td>1950</td>\n",
       "      <td>150</td>\n",
       "      <td>1</td>\n",
       "      <td>1</td>\n",
       "      <td>ultra</td>\n",
       "      <td>1950.0</td>\n",
       "    </tr>\n",
       "    <tr>\n",
       "      <td>7</td>\n",
       "      <td>1000</td>\n",
       "      <td>2018-12-01</td>\n",
       "      <td>333.0</td>\n",
       "      <td>46.0</td>\n",
       "      <td>10.0</td>\n",
       "      <td>70.0</td>\n",
       "      <td>52</td>\n",
       "      <td>NaN</td>\n",
       "      <td>Краснодар</td>\n",
       "      <td>Рафаил</td>\n",
       "      <td>Верещагин</td>\n",
       "      <td>2018-05-25</td>\n",
       "      <td>ultra</td>\n",
       "      <td>1000</td>\n",
       "      <td>30.0</td>\n",
       "      <td>3000</td>\n",
       "      <td>1950</td>\n",
       "      <td>150</td>\n",
       "      <td>1</td>\n",
       "      <td>1</td>\n",
       "      <td>ultra</td>\n",
       "      <td>1950.0</td>\n",
       "    </tr>\n",
       "    <tr>\n",
       "      <td>8</td>\n",
       "      <td>1001</td>\n",
       "      <td>2018-11-01</td>\n",
       "      <td>430.0</td>\n",
       "      <td>59.0</td>\n",
       "      <td>18.0</td>\n",
       "      <td>0.0</td>\n",
       "      <td>41</td>\n",
       "      <td>NaN</td>\n",
       "      <td>Москва</td>\n",
       "      <td>Иван</td>\n",
       "      <td>Ежов</td>\n",
       "      <td>2018-11-01</td>\n",
       "      <td>smart</td>\n",
       "      <td>50</td>\n",
       "      <td>15.0</td>\n",
       "      <td>500</td>\n",
       "      <td>550</td>\n",
       "      <td>200</td>\n",
       "      <td>3</td>\n",
       "      <td>3</td>\n",
       "      <td>smart</td>\n",
       "      <td>1150.0</td>\n",
       "    </tr>\n",
       "    <tr>\n",
       "      <td>9</td>\n",
       "      <td>1001</td>\n",
       "      <td>2018-12-01</td>\n",
       "      <td>414.0</td>\n",
       "      <td>63.0</td>\n",
       "      <td>14.0</td>\n",
       "      <td>0.0</td>\n",
       "      <td>41</td>\n",
       "      <td>NaN</td>\n",
       "      <td>Москва</td>\n",
       "      <td>Иван</td>\n",
       "      <td>Ежов</td>\n",
       "      <td>2018-11-01</td>\n",
       "      <td>smart</td>\n",
       "      <td>50</td>\n",
       "      <td>15.0</td>\n",
       "      <td>500</td>\n",
       "      <td>550</td>\n",
       "      <td>200</td>\n",
       "      <td>3</td>\n",
       "      <td>3</td>\n",
       "      <td>smart</td>\n",
       "      <td>550.0</td>\n",
       "    </tr>\n",
       "  </tbody>\n",
       "</table>\n",
       "</div>"
      ],
      "text/plain": [
       "   user_id       date  duration  calls  gb_used  messages  age churn_date  \\\n",
       "0     1000 2018-05-01     159.0   22.0      3.0      22.0   52        NaN   \n",
       "1     1000 2018-06-01     172.0   43.0     23.0      60.0   52        NaN   \n",
       "2     1000 2018-07-01     340.0   47.0     14.0      75.0   52        NaN   \n",
       "3     1000 2018-08-01     408.0   52.0     14.0      81.0   52        NaN   \n",
       "4     1000 2018-09-01     466.0   58.0     15.0      57.0   52        NaN   \n",
       "5     1000 2018-10-01     350.0   57.0     15.0      73.0   52        NaN   \n",
       "6     1000 2018-11-01     338.0   43.0     15.0      58.0   52        NaN   \n",
       "7     1000 2018-12-01     333.0   46.0     10.0      70.0   52        NaN   \n",
       "8     1001 2018-11-01     430.0   59.0     18.0       0.0   41        NaN   \n",
       "9     1001 2018-12-01     414.0   63.0     14.0       0.0   41        NaN   \n",
       "\n",
       "        city first_name  last_name    reg_date tariff  messages_included  \\\n",
       "0  Краснодар     Рафаил  Верещагин  2018-05-25  ultra               1000   \n",
       "1  Краснодар     Рафаил  Верещагин  2018-05-25  ultra               1000   \n",
       "2  Краснодар     Рафаил  Верещагин  2018-05-25  ultra               1000   \n",
       "3  Краснодар     Рафаил  Верещагин  2018-05-25  ultra               1000   \n",
       "4  Краснодар     Рафаил  Верещагин  2018-05-25  ultra               1000   \n",
       "5  Краснодар     Рафаил  Верещагин  2018-05-25  ultra               1000   \n",
       "6  Краснодар     Рафаил  Верещагин  2018-05-25  ultra               1000   \n",
       "7  Краснодар     Рафаил  Верещагин  2018-05-25  ultra               1000   \n",
       "8     Москва       Иван       Ежов  2018-11-01  smart                 50   \n",
       "9     Москва       Иван       Ежов  2018-11-01  smart                 50   \n",
       "\n",
       "   gb_per_month_included  minutes_included  rub_monthly_fee  rub_per_gb  \\\n",
       "0                   30.0              3000             1950         150   \n",
       "1                   30.0              3000             1950         150   \n",
       "2                   30.0              3000             1950         150   \n",
       "3                   30.0              3000             1950         150   \n",
       "4                   30.0              3000             1950         150   \n",
       "5                   30.0              3000             1950         150   \n",
       "6                   30.0              3000             1950         150   \n",
       "7                   30.0              3000             1950         150   \n",
       "8                   15.0               500              550         200   \n",
       "9                   15.0               500              550         200   \n",
       "\n",
       "   rub_per_message  rub_per_minute tariff_name  revenue  \n",
       "0                1               1       ultra   1950.0  \n",
       "1                1               1       ultra   1950.0  \n",
       "2                1               1       ultra   1950.0  \n",
       "3                1               1       ultra   1950.0  \n",
       "4                1               1       ultra   1950.0  \n",
       "5                1               1       ultra   1950.0  \n",
       "6                1               1       ultra   1950.0  \n",
       "7                1               1       ultra   1950.0  \n",
       "8                3               3       smart   1150.0  \n",
       "9                3               3       smart    550.0  "
      ]
     },
     "metadata": {},
     "output_type": "display_data"
    }
   ],
   "source": [
    "# Создаю функцию для подсчета помесячной выручки с каждого пользователя \n",
    "\n",
    "def revenue(row):\n",
    "    rub_monthly_fee = row['rub_monthly_fee']\n",
    "    if(row['gb_used'] - row['gb_per_month_included'])>0:\n",
    "        internet_fee = ((row['gb_used']-row['gb_per_month_included'])*row['rub_per_gb'])\n",
    "    else: internet_fee = 0\n",
    "        \n",
    "    if(row['messages'] - row['messages_included'])>0:\n",
    "        messages_fee = ((row['messages']-row['messages_included'])*row['rub_per_message'])\n",
    "    else: messages_fee = 0\n",
    "        \n",
    "    if(row['duration'] - row['minutes_included'])>0:\n",
    "        minutes_fee = ((row['duration']-row['minutes_included'])*row['rub_per_minute'])\n",
    "    else: minutes_fee = 0\n",
    "        \n",
    "    revenue_per_user = internet_fee + messages_fee + minutes_fee + rub_monthly_fee\n",
    "    return revenue_per_user\n",
    "\n",
    "# Создаю столбец revenue со значением выручки и применяю функцию\n",
    "df_merged['revenue'] = df_merged.apply(revenue, axis=1)\n",
    "pd.set_option('display.max_columns', None)\n",
    "display(df_merged.head(10))"
   ]
  },
  {
   "cell_type": "markdown",
   "metadata": {},
   "source": [
    "### Вывод"
   ]
  },
  {
   "cell_type": "markdown",
   "metadata": {},
   "source": [
    "Данные сгруппированы в единую таблицу для каждого пользователя по месяцам. Посчитано количество сделанных звонков(calls),израсходованных минут разговора (duration), количество отправленных сообщений (messages), объем израсходованного интернет-трафика в Гб по месяцам(gb_used).  Минуты разговора и трафик округлены в большую сторону и посчитана помесячная выручка с каждого пользователя (revenue).\n"
   ]
  },
  {
   "cell_type": "markdown",
   "metadata": {},
   "source": [
    "##  Анализ данных"
   ]
  },
  {
   "cell_type": "markdown",
   "metadata": {},
   "source": [
    "### Анализ минут разговора , сообщений,  интернет-трафика"
   ]
  },
  {
   "cell_type": "code",
   "execution_count": 7,
   "metadata": {},
   "outputs": [
    {
     "data": {
      "image/png": "[encoded data removed]",
      "text/plain": [
       "<Figure size 1080x432 with 2 Axes>"
      ]
     },
     "metadata": {
      "needs_background": "light"
     },
     "output_type": "display_data"
    },
    {
     "data": {
      "image/png": "[encoded data removed]",
      "text/plain": [
       "<Figure size 1080x432 with 2 Axes>"
      ]
     },
     "metadata": {
      "needs_background": "light"
     },
     "output_type": "display_data"
    },
    {
     "data": {
      "image/png": "[encoded data removed]",
      "text/plain": [
       "<Figure size 576x576 with 1 Axes>"
      ]
     },
     "metadata": {
      "needs_background": "light"
     },
     "output_type": "display_data"
    },
    {
     "data": {
      "image/png": "[encoded data removed]",
      "text/plain": [
       "<Figure size 1080x432 with 2 Axes>"
      ]
     },
     "metadata": {
      "needs_background": "light"
     },
     "output_type": "display_data"
    }
   ],
   "source": [
    "# Построю гистограммы с разбивкой по тарифам\n",
    "import matplotlib.pyplot as plt\n",
    "\n",
    "def hist (a, b): # Функция для построения гистограмм по тарифам\n",
    "    fig, axes = plt.subplots(1,2, figsize=(15,6))\n",
    "    df_merged.query('tariff==\"ultra\"').plot(kind='hist', bins=10, y=a, title='Тариф ультра', ax=axes[0]).set_xlabel(b)\n",
    "    df_merged.query('tariff==\"smart\"').plot(kind='hist', bins=10, y=a, title='Тариф смарт', ax=axes[1]).set_xlabel(b)\n",
    "    plt.show()\n",
    "    \n",
    "# Построим гистограммы для звонов   \n",
    "hist ('duration', 'Длительность звонков, мин. в мес.')\n",
    "\n",
    "# Судя по гистограммам звонков выигрывает тариф ультра, среднее количество минут в мес. 500 против 400.\n",
    "# И максимальные значения у тарифа ультра выше, явно абоненты разговаривают больше. \n",
    "# Распределения на графиках менее нормальное, со сдвигом в левую сторону к нулям. \n",
    "# Такой эффект дают пропущенные звонки в выборке.\n",
    "\n",
    "\n",
    "# Посмотрим смс\n",
    "hist ('messages', 'Количество сообщений в мес.')\n",
    "\n",
    "# Sms популярнее у абонентов тарифа ультра.\n",
    "# Хотя большое количество нулевых значений говорят о непопулярности этой услугя для обоих тарифов.\n",
    "# Распределение не-нормальное. Пик приходится на околонулевые значения. Даже среднее по графику не понять\n",
    "# Придется строить диаграмму размаха\n",
    "\n",
    "ax = df_merged.boxplot(column='messages', by='tariff', figsize=(8,8))\n",
    "ax.set_title('Распределение смс по тарифам')\n",
    "ax.set_xlabel('Тариф')\n",
    "ax.set_ylabel('Количество смс в мес.')\n",
    "# Медиана для смс в тарифе ультра около 40, а в тарифе смарт около 30\n",
    "\n",
    "\n",
    "# Построим гистограммы для интернет-трафика\n",
    "hist ('gb_used', 'Количество гб в мес.')\n",
    "\n",
    "# Интернета абоненты тарифа ультра также тратят больше\n",
    "# Распределение более похоже на нормальное, скошено влево к нулевым значениям \n",
    "# неудачных попыток подключения или абонентов не использующих мобильный интернет"
   ]
  },
  {
   "cell_type": "markdown",
   "metadata": {},
   "source": [
    "### Анализ выручки по тарифам"
   ]
  },
  {
   "cell_type": "code",
   "execution_count": 8,
   "metadata": {},
   "outputs": [
    {
     "data": {
      "image/png": "[encoded data removed]",
      "text/plain": [
       "<Figure size 432x288 with 1 Axes>"
      ]
     },
     "metadata": {
      "needs_background": "light"
     },
     "output_type": "display_data"
    }
   ],
   "source": [
    "# Строю графики по выручке с разбивкой по тарифам\n",
    "import seaborn as sns\n",
    "\n",
    "for tariff in df_merged['tariff'].unique():\n",
    "    current = df_merged.query('tariff==@tariff')\n",
    "    sns.distplot(current['revenue'], label = tariff)\n",
    "plt.legend()\n",
    "plt.title('Распределение выручки по тарифам')\n",
    "plt.xlabel('Выручка, руб.')\n",
    "plt.ylabel('Количество абонентов, чел.')\n",
    "plt.show()\n",
    "\n",
    "# На графике четко видны пики абонентской платы по тарифам\n",
    "# Распределение выручки по тарифу смарт более нормальное, с длинным хвостом вправо\n",
    "# Распределение выручки по тарифу ультра не-нормальное, скошено влево, самое большое значение - абонентская плата"
   ]
  },
  {
   "cell_type": "markdown",
   "metadata": {},
   "source": [
    "### Подсчет дисперсии, стандартного отклонения, средних значений"
   ]
  },
  {
   "cell_type": "code",
   "execution_count": 9,
   "metadata": {},
   "outputs": [
    {
     "name": "stdout",
     "output_type": "stream",
     "text": [
      "Тариф ультра\n"
     ]
    },
    {
     "data": {
      "text/html": [
       "<style  type=\"text/css\" >\n",
       "</style><table id=\"T_18d4b160_8d8a_11ec_a3ff_02420a39743d\" ><thead>    <tr>        <th class=\"blank level0\" ></th>        <th class=\"col_heading level0 col0\" >count</th>        <th class=\"col_heading level0 col1\" >mean</th>        <th class=\"col_heading level0 col2\" >std</th>        <th class=\"col_heading level0 col3\" >min</th>        <th class=\"col_heading level0 col4\" >25%</th>        <th class=\"col_heading level0 col5\" >50%</th>        <th class=\"col_heading level0 col6\" >75%</th>        <th class=\"col_heading level0 col7\" >max</th>    </tr></thead><tbody>\n",
       "                <tr>\n",
       "                        <th id=\"T_18d4b160_8d8a_11ec_a3ff_02420a39743dlevel0_row0\" class=\"row_heading level0 row0\" >duration</th>\n",
       "                        <td id=\"T_18d4b160_8d8a_11ec_a3ff_02420a39743drow0_col0\" class=\"data row0 col0\" >985.00</td>\n",
       "                        <td id=\"T_18d4b160_8d8a_11ec_a3ff_02420a39743drow0_col1\" class=\"data row0 col1\" >526.62</td>\n",
       "                        <td id=\"T_18d4b160_8d8a_11ec_a3ff_02420a39743drow0_col2\" class=\"data row0 col2\" >317.61</td>\n",
       "                        <td id=\"T_18d4b160_8d8a_11ec_a3ff_02420a39743drow0_col3\" class=\"data row0 col3\" >0.00</td>\n",
       "                        <td id=\"T_18d4b160_8d8a_11ec_a3ff_02420a39743drow0_col4\" class=\"data row0 col4\" >284.00</td>\n",
       "                        <td id=\"T_18d4b160_8d8a_11ec_a3ff_02420a39743drow0_col5\" class=\"data row0 col5\" >518.00</td>\n",
       "                        <td id=\"T_18d4b160_8d8a_11ec_a3ff_02420a39743drow0_col6\" class=\"data row0 col6\" >752.00</td>\n",
       "                        <td id=\"T_18d4b160_8d8a_11ec_a3ff_02420a39743drow0_col7\" class=\"data row0 col7\" >1673.00</td>\n",
       "            </tr>\n",
       "            <tr>\n",
       "                        <th id=\"T_18d4b160_8d8a_11ec_a3ff_02420a39743dlevel0_row1\" class=\"row_heading level0 row1\" >gb_used</th>\n",
       "                        <td id=\"T_18d4b160_8d8a_11ec_a3ff_02420a39743drow1_col0\" class=\"data row1 col0\" >985.00</td>\n",
       "                        <td id=\"T_18d4b160_8d8a_11ec_a3ff_02420a39743drow1_col1\" class=\"data row1 col1\" >19.49</td>\n",
       "                        <td id=\"T_18d4b160_8d8a_11ec_a3ff_02420a39743drow1_col2\" class=\"data row1 col2\" >9.85</td>\n",
       "                        <td id=\"T_18d4b160_8d8a_11ec_a3ff_02420a39743drow1_col3\" class=\"data row1 col3\" >0.00</td>\n",
       "                        <td id=\"T_18d4b160_8d8a_11ec_a3ff_02420a39743drow1_col4\" class=\"data row1 col4\" >12.00</td>\n",
       "                        <td id=\"T_18d4b160_8d8a_11ec_a3ff_02420a39743drow1_col5\" class=\"data row1 col5\" >19.00</td>\n",
       "                        <td id=\"T_18d4b160_8d8a_11ec_a3ff_02420a39743drow1_col6\" class=\"data row1 col6\" >27.00</td>\n",
       "                        <td id=\"T_18d4b160_8d8a_11ec_a3ff_02420a39743drow1_col7\" class=\"data row1 col7\" >49.00</td>\n",
       "            </tr>\n",
       "            <tr>\n",
       "                        <th id=\"T_18d4b160_8d8a_11ec_a3ff_02420a39743dlevel0_row2\" class=\"row_heading level0 row2\" >messages</th>\n",
       "                        <td id=\"T_18d4b160_8d8a_11ec_a3ff_02420a39743drow2_col0\" class=\"data row2 col0\" >985.00</td>\n",
       "                        <td id=\"T_18d4b160_8d8a_11ec_a3ff_02420a39743drow2_col1\" class=\"data row2 col1\" >49.36</td>\n",
       "                        <td id=\"T_18d4b160_8d8a_11ec_a3ff_02420a39743drow2_col2\" class=\"data row2 col2\" >47.80</td>\n",
       "                        <td id=\"T_18d4b160_8d8a_11ec_a3ff_02420a39743drow2_col3\" class=\"data row2 col3\" >0.00</td>\n",
       "                        <td id=\"T_18d4b160_8d8a_11ec_a3ff_02420a39743drow2_col4\" class=\"data row2 col4\" >6.00</td>\n",
       "                        <td id=\"T_18d4b160_8d8a_11ec_a3ff_02420a39743drow2_col5\" class=\"data row2 col5\" >38.00</td>\n",
       "                        <td id=\"T_18d4b160_8d8a_11ec_a3ff_02420a39743drow2_col6\" class=\"data row2 col6\" >79.00</td>\n",
       "                        <td id=\"T_18d4b160_8d8a_11ec_a3ff_02420a39743drow2_col7\" class=\"data row2 col7\" >224.00</td>\n",
       "            </tr>\n",
       "            <tr>\n",
       "                        <th id=\"T_18d4b160_8d8a_11ec_a3ff_02420a39743dlevel0_row3\" class=\"row_heading level0 row3\" >revenue</th>\n",
       "                        <td id=\"T_18d4b160_8d8a_11ec_a3ff_02420a39743drow3_col0\" class=\"data row3 col0\" >985.00</td>\n",
       "                        <td id=\"T_18d4b160_8d8a_11ec_a3ff_02420a39743drow3_col1\" class=\"data row3 col1\" >2070.15</td>\n",
       "                        <td id=\"T_18d4b160_8d8a_11ec_a3ff_02420a39743drow3_col2\" class=\"data row3 col2\" >376.19</td>\n",
       "                        <td id=\"T_18d4b160_8d8a_11ec_a3ff_02420a39743drow3_col3\" class=\"data row3 col3\" >1950.00</td>\n",
       "                        <td id=\"T_18d4b160_8d8a_11ec_a3ff_02420a39743drow3_col4\" class=\"data row3 col4\" >1950.00</td>\n",
       "                        <td id=\"T_18d4b160_8d8a_11ec_a3ff_02420a39743drow3_col5\" class=\"data row3 col5\" >1950.00</td>\n",
       "                        <td id=\"T_18d4b160_8d8a_11ec_a3ff_02420a39743drow3_col6\" class=\"data row3 col6\" >1950.00</td>\n",
       "                        <td id=\"T_18d4b160_8d8a_11ec_a3ff_02420a39743drow3_col7\" class=\"data row3 col7\" >4800.00</td>\n",
       "            </tr>\n",
       "    </tbody></table>"
      ],
      "text/plain": [
       "<pandas.io.formats.style.Styler at 0x7f4061c99950>"
      ]
     },
     "metadata": {},
     "output_type": "display_data"
    },
    {
     "name": "stdout",
     "output_type": "stream",
     "text": [
      "Тариф смарт\n"
     ]
    },
    {
     "data": {
      "text/html": [
       "<style  type=\"text/css\" >\n",
       "</style><table id=\"T_18d8113e_8d8a_11ec_a3ff_02420a39743d\" ><thead>    <tr>        <th class=\"blank level0\" ></th>        <th class=\"col_heading level0 col0\" >count</th>        <th class=\"col_heading level0 col1\" >mean</th>        <th class=\"col_heading level0 col2\" >std</th>        <th class=\"col_heading level0 col3\" >min</th>        <th class=\"col_heading level0 col4\" >25%</th>        <th class=\"col_heading level0 col5\" >50%</th>        <th class=\"col_heading level0 col6\" >75%</th>        <th class=\"col_heading level0 col7\" >max</th>    </tr></thead><tbody>\n",
       "                <tr>\n",
       "                        <th id=\"T_18d8113e_8d8a_11ec_a3ff_02420a39743dlevel0_row0\" class=\"row_heading level0 row0\" >duration</th>\n",
       "                        <td id=\"T_18d8113e_8d8a_11ec_a3ff_02420a39743drow0_col0\" class=\"data row0 col0\" >2229.00</td>\n",
       "                        <td id=\"T_18d8113e_8d8a_11ec_a3ff_02420a39743drow0_col1\" class=\"data row0 col1\" >417.93</td>\n",
       "                        <td id=\"T_18d8113e_8d8a_11ec_a3ff_02420a39743drow0_col2\" class=\"data row0 col2\" >190.31</td>\n",
       "                        <td id=\"T_18d8113e_8d8a_11ec_a3ff_02420a39743drow0_col3\" class=\"data row0 col3\" >0.00</td>\n",
       "                        <td id=\"T_18d8113e_8d8a_11ec_a3ff_02420a39743drow0_col4\" class=\"data row0 col4\" >282.00</td>\n",
       "                        <td id=\"T_18d8113e_8d8a_11ec_a3ff_02420a39743drow0_col5\" class=\"data row0 col5\" >422.00</td>\n",
       "                        <td id=\"T_18d8113e_8d8a_11ec_a3ff_02420a39743drow0_col6\" class=\"data row0 col6\" >545.00</td>\n",
       "                        <td id=\"T_18d8113e_8d8a_11ec_a3ff_02420a39743drow0_col7\" class=\"data row0 col7\" >1435.00</td>\n",
       "            </tr>\n",
       "            <tr>\n",
       "                        <th id=\"T_18d8113e_8d8a_11ec_a3ff_02420a39743dlevel0_row1\" class=\"row_heading level0 row1\" >gb_used</th>\n",
       "                        <td id=\"T_18d8113e_8d8a_11ec_a3ff_02420a39743drow1_col0\" class=\"data row1 col0\" >2229.00</td>\n",
       "                        <td id=\"T_18d8113e_8d8a_11ec_a3ff_02420a39743drow1_col1\" class=\"data row1 col1\" >16.33</td>\n",
       "                        <td id=\"T_18d8113e_8d8a_11ec_a3ff_02420a39743drow1_col2\" class=\"data row1 col2\" >5.75</td>\n",
       "                        <td id=\"T_18d8113e_8d8a_11ec_a3ff_02420a39743drow1_col3\" class=\"data row1 col3\" >0.00</td>\n",
       "                        <td id=\"T_18d8113e_8d8a_11ec_a3ff_02420a39743drow1_col4\" class=\"data row1 col4\" >13.00</td>\n",
       "                        <td id=\"T_18d8113e_8d8a_11ec_a3ff_02420a39743drow1_col5\" class=\"data row1 col5\" >17.00</td>\n",
       "                        <td id=\"T_18d8113e_8d8a_11ec_a3ff_02420a39743drow1_col6\" class=\"data row1 col6\" >20.00</td>\n",
       "                        <td id=\"T_18d8113e_8d8a_11ec_a3ff_02420a39743drow1_col7\" class=\"data row1 col7\" >38.00</td>\n",
       "            </tr>\n",
       "            <tr>\n",
       "                        <th id=\"T_18d8113e_8d8a_11ec_a3ff_02420a39743dlevel0_row2\" class=\"row_heading level0 row2\" >messages</th>\n",
       "                        <td id=\"T_18d8113e_8d8a_11ec_a3ff_02420a39743drow2_col0\" class=\"data row2 col0\" >2229.00</td>\n",
       "                        <td id=\"T_18d8113e_8d8a_11ec_a3ff_02420a39743drow2_col1\" class=\"data row2 col1\" >33.38</td>\n",
       "                        <td id=\"T_18d8113e_8d8a_11ec_a3ff_02420a39743drow2_col2\" class=\"data row2 col2\" >28.23</td>\n",
       "                        <td id=\"T_18d8113e_8d8a_11ec_a3ff_02420a39743drow2_col3\" class=\"data row2 col3\" >0.00</td>\n",
       "                        <td id=\"T_18d8113e_8d8a_11ec_a3ff_02420a39743drow2_col4\" class=\"data row2 col4\" >10.00</td>\n",
       "                        <td id=\"T_18d8113e_8d8a_11ec_a3ff_02420a39743drow2_col5\" class=\"data row2 col5\" >28.00</td>\n",
       "                        <td id=\"T_18d8113e_8d8a_11ec_a3ff_02420a39743drow2_col6\" class=\"data row2 col6\" >51.00</td>\n",
       "                        <td id=\"T_18d8113e_8d8a_11ec_a3ff_02420a39743drow2_col7\" class=\"data row2 col7\" >143.00</td>\n",
       "            </tr>\n",
       "            <tr>\n",
       "                        <th id=\"T_18d8113e_8d8a_11ec_a3ff_02420a39743dlevel0_row3\" class=\"row_heading level0 row3\" >revenue</th>\n",
       "                        <td id=\"T_18d8113e_8d8a_11ec_a3ff_02420a39743drow3_col0\" class=\"data row3 col0\" >2229.00</td>\n",
       "                        <td id=\"T_18d8113e_8d8a_11ec_a3ff_02420a39743drow3_col1\" class=\"data row3 col1\" >1289.97</td>\n",
       "                        <td id=\"T_18d8113e_8d8a_11ec_a3ff_02420a39743drow3_col2\" class=\"data row3 col2\" >818.40</td>\n",
       "                        <td id=\"T_18d8113e_8d8a_11ec_a3ff_02420a39743drow3_col3\" class=\"data row3 col3\" >550.00</td>\n",
       "                        <td id=\"T_18d8113e_8d8a_11ec_a3ff_02420a39743drow3_col4\" class=\"data row3 col4\" >550.00</td>\n",
       "                        <td id=\"T_18d8113e_8d8a_11ec_a3ff_02420a39743drow3_col5\" class=\"data row3 col5\" >1023.00</td>\n",
       "                        <td id=\"T_18d8113e_8d8a_11ec_a3ff_02420a39743drow3_col6\" class=\"data row3 col6\" >1750.00</td>\n",
       "                        <td id=\"T_18d8113e_8d8a_11ec_a3ff_02420a39743drow3_col7\" class=\"data row3 col7\" >6770.00</td>\n",
       "            </tr>\n",
       "    </tbody></table>"
      ],
      "text/plain": [
       "<pandas.io.formats.style.Styler at 0x7f40c6b36190>"
      ]
     },
     "metadata": {},
     "output_type": "display_data"
    },
    {
     "name": "stdout",
     "output_type": "stream",
     "text": [
      "Дисперсия тариф ультра\n",
      "duration    100771.223617\n",
      "gb_used         96.993116\n",
      "messages      2282.946075\n",
      "revenue     141373.073256\n",
      "dtype: float64\n",
      "Дисперсия тариф смарт\n",
      "duration     36203.066652\n",
      "gb_used         33.013887\n",
      "messages       796.455483\n",
      "revenue     669485.220923\n",
      "dtype: float64\n"
     ]
    }
   ],
   "source": [
    "# Посчитаем средние значения, дисперсию и стандартное отклонение\n",
    "# Для среднего значения и стандартного отклонения использую метод describe, а для дисперсии var()\n",
    "print('Тариф ультра')\n",
    "display(df_merged.query('tariff==\"ultra\"')[['duration', 'gb_used', 'messages', 'revenue']].describe().T.style.format('{:.2f}'))\n",
    "\n",
    "print('Тариф смарт')\n",
    "display(df_merged.query('tariff==\"smart\"')[['duration', 'gb_used', 'messages', 'revenue']].describe().T.style.format('{:.2f}'))\n",
    "# Средние значения практически совпадают с медианой, \n",
    "# Значит выбросы и нули не значительны и слабо вляют на средне\n",
    "import numpy as np\n",
    "print('Дисперсия тариф ультра')\n",
    "variance = np.var(df_merged.query('tariff==\"ultra\"')[['duration', 'gb_used', 'messages', 'revenue']])\n",
    "print(variance)\n",
    "\n",
    "print('Дисперсия тариф смарт')\n",
    "variance = np.var(df_merged.query('tariff==\"smart\"')[['duration', 'gb_used', 'messages', 'revenue']])\n",
    "print(variance)"
   ]
  },
  {
   "cell_type": "markdown",
   "metadata": {},
   "source": [
    "### Вывод"
   ]
  },
  {
   "cell_type": "markdown",
   "metadata": {},
   "source": [
    "Пользователи тарифа ультра тратят в месяц в среднем больше минут, смс и интернета.\n",
    "Звонки в среднем 497.55 мин в тарифе ультра, 394.92 мин в тарифе смарт. Стандартное отклонение по звонкам в тарифе ультра 299.93, а в тарифе смарт 179.98, дисперсия 89866.39 и 32378.37. Получается, среди абонентов ультры много и тех, кто мало разговаривает, и тех, кто говорит очень много. В тариф ультра включено 3000 минут, а 75% пользователей выговаривают только 712 минут, максимальное значение 1579 минут.\n",
    "В тариф смарт включено 500 минут, и большая часть пользователей как раз их и выговаривают.\n",
    "\n",
    "Среднее количество смс в тарифе ультра 49, а в тарифе смарт 33; стандартные отклонения 47.8 и 28.23; дисперсия 2282.94 и 796.4. Разброс количества смс в тарифе ультра также выше.\n",
    "Однако, большинство абонентов не выходят за рамки уже включенных в тариф смс. Это не популярная услуга.\n",
    "\n",
    "Среднее количество потраченных гб в мес в тарифе ультра 19.49, а в тарифе смарт 16.33; стандартное отклонение  9.85 и 5.75; дисперсия 96.99 и 33.01. Да, пользователи тарифа ультра в среднем тратят интернета больше, но разница между тарифами не большая. Небольшое стандартное отклонение и дисперсия указывают на то, что все абоненты тратят примерно одинаково много гб и выходят за рамки лимитов тарифов.\n",
    "\n",
    "В итоге, в среднем абонент ультры тратит 2070 руб. на телефон, а абонент тарифа смарт 1257 руб.\n",
    "Стандартное отклонение по выручке ультра 376.19 и смарт 800.92, дисперсия ультра 141 373, смарт 641 178.\n",
    "Разброс выручки в тарифе смарт выше, так как многим абонентам сложно уложится в лимит по интернету и звонкам."
   ]
  },
  {
   "cell_type": "markdown",
   "metadata": {},
   "source": [
    "## Проверка гипотез"
   ]
  },
  {
   "cell_type": "markdown",
   "metadata": {},
   "source": [
    "### Гипотеза о равенстве выручки по тарифам"
   ]
  },
  {
   "cell_type": "code",
   "execution_count": 10,
   "metadata": {},
   "outputs": [
    {
     "name": "stdout",
     "output_type": "stream",
     "text": [
      "p-значение:  4.2606313931076085e-250\n",
      "Отвергаем нулевую гипотезу\n"
     ]
    }
   ],
   "source": [
    "# Проверим нулевую гипотезу:\n",
    "# Средняя выручка оператора мобильной связи по тарифу «Ультра» \n",
    "# равна средней выручке по тарифу «Смарт».\n",
    "# Альтернативная гипотеза: Средняя выручка по тарифам различается.\n",
    "from scipy import stats as st\n",
    "alpha = .05 #Критический уровень статистической значимости, означает допустимый уровень ошибки 5 %\n",
    "# Если p-value меньше его, гипотеза будет отвергнута\n",
    "\n",
    "results = st.ttest_ind(\n",
    "    df_merged.query('tariff==\"smart\"')['revenue'],\n",
    "    df_merged.query('tariff==\"ultra\"')['revenue'],\n",
    "equal_var = False) #Значение False так как выборки разного размера\n",
    "\n",
    "print('p-значение: ', results.pvalue)\n",
    "\n",
    "if results.pvalue < alpha:\n",
    "    print('Отвергаем нулевую гипотезу')\n",
    "else:\n",
    "    print('Не получилось отвергнуть нулевую гипотезу')\n",
    "\n",
    "# Нулевая гипотеза отвергается в пользу альтернативной\n",
    "# Статистический тест подтверждает, что средняя выручка по тарифам различается."
   ]
  },
  {
   "cell_type": "markdown",
   "metadata": {},
   "source": [
    "### Гипотеза о равенстве выручки в Москве и регионах"
   ]
  },
  {
   "cell_type": "code",
   "execution_count": 11,
   "metadata": {},
   "outputs": [
    {
     "name": "stdout",
     "output_type": "stream",
     "text": [
      "p-значение:  0.5257376663729298\n",
      "Не получилось отвергнуть нулевую гипотезу\n"
     ]
    }
   ],
   "source": [
    "# Проверим нулевую гипотезу:\n",
    "# Cредняя выручка компании по абонентам из Москвы равна средней выручке по абонентам из других регионов\n",
    "# Альтернативная гипотеза: Средняя выручка по Москве отличается от средней выручки по регионам\n",
    "\n",
    "alpha = .05 #Критический уровень статистической значимости, означает допустимый уровень ошибки 5 %\n",
    "# Если p-value меньше его, гипотеза будет отвергнута\n",
    "\n",
    "results = st.ttest_ind(\n",
    "    df_merged.query('city==\"Москва\"')['revenue'],\n",
    "    df_merged.query('city!=\"Москва\"')['revenue'],\n",
    "equal_var = False) #Значение False так как выборки разного размера\n",
    "\n",
    "print('p-значение: ', results.pvalue)\n",
    "\n",
    "if results.pvalue < alpha:\n",
    "    print('Отвергаем нулевую гипотезу')\n",
    "else:\n",
    "    print('Не получилось отвергнуть нулевую гипотезу')\n",
    "    \n",
    "# Стат-тест показал,нельзя утверждать, что средняя выручка по Москве отличается\n",
    "# от средней выручки по регионам."
   ]
  },
  {
   "cell_type": "markdown",
   "metadata": {},
   "source": [
    "### Вывод"
   ]
  },
  {
   "cell_type": "markdown",
   "metadata": {},
   "source": [
    "Двусторонние стат-тесты показали, что средняя выручка оператора мобильной связи по тарифам «Ультра» и «Смарт» различается. И нельзя утверждать, что средняя выручка по Москве отличается от средней выручки по регионам."
   ]
  },
  {
   "cell_type": "markdown",
   "metadata": {},
   "source": [
    "## Общий вывод"
   ]
  },
  {
   "cell_type": "markdown",
   "metadata": {},
   "source": [
    "Проведенный анализ и стат-тест подтвердили разницу в прибыльности тарифов. Тариф \"Ультра\" для компании является более выгодным и перспективным. В среднем абонент в этом тарифе тратит 2070 руб. ежемесячно, а в тарифе \"Смарт\" 1258 руб. В тариф ультра включено 3000 минут, а абоненты в среднем тратят 497 минут. В тариф \"Смарт\" включены 500 минут, абоненты тратят в среднем 395 минут.\n",
    "Среднее количество потраченных гб в мес в тарифе ультра 19.49 (включены 30), а в тарифе смарт 16.33 (включены 15). Большинство абонентов не выходят за рамки уже включенных в тариф смс. \n",
    "Получается, абоненты \"Ультра\" в среднем тратят ненамного больше минут и гб, а платят в среднем на 64% больше абонентов тарифа \"Смарт\".\n"
   ]
  }
 ],
 "metadata": {
  "ExecuteTimeLog": [
   {
    "duration": 943,
    "start_time": "2022-01-29T21:38:38.950Z"
   },
   {
    "duration": 1222,
    "start_time": "2022-01-29T21:40:33.715Z"
   },
   {
    "duration": 220,
    "start_time": "2022-01-29T21:40:45.667Z"
   },
   {
    "duration": 217,
    "start_time": "2022-01-29T21:44:50.101Z"
   },
   {
    "duration": 206,
    "start_time": "2022-01-29T21:52:44.458Z"
   },
   {
    "duration": 236,
    "start_time": "2022-01-29T21:52:52.022Z"
   },
   {
    "duration": 200,
    "start_time": "2022-01-29T21:53:02.510Z"
   },
   {
    "duration": 215,
    "start_time": "2022-01-29T21:54:41.755Z"
   },
   {
    "duration": 212,
    "start_time": "2022-01-29T21:54:53.721Z"
   },
   {
    "duration": 217,
    "start_time": "2022-01-29T21:55:18.879Z"
   },
   {
    "duration": 351,
    "start_time": "2022-01-29T21:59:17.664Z"
   },
   {
    "duration": 91,
    "start_time": "2022-01-29T22:08:46.689Z"
   },
   {
    "duration": 105,
    "start_time": "2022-01-29T22:09:27.146Z"
   },
   {
    "duration": 2605,
    "start_time": "2022-01-29T22:10:42.708Z"
   },
   {
    "duration": 2383,
    "start_time": "2022-01-29T22:10:56.880Z"
   },
   {
    "duration": 2294,
    "start_time": "2022-01-29T22:11:38.920Z"
   },
   {
    "duration": 486,
    "start_time": "2022-01-29T22:14:07.578Z"
   },
   {
    "duration": 525,
    "start_time": "2022-01-29T22:14:18.566Z"
   },
   {
    "duration": 535,
    "start_time": "2022-01-29T22:16:48.394Z"
   },
   {
    "duration": 527,
    "start_time": "2022-01-29T22:19:46.661Z"
   },
   {
    "duration": 497,
    "start_time": "2022-01-29T22:25:26.713Z"
   },
   {
    "duration": 505,
    "start_time": "2022-01-29T22:25:47.664Z"
   },
   {
    "duration": 974,
    "start_time": "2022-01-29T22:46:07.417Z"
   },
   {
    "duration": 969,
    "start_time": "2022-01-29T22:54:58.580Z"
   },
   {
    "duration": 1290,
    "start_time": "2022-01-29T22:58:31.933Z"
   },
   {
    "duration": 121,
    "start_time": "2022-01-29T22:59:17.030Z"
   },
   {
    "duration": 1040,
    "start_time": "2022-01-29T22:59:25.469Z"
   },
   {
    "duration": 798,
    "start_time": "2022-01-29T23:01:22.502Z"
   },
   {
    "duration": 1328,
    "start_time": "2022-01-29T23:05:32.518Z"
   },
   {
    "duration": 1125,
    "start_time": "2022-01-29T23:15:05.635Z"
   },
   {
    "duration": 660,
    "start_time": "2022-01-29T23:15:27.534Z"
   },
   {
    "duration": 901,
    "start_time": "2022-01-29T23:16:31.456Z"
   },
   {
    "duration": 647,
    "start_time": "2022-01-29T23:17:39.304Z"
   },
   {
    "duration": 868,
    "start_time": "2022-01-29T23:22:06.897Z"
   },
   {
    "duration": 552,
    "start_time": "2022-01-29T23:22:38.077Z"
   },
   {
    "duration": 543,
    "start_time": "2022-01-29T23:23:37.345Z"
   },
   {
    "duration": 665,
    "start_time": "2022-01-29T23:24:28.315Z"
   },
   {
    "duration": 728,
    "start_time": "2022-01-29T23:24:50.322Z"
   },
   {
    "duration": 706,
    "start_time": "2022-01-29T23:29:23.213Z"
   },
   {
    "duration": 1143,
    "start_time": "2022-01-29T23:31:44.063Z"
   },
   {
    "duration": 2183,
    "start_time": "2022-01-30T23:57:41.474Z"
   },
   {
    "duration": 775,
    "start_time": "2022-01-30T23:59:42.304Z"
   },
   {
    "duration": 1298,
    "start_time": "2022-01-31T00:07:03.857Z"
   },
   {
    "duration": 676,
    "start_time": "2022-01-31T00:09:53.230Z"
   },
   {
    "duration": 616,
    "start_time": "2022-01-31T00:26:14.795Z"
   },
   {
    "duration": 563,
    "start_time": "2022-01-31T00:27:39.409Z"
   },
   {
    "duration": 554,
    "start_time": "2022-01-31T00:29:17.779Z"
   },
   {
    "duration": 303,
    "start_time": "2022-01-31T21:55:07.058Z"
   },
   {
    "duration": 1284,
    "start_time": "2022-01-31T21:55:20.423Z"
   },
   {
    "duration": 334,
    "start_time": "2022-01-31T21:55:21.713Z"
   },
   {
    "duration": 84,
    "start_time": "2022-01-31T22:05:12.806Z"
   },
   {
    "duration": 90,
    "start_time": "2022-01-31T22:05:23.096Z"
   },
   {
    "duration": 231,
    "start_time": "2022-01-31T22:05:36.034Z"
   },
   {
    "duration": 338,
    "start_time": "2022-01-31T22:05:57.180Z"
   },
   {
    "duration": 145,
    "start_time": "2022-01-31T22:08:06.474Z"
   },
   {
    "duration": 199,
    "start_time": "2022-01-31T22:09:55.752Z"
   },
   {
    "duration": 146,
    "start_time": "2022-01-31T22:10:40.792Z"
   },
   {
    "duration": 92,
    "start_time": "2022-01-31T22:41:51.353Z"
   },
   {
    "duration": 76,
    "start_time": "2022-01-31T22:42:16.585Z"
   },
   {
    "duration": 214,
    "start_time": "2022-01-31T22:42:27.413Z"
   },
   {
    "duration": 5769,
    "start_time": "2022-01-31T22:42:55.474Z"
   },
   {
    "duration": 6153,
    "start_time": "2022-01-31T22:43:42.013Z"
   },
   {
    "duration": 6078,
    "start_time": "2022-01-31T23:16:05.048Z"
   },
   {
    "duration": 678,
    "start_time": "2022-01-31T23:19:47.541Z"
   },
   {
    "duration": 1416,
    "start_time": "2022-01-31T23:25:11.988Z"
   },
   {
    "duration": 72,
    "start_time": "2022-01-31T23:25:13.407Z"
   },
   {
    "duration": 70,
    "start_time": "2022-01-31T23:25:46.662Z"
   },
   {
    "duration": 97,
    "start_time": "2022-01-31T23:27:24.386Z"
   },
   {
    "duration": 5878,
    "start_time": "2022-01-31T23:27:54.537Z"
   },
   {
    "duration": 5951,
    "start_time": "2022-01-31T23:28:22.101Z"
   },
   {
    "duration": 5771,
    "start_time": "2022-01-31T23:29:41.315Z"
   },
   {
    "duration": 5765,
    "start_time": "2022-01-31T23:30:44.670Z"
   },
   {
    "duration": 5642,
    "start_time": "2022-01-31T23:31:30.575Z"
   },
   {
    "duration": 6446,
    "start_time": "2022-01-31T23:55:11.592Z"
   },
   {
    "duration": 250,
    "start_time": "2022-01-31T23:55:35.516Z"
   },
   {
    "duration": 4326,
    "start_time": "2022-01-31T23:55:52.615Z"
   },
   {
    "duration": 5770,
    "start_time": "2022-02-01T00:02:29.521Z"
   },
   {
    "duration": 1408,
    "start_time": "2022-02-01T00:02:54.849Z"
   },
   {
    "duration": 74,
    "start_time": "2022-02-01T00:02:56.260Z"
   },
   {
    "duration": 98,
    "start_time": "2022-02-01T00:05:14.784Z"
   },
   {
    "duration": 6000,
    "start_time": "2022-02-01T00:05:43.290Z"
   },
   {
    "duration": 1457,
    "start_time": "2022-02-01T00:06:02.444Z"
   },
   {
    "duration": 110,
    "start_time": "2022-02-01T00:06:03.904Z"
   },
   {
    "duration": 5858,
    "start_time": "2022-02-01T00:08:08.372Z"
   },
   {
    "duration": 1407,
    "start_time": "2022-02-01T00:08:26.467Z"
   },
   {
    "duration": 115,
    "start_time": "2022-02-01T00:08:27.877Z"
   },
   {
    "duration": 5754,
    "start_time": "2022-02-01T00:12:26.427Z"
   },
   {
    "duration": 6063,
    "start_time": "2022-02-01T00:12:33.110Z"
   },
   {
    "duration": 2554,
    "start_time": "2022-02-01T00:12:36.621Z"
   },
   {
    "duration": 1383,
    "start_time": "2022-02-01T00:12:50.353Z"
   },
   {
    "duration": 68,
    "start_time": "2022-02-01T00:12:51.739Z"
   },
   {
    "duration": 63,
    "start_time": "2022-02-01T00:12:51.810Z"
   },
   {
    "duration": 19,
    "start_time": "2022-02-01T00:14:03.024Z"
   },
   {
    "duration": 6013,
    "start_time": "2022-02-01T00:22:08.119Z"
   },
   {
    "duration": 646,
    "start_time": "2022-02-01T00:25:57.302Z"
   },
   {
    "duration": 116,
    "start_time": "2022-02-01T00:27:48.558Z"
   },
   {
    "duration": 585,
    "start_time": "2022-02-01T00:29:34.217Z"
   },
   {
    "duration": 5847,
    "start_time": "2022-02-01T00:30:32.532Z"
   },
   {
    "duration": 162,
    "start_time": "2022-02-01T00:31:30.281Z"
   },
   {
    "duration": 646,
    "start_time": "2022-02-01T00:32:02.319Z"
   },
   {
    "duration": 97,
    "start_time": "2022-02-01T00:49:35.343Z"
   },
   {
    "duration": 252,
    "start_time": "2022-02-01T00:49:42.792Z"
   },
   {
    "duration": 1390,
    "start_time": "2022-02-01T00:49:57.923Z"
   },
   {
    "duration": 176,
    "start_time": "2022-02-01T00:49:59.316Z"
   },
   {
    "duration": 114,
    "start_time": "2022-02-01T00:49:59.495Z"
   },
   {
    "duration": 1355,
    "start_time": "2022-02-01T00:50:43.841Z"
   },
   {
    "duration": 182,
    "start_time": "2022-02-01T00:50:45.198Z"
   },
   {
    "duration": 110,
    "start_time": "2022-02-01T00:50:45.384Z"
   },
   {
    "duration": 5872,
    "start_time": "2022-02-01T01:07:05.487Z"
   },
   {
    "duration": 1352,
    "start_time": "2022-02-01T01:07:27.682Z"
   },
   {
    "duration": 176,
    "start_time": "2022-02-01T01:07:29.038Z"
   },
   {
    "duration": 143,
    "start_time": "2022-02-01T01:07:29.218Z"
   },
   {
    "duration": 84,
    "start_time": "2022-02-01T22:33:27.340Z"
   },
   {
    "duration": 332,
    "start_time": "2022-02-01T22:34:44.197Z"
   },
   {
    "duration": 1487,
    "start_time": "2022-02-01T22:34:55.286Z"
   },
   {
    "duration": 198,
    "start_time": "2022-02-01T22:34:56.776Z"
   },
   {
    "duration": 138,
    "start_time": "2022-02-01T22:34:56.978Z"
   },
   {
    "duration": 6650,
    "start_time": "2022-02-01T22:34:57.119Z"
   },
   {
    "duration": 13,
    "start_time": "2022-02-01T22:36:35.672Z"
   },
   {
    "duration": 39,
    "start_time": "2022-02-01T22:37:25.654Z"
   },
   {
    "duration": 36,
    "start_time": "2022-02-01T22:40:27.470Z"
   },
   {
    "duration": 38,
    "start_time": "2022-02-01T22:44:25.758Z"
   },
   {
    "duration": 91,
    "start_time": "2022-02-01T22:44:49.269Z"
   },
   {
    "duration": 39,
    "start_time": "2022-02-01T22:45:03.486Z"
   },
   {
    "duration": 1088,
    "start_time": "2022-02-02T23:27:38.294Z"
   },
   {
    "duration": 118,
    "start_time": "2022-02-02T23:27:39.384Z"
   },
   {
    "duration": 92,
    "start_time": "2022-02-02T23:27:39.505Z"
   },
   {
    "duration": 131,
    "start_time": "2022-02-02T23:27:39.599Z"
   },
   {
    "duration": 8315,
    "start_time": "2022-02-02T23:31:37.406Z"
   },
   {
    "duration": 8029,
    "start_time": "2022-02-02T23:32:50.802Z"
   },
   {
    "duration": 1036,
    "start_time": "2022-02-02T23:33:41.341Z"
   },
   {
    "duration": 110,
    "start_time": "2022-02-02T23:33:42.378Z"
   },
   {
    "duration": 87,
    "start_time": "2022-02-02T23:33:42.489Z"
   },
   {
    "duration": 8056,
    "start_time": "2022-02-02T23:33:42.577Z"
   },
   {
    "duration": 18,
    "start_time": "2022-02-02T23:35:04.371Z"
   },
   {
    "duration": 1151,
    "start_time": "2022-02-03T00:40:00.395Z"
   },
   {
    "duration": 119,
    "start_time": "2022-02-03T00:40:01.548Z"
   },
   {
    "duration": 98,
    "start_time": "2022-02-03T00:40:01.671Z"
   },
   {
    "duration": 120,
    "start_time": "2022-02-03T00:40:01.771Z"
   },
   {
    "duration": 104,
    "start_time": "2022-02-03T00:42:15.892Z"
   },
   {
    "duration": 112,
    "start_time": "2022-02-03T00:42:54.739Z"
   },
   {
    "duration": 197,
    "start_time": "2022-02-03T00:43:22.642Z"
   },
   {
    "duration": 8003,
    "start_time": "2022-02-03T00:47:00.885Z"
   },
   {
    "duration": 981,
    "start_time": "2022-02-03T00:48:27.177Z"
   },
   {
    "duration": 105,
    "start_time": "2022-02-03T00:48:28.160Z"
   },
   {
    "duration": 87,
    "start_time": "2022-02-03T00:48:28.268Z"
   },
   {
    "duration": 200,
    "start_time": "2022-02-03T00:48:28.356Z"
   },
   {
    "duration": 1005,
    "start_time": "2022-02-03T00:53:52.878Z"
   },
   {
    "duration": 107,
    "start_time": "2022-02-03T00:53:53.884Z"
   },
   {
    "duration": 86,
    "start_time": "2022-02-03T00:53:53.992Z"
   },
   {
    "duration": 105,
    "start_time": "2022-02-03T00:53:54.079Z"
   },
   {
    "duration": 1073,
    "start_time": "2022-02-03T01:12:34.188Z"
   },
   {
    "duration": 118,
    "start_time": "2022-02-03T01:12:35.263Z"
   },
   {
    "duration": 89,
    "start_time": "2022-02-03T01:12:35.383Z"
   },
   {
    "duration": 390,
    "start_time": "2022-02-03T01:12:35.474Z"
   },
   {
    "duration": 324,
    "start_time": "2022-02-03T01:13:04.398Z"
   },
   {
    "duration": 1085,
    "start_time": "2022-02-03T01:13:45.339Z"
   },
   {
    "duration": 112,
    "start_time": "2022-02-03T01:13:46.426Z"
   },
   {
    "duration": 94,
    "start_time": "2022-02-03T01:13:46.542Z"
   },
   {
    "duration": 205,
    "start_time": "2022-02-03T01:13:46.637Z"
   },
   {
    "duration": 1053,
    "start_time": "2022-02-03T01:42:18.741Z"
   },
   {
    "duration": 109,
    "start_time": "2022-02-03T01:42:19.797Z"
   },
   {
    "duration": 89,
    "start_time": "2022-02-03T01:42:19.909Z"
   },
   {
    "duration": 437,
    "start_time": "2022-02-03T01:42:19.999Z"
   },
   {
    "duration": 1009,
    "start_time": "2022-02-03T01:45:06.866Z"
   },
   {
    "duration": 109,
    "start_time": "2022-02-03T01:45:07.876Z"
   },
   {
    "duration": 84,
    "start_time": "2022-02-03T01:45:07.987Z"
   },
   {
    "duration": 194,
    "start_time": "2022-02-03T01:45:08.073Z"
   },
   {
    "duration": 1011,
    "start_time": "2022-02-03T01:57:32.743Z"
   },
   {
    "duration": 104,
    "start_time": "2022-02-03T01:57:33.755Z"
   },
   {
    "duration": 82,
    "start_time": "2022-02-03T01:57:33.861Z"
   },
   {
    "duration": 391,
    "start_time": "2022-02-03T01:57:33.945Z"
   },
   {
    "duration": 968,
    "start_time": "2022-02-03T01:58:07.877Z"
   },
   {
    "duration": 109,
    "start_time": "2022-02-03T01:58:08.846Z"
   },
   {
    "duration": 77,
    "start_time": "2022-02-03T01:58:08.957Z"
   },
   {
    "duration": 194,
    "start_time": "2022-02-03T01:58:09.036Z"
   },
   {
    "duration": 1010,
    "start_time": "2022-02-03T01:58:50.345Z"
   },
   {
    "duration": 103,
    "start_time": "2022-02-03T01:58:51.356Z"
   },
   {
    "duration": 78,
    "start_time": "2022-02-03T01:58:51.461Z"
   },
   {
    "duration": 199,
    "start_time": "2022-02-03T01:58:51.540Z"
   },
   {
    "duration": 1068,
    "start_time": "2022-02-03T02:02:31.910Z"
   },
   {
    "duration": 105,
    "start_time": "2022-02-03T02:02:32.979Z"
   },
   {
    "duration": 81,
    "start_time": "2022-02-03T02:02:33.086Z"
   },
   {
    "duration": 20,
    "start_time": "2022-02-03T02:02:33.168Z"
   },
   {
    "duration": 192,
    "start_time": "2022-02-03T02:02:33.189Z"
   },
   {
    "duration": 187,
    "start_time": "2022-02-03T02:05:18.781Z"
   },
   {
    "duration": 186,
    "start_time": "2022-02-03T02:06:15.508Z"
   },
   {
    "duration": 8271,
    "start_time": "2022-02-03T02:10:12.995Z"
   },
   {
    "duration": 1021,
    "start_time": "2022-02-03T02:10:33.055Z"
   },
   {
    "duration": 120,
    "start_time": "2022-02-03T02:10:34.078Z"
   },
   {
    "duration": 87,
    "start_time": "2022-02-03T02:10:34.200Z"
   },
   {
    "duration": 20,
    "start_time": "2022-02-03T02:10:34.288Z"
   },
   {
    "duration": 197,
    "start_time": "2022-02-03T02:10:34.310Z"
   },
   {
    "duration": 7,
    "start_time": "2022-02-03T02:32:12.757Z"
   },
   {
    "duration": 1134,
    "start_time": "2022-02-03T02:38:09.968Z"
   },
   {
    "duration": 110,
    "start_time": "2022-02-03T02:38:11.104Z"
   },
   {
    "duration": 85,
    "start_time": "2022-02-03T02:38:11.217Z"
   },
   {
    "duration": 30,
    "start_time": "2022-02-03T02:38:11.303Z"
   },
   {
    "duration": 215,
    "start_time": "2022-02-03T02:38:11.335Z"
   },
   {
    "duration": 1094,
    "start_time": "2022-02-03T02:46:12.631Z"
   },
   {
    "duration": 104,
    "start_time": "2022-02-03T02:46:13.727Z"
   },
   {
    "duration": 84,
    "start_time": "2022-02-03T02:46:13.833Z"
   },
   {
    "duration": 27,
    "start_time": "2022-02-03T02:46:13.919Z"
   },
   {
    "duration": 194,
    "start_time": "2022-02-03T02:46:13.947Z"
   },
   {
    "duration": 1133,
    "start_time": "2022-02-03T02:49:00.081Z"
   },
   {
    "duration": 114,
    "start_time": "2022-02-03T02:49:01.216Z"
   },
   {
    "duration": 84,
    "start_time": "2022-02-03T02:49:01.332Z"
   },
   {
    "duration": 32,
    "start_time": "2022-02-03T02:49:01.418Z"
   },
   {
    "duration": 201,
    "start_time": "2022-02-03T02:49:01.452Z"
   },
   {
    "duration": 1084,
    "start_time": "2022-02-03T02:52:40.519Z"
   },
   {
    "duration": 102,
    "start_time": "2022-02-03T02:52:41.605Z"
   },
   {
    "duration": 96,
    "start_time": "2022-02-03T02:52:41.709Z"
   },
   {
    "duration": 29,
    "start_time": "2022-02-03T02:52:41.806Z"
   },
   {
    "duration": 195,
    "start_time": "2022-02-03T02:52:41.837Z"
   },
   {
    "duration": 1160,
    "start_time": "2022-02-03T03:03:58.843Z"
   },
   {
    "duration": 108,
    "start_time": "2022-02-03T03:04:00.005Z"
   },
   {
    "duration": 86,
    "start_time": "2022-02-03T03:04:00.115Z"
   },
   {
    "duration": 111,
    "start_time": "2022-02-03T03:04:00.203Z"
   },
   {
    "duration": 3098,
    "start_time": "2022-02-03T03:03:57.217Z"
   },
   {
    "duration": 1037,
    "start_time": "2022-02-03T03:05:33.579Z"
   },
   {
    "duration": 104,
    "start_time": "2022-02-03T03:05:34.617Z"
   },
   {
    "duration": 102,
    "start_time": "2022-02-03T03:05:34.730Z"
   },
   {
    "duration": 107,
    "start_time": "2022-02-03T03:05:34.834Z"
   },
   {
    "duration": 3104,
    "start_time": "2022-02-03T03:05:31.839Z"
   },
   {
    "duration": 2741,
    "start_time": "2022-02-03T03:06:27.384Z"
   },
   {
    "duration": 111,
    "start_time": "2022-02-03T03:06:30.127Z"
   },
   {
    "duration": 92,
    "start_time": "2022-02-03T03:06:30.239Z"
   },
   {
    "duration": 23,
    "start_time": "2022-02-03T03:06:30.333Z"
   },
   {
    "duration": 193,
    "start_time": "2022-02-03T03:06:30.358Z"
   },
   {
    "duration": 1269,
    "start_time": "2022-02-04T10:35:01.705Z"
   },
   {
    "duration": 148,
    "start_time": "2022-02-04T10:35:02.977Z"
   },
   {
    "duration": 110,
    "start_time": "2022-02-04T10:35:03.127Z"
   },
   {
    "duration": 26,
    "start_time": "2022-02-04T10:35:03.239Z"
   },
   {
    "duration": 250,
    "start_time": "2022-02-04T10:35:03.267Z"
   },
   {
    "duration": 3195,
    "start_time": "2022-02-04T10:35:03.518Z"
   },
   {
    "duration": 1249,
    "start_time": "2022-02-04T10:36:18.130Z"
   },
   {
    "duration": 418,
    "start_time": "2022-02-04T10:38:43.259Z"
   },
   {
    "duration": 310,
    "start_time": "2022-02-04T10:57:15.599Z"
   },
   {
    "duration": 535,
    "start_time": "2022-02-04T10:57:45.891Z"
   },
   {
    "duration": 288,
    "start_time": "2022-02-04T11:02:13.224Z"
   },
   {
    "duration": 18,
    "start_time": "2022-02-04T11:02:39.816Z"
   },
   {
    "duration": 17,
    "start_time": "2022-02-04T11:02:51.924Z"
   },
   {
    "duration": 332,
    "start_time": "2022-02-04T19:21:22.666Z"
   },
   {
    "duration": 1497,
    "start_time": "2022-02-04T19:21:30.946Z"
   },
   {
    "duration": 181,
    "start_time": "2022-02-04T19:21:32.446Z"
   },
   {
    "duration": 144,
    "start_time": "2022-02-04T19:21:32.630Z"
   },
   {
    "duration": 38,
    "start_time": "2022-02-04T19:21:32.777Z"
   },
   {
    "duration": 378,
    "start_time": "2022-02-04T19:21:32.818Z"
   },
   {
    "duration": 2109,
    "start_time": "2022-02-04T19:21:33.198Z"
   },
   {
    "duration": 22,
    "start_time": "2022-02-04T19:21:35.310Z"
   },
   {
    "duration": 725,
    "start_time": "2022-02-04T19:45:26.051Z"
   },
   {
    "duration": 325,
    "start_time": "2022-02-04T19:47:27.196Z"
   },
   {
    "duration": 450,
    "start_time": "2022-02-04T21:43:03.726Z"
   },
   {
    "duration": 354,
    "start_time": "2022-02-04T21:54:20.448Z"
   },
   {
    "duration": 98,
    "start_time": "2022-02-04T21:56:40.913Z"
   },
   {
    "duration": 408,
    "start_time": "2022-02-04T21:57:01.444Z"
   },
   {
    "duration": 736,
    "start_time": "2022-02-04T22:07:03.525Z"
   },
   {
    "duration": 728,
    "start_time": "2022-02-04T22:17:00.157Z"
   },
   {
    "duration": 712,
    "start_time": "2022-02-04T22:21:33.800Z"
   },
   {
    "duration": 659,
    "start_time": "2022-02-04T22:22:16.079Z"
   },
   {
    "duration": 914,
    "start_time": "2022-02-04T22:22:51.698Z"
   },
   {
    "duration": 1015,
    "start_time": "2022-02-04T22:24:34.393Z"
   },
   {
    "duration": 750,
    "start_time": "2022-02-04T22:25:25.462Z"
   },
   {
    "duration": 713,
    "start_time": "2022-02-04T22:25:54.723Z"
   },
   {
    "duration": 745,
    "start_time": "2022-02-04T22:27:35.674Z"
   },
   {
    "duration": 906,
    "start_time": "2022-02-04T22:29:37.748Z"
   },
   {
    "duration": 827,
    "start_time": "2022-02-04T22:31:54.434Z"
   },
   {
    "duration": 712,
    "start_time": "2022-02-04T22:34:11.584Z"
   },
   {
    "duration": 716,
    "start_time": "2022-02-04T22:34:50.148Z"
   },
   {
    "duration": 937,
    "start_time": "2022-02-04T22:39:17.291Z"
   },
   {
    "duration": 1137,
    "start_time": "2022-02-04T22:43:22.041Z"
   },
   {
    "duration": 832,
    "start_time": "2022-02-04T22:54:59.555Z"
   },
   {
    "duration": 915,
    "start_time": "2022-02-04T23:06:17.132Z"
   },
   {
    "duration": 888,
    "start_time": "2022-02-04T23:08:10.746Z"
   },
   {
    "duration": 754,
    "start_time": "2022-02-04T23:11:43.702Z"
   },
   {
    "duration": 827,
    "start_time": "2022-02-04T23:14:21.144Z"
   },
   {
    "duration": 1532,
    "start_time": "2022-02-04T23:24:38.554Z"
   },
   {
    "duration": 2132,
    "start_time": "2022-02-04T23:47:33.241Z"
   },
   {
    "duration": 2574,
    "start_time": "2022-02-05T00:56:13.244Z"
   },
   {
    "duration": 494,
    "start_time": "2022-02-05T01:36:11.818Z"
   },
   {
    "duration": 555,
    "start_time": "2022-02-05T01:38:33.900Z"
   },
   {
    "duration": 543,
    "start_time": "2022-02-05T01:43:32.250Z"
   },
   {
    "duration": 678,
    "start_time": "2022-02-05T01:47:56.327Z"
   },
   {
    "duration": 595,
    "start_time": "2022-02-05T02:18:18.799Z"
   },
   {
    "duration": 78,
    "start_time": "2022-02-05T02:40:58.311Z"
   },
   {
    "duration": 113,
    "start_time": "2022-02-05T02:41:29.270Z"
   },
   {
    "duration": 126,
    "start_time": "2022-02-05T02:41:38.191Z"
   },
   {
    "duration": 97,
    "start_time": "2022-02-05T02:41:53.608Z"
   },
   {
    "duration": 100,
    "start_time": "2022-02-05T02:42:13.356Z"
   },
   {
    "duration": 601,
    "start_time": "2022-02-05T02:43:01.999Z"
   },
   {
    "duration": 615,
    "start_time": "2022-02-05T02:49:57.762Z"
   },
   {
    "duration": 598,
    "start_time": "2022-02-05T02:50:53.632Z"
   },
   {
    "duration": 624,
    "start_time": "2022-02-05T02:51:59.286Z"
   },
   {
    "duration": 715,
    "start_time": "2022-02-05T02:53:08.924Z"
   },
   {
    "duration": 728,
    "start_time": "2022-02-05T02:53:30.196Z"
   },
   {
    "duration": 1090,
    "start_time": "2022-02-05T12:20:57.174Z"
   },
   {
    "duration": 108,
    "start_time": "2022-02-05T12:20:58.267Z"
   },
   {
    "duration": 80,
    "start_time": "2022-02-05T12:20:58.377Z"
   },
   {
    "duration": 32,
    "start_time": "2022-02-05T12:20:58.459Z"
   },
   {
    "duration": 205,
    "start_time": "2022-02-05T12:20:58.493Z"
   },
   {
    "duration": 1515,
    "start_time": "2022-02-05T12:20:58.700Z"
   },
   {
    "duration": 1281,
    "start_time": "2022-02-05T12:21:00.217Z"
   },
   {
    "duration": 424,
    "start_time": "2022-02-05T20:27:11.536Z"
   },
   {
    "duration": 347,
    "start_time": "2022-02-05T20:29:27.061Z"
   },
   {
    "duration": 10,
    "start_time": "2022-02-05T20:42:18.513Z"
   },
   {
    "duration": 4,
    "start_time": "2022-02-05T20:51:06.669Z"
   },
   {
    "duration": 11,
    "start_time": "2022-02-05T21:33:23.056Z"
   },
   {
    "duration": 9,
    "start_time": "2022-02-05T21:33:32.321Z"
   },
   {
    "duration": 10,
    "start_time": "2022-02-05T21:36:28.670Z"
   },
   {
    "duration": 9,
    "start_time": "2022-02-05T21:36:49.052Z"
   },
   {
    "duration": 16,
    "start_time": "2022-02-05T21:57:15.361Z"
   },
   {
    "duration": 9,
    "start_time": "2022-02-05T21:58:17.323Z"
   },
   {
    "duration": 100,
    "start_time": "2022-02-05T21:59:25.121Z"
   },
   {
    "duration": 7,
    "start_time": "2022-02-05T22:04:28.432Z"
   },
   {
    "duration": 100,
    "start_time": "2022-02-05T22:04:47.975Z"
   },
   {
    "duration": 7,
    "start_time": "2022-02-05T22:05:35.636Z"
   },
   {
    "duration": 6,
    "start_time": "2022-02-05T22:06:50.479Z"
   },
   {
    "duration": 8,
    "start_time": "2022-02-05T22:07:34.688Z"
   },
   {
    "duration": 113,
    "start_time": "2022-02-05T22:21:04.291Z"
   },
   {
    "duration": 105,
    "start_time": "2022-02-05T22:21:57.304Z"
   },
   {
    "duration": 11,
    "start_time": "2022-02-05T22:25:46.044Z"
   },
   {
    "duration": 10,
    "start_time": "2022-02-05T23:04:21.857Z"
   },
   {
    "duration": 7,
    "start_time": "2022-02-05T23:05:07.170Z"
   },
   {
    "duration": 10,
    "start_time": "2022-02-05T23:05:53.964Z"
   },
   {
    "duration": 2,
    "start_time": "2022-02-06T00:21:45.162Z"
   },
   {
    "duration": 292,
    "start_time": "2022-02-06T00:32:16.957Z"
   },
   {
    "duration": 113,
    "start_time": "2022-02-06T00:32:22.397Z"
   },
   {
    "duration": 44,
    "start_time": "2022-02-06T00:32:37.127Z"
   },
   {
    "duration": 1072,
    "start_time": "2022-02-06T02:06:03.425Z"
   },
   {
    "duration": 123,
    "start_time": "2022-02-06T02:06:04.499Z"
   },
   {
    "duration": 104,
    "start_time": "2022-02-06T02:06:04.624Z"
   },
   {
    "duration": 25,
    "start_time": "2022-02-06T02:06:04.731Z"
   },
   {
    "duration": 232,
    "start_time": "2022-02-06T02:06:04.758Z"
   },
   {
    "duration": 1490,
    "start_time": "2022-02-06T02:06:04.992Z"
   },
   {
    "duration": 716,
    "start_time": "2022-02-06T02:06:06.485Z"
   },
   {
    "duration": 486,
    "start_time": "2022-02-06T02:06:07.203Z"
   },
   {
    "duration": 9,
    "start_time": "2022-02-06T02:06:07.691Z"
   },
   {
    "duration": 9,
    "start_time": "2022-02-06T02:06:07.702Z"
   },
   {
    "duration": 1699,
    "start_time": "2022-02-12T17:54:29.501Z"
   },
   {
    "duration": 189,
    "start_time": "2022-02-12T17:54:31.203Z"
   },
   {
    "duration": 154,
    "start_time": "2022-02-12T17:54:31.395Z"
   },
   {
    "duration": 51,
    "start_time": "2022-02-12T17:54:31.553Z"
   },
   {
    "duration": 543,
    "start_time": "2022-02-12T17:54:31.607Z"
   },
   {
    "duration": 2733,
    "start_time": "2022-02-12T17:54:32.152Z"
   },
   {
    "duration": 1139,
    "start_time": "2022-02-12T17:54:34.888Z"
   },
   {
    "duration": 1428,
    "start_time": "2022-02-12T17:54:36.035Z"
   },
   {
    "duration": 16,
    "start_time": "2022-02-12T17:54:37.466Z"
   },
   {
    "duration": 20,
    "start_time": "2022-02-12T17:54:37.484Z"
   },
   {
    "duration": 51,
    "start_time": "2022-02-12T18:00:50.039Z"
   },
   {
    "duration": 36,
    "start_time": "2022-02-12T18:01:12.531Z"
   },
   {
    "duration": 368,
    "start_time": "2022-02-13T11:41:39.025Z"
   },
   {
    "duration": 1276,
    "start_time": "2022-02-13T11:41:48.462Z"
   },
   {
    "duration": 138,
    "start_time": "2022-02-13T11:41:49.742Z"
   },
   {
    "duration": 486,
    "start_time": "2022-02-13T11:41:49.882Z"
   },
   {
    "duration": 1773,
    "start_time": "2022-02-13T11:41:48.598Z"
   },
   {
    "duration": 1772,
    "start_time": "2022-02-13T11:41:48.600Z"
   },
   {
    "duration": 1772,
    "start_time": "2022-02-13T11:41:48.601Z"
   },
   {
    "duration": 1772,
    "start_time": "2022-02-13T11:41:48.603Z"
   },
   {
    "duration": 1771,
    "start_time": "2022-02-13T11:41:48.605Z"
   },
   {
    "duration": 1771,
    "start_time": "2022-02-13T11:41:48.606Z"
   },
   {
    "duration": 1771,
    "start_time": "2022-02-13T11:41:48.608Z"
   },
   {
    "duration": 13145,
    "start_time": "2022-02-13T11:54:41.924Z"
   },
   {
    "duration": 1139,
    "start_time": "2022-02-13T11:55:17.639Z"
   },
   {
    "duration": 126,
    "start_time": "2022-02-13T11:55:18.779Z"
   },
   {
    "duration": 95,
    "start_time": "2022-02-13T11:55:18.907Z"
   },
   {
    "duration": 26,
    "start_time": "2022-02-13T11:55:19.004Z"
   },
   {
    "duration": 203,
    "start_time": "2022-02-13T11:55:19.031Z"
   },
   {
    "duration": 1438,
    "start_time": "2022-02-13T11:55:19.235Z"
   },
   {
    "duration": 771,
    "start_time": "2022-02-13T11:55:20.676Z"
   },
   {
    "duration": 507,
    "start_time": "2022-02-13T11:55:21.449Z"
   },
   {
    "duration": 9,
    "start_time": "2022-02-13T11:55:21.958Z"
   },
   {
    "duration": 14,
    "start_time": "2022-02-13T11:55:21.968Z"
   },
   {
    "duration": 1035,
    "start_time": "2022-02-13T11:59:22.484Z"
   },
   {
    "duration": 107,
    "start_time": "2022-02-13T11:59:23.521Z"
   },
   {
    "duration": 101,
    "start_time": "2022-02-13T11:59:23.629Z"
   },
   {
    "duration": 28,
    "start_time": "2022-02-13T11:59:23.732Z"
   },
   {
    "duration": 215,
    "start_time": "2022-02-13T11:59:23.761Z"
   },
   {
    "duration": 1507,
    "start_time": "2022-02-13T11:59:23.977Z"
   },
   {
    "duration": 769,
    "start_time": "2022-02-13T11:59:25.485Z"
   },
   {
    "duration": 654,
    "start_time": "2022-02-13T11:59:26.257Z"
   },
   {
    "duration": 15,
    "start_time": "2022-02-13T11:59:26.913Z"
   },
   {
    "duration": 9,
    "start_time": "2022-02-13T11:59:26.929Z"
   },
   {
    "duration": 1137,
    "start_time": "2022-02-13T12:02:01.107Z"
   },
   {
    "duration": 114,
    "start_time": "2022-02-13T12:02:02.245Z"
   },
   {
    "duration": 423,
    "start_time": "2022-02-13T12:02:02.361Z"
   },
   {
    "duration": 1786,
    "start_time": "2022-02-13T12:02:01.000Z"
   },
   {
    "duration": 1784,
    "start_time": "2022-02-13T12:02:01.002Z"
   },
   {
    "duration": 1784,
    "start_time": "2022-02-13T12:02:01.003Z"
   },
   {
    "duration": 1783,
    "start_time": "2022-02-13T12:02:01.005Z"
   },
   {
    "duration": 1784,
    "start_time": "2022-02-13T12:02:01.006Z"
   },
   {
    "duration": 1783,
    "start_time": "2022-02-13T12:02:01.008Z"
   },
   {
    "duration": 1783,
    "start_time": "2022-02-13T12:02:01.009Z"
   },
   {
    "duration": 1117,
    "start_time": "2022-02-13T12:08:00.376Z"
   },
   {
    "duration": 115,
    "start_time": "2022-02-13T12:08:01.497Z"
   },
   {
    "duration": 546,
    "start_time": "2022-02-13T12:08:01.614Z"
   },
   {
    "duration": 1790,
    "start_time": "2022-02-13T12:08:00.372Z"
   },
   {
    "duration": 1790,
    "start_time": "2022-02-13T12:08:00.374Z"
   },
   {
    "duration": 1790,
    "start_time": "2022-02-13T12:08:00.375Z"
   },
   {
    "duration": 1789,
    "start_time": "2022-02-13T12:08:00.377Z"
   },
   {
    "duration": 1790,
    "start_time": "2022-02-13T12:08:00.378Z"
   },
   {
    "duration": 1789,
    "start_time": "2022-02-13T12:08:00.380Z"
   },
   {
    "duration": 1788,
    "start_time": "2022-02-13T12:08:00.382Z"
   },
   {
    "duration": 8069,
    "start_time": "2022-02-13T12:10:27.079Z"
   },
   {
    "duration": 1053,
    "start_time": "2022-02-13T12:11:03.248Z"
   },
   {
    "duration": 105,
    "start_time": "2022-02-13T12:11:04.305Z"
   },
   {
    "duration": 102,
    "start_time": "2022-02-13T12:11:04.412Z"
   },
   {
    "duration": 392,
    "start_time": "2022-02-13T12:11:04.515Z"
   },
   {
    "duration": 1805,
    "start_time": "2022-02-13T12:11:03.104Z"
   },
   {
    "duration": 1804,
    "start_time": "2022-02-13T12:11:03.106Z"
   },
   {
    "duration": 1804,
    "start_time": "2022-02-13T12:11:03.107Z"
   },
   {
    "duration": 1803,
    "start_time": "2022-02-13T12:11:03.109Z"
   },
   {
    "duration": 1803,
    "start_time": "2022-02-13T12:11:03.110Z"
   },
   {
    "duration": 1802,
    "start_time": "2022-02-13T12:11:03.112Z"
   },
   {
    "duration": 8344,
    "start_time": "2022-02-13T12:13:05.272Z"
   },
   {
    "duration": 1086,
    "start_time": "2022-02-13T12:14:22.595Z"
   },
   {
    "duration": 106,
    "start_time": "2022-02-13T12:14:23.686Z"
   },
   {
    "duration": 111,
    "start_time": "2022-02-13T12:14:23.794Z"
   },
   {
    "duration": 379,
    "start_time": "2022-02-13T12:14:23.907Z"
   },
   {
    "duration": 1797,
    "start_time": "2022-02-13T12:14:22.491Z"
   },
   {
    "duration": 1796,
    "start_time": "2022-02-13T12:14:22.493Z"
   },
   {
    "duration": 1796,
    "start_time": "2022-02-13T12:14:22.494Z"
   },
   {
    "duration": 1796,
    "start_time": "2022-02-13T12:14:22.496Z"
   },
   {
    "duration": 1796,
    "start_time": "2022-02-13T12:14:22.497Z"
   },
   {
    "duration": 1796,
    "start_time": "2022-02-13T12:14:22.498Z"
   },
   {
    "duration": 1053,
    "start_time": "2022-02-13T12:18:06.469Z"
   },
   {
    "duration": 109,
    "start_time": "2022-02-13T12:18:07.527Z"
   },
   {
    "duration": 419,
    "start_time": "2022-02-13T12:18:07.638Z"
   },
   {
    "duration": 1757,
    "start_time": "2022-02-13T12:18:06.302Z"
   },
   {
    "duration": 1521,
    "start_time": "2022-02-13T12:18:06.539Z"
   },
   {
    "duration": 1517,
    "start_time": "2022-02-13T12:18:06.544Z"
   },
   {
    "duration": 1517,
    "start_time": "2022-02-13T12:18:06.545Z"
   },
   {
    "duration": 1515,
    "start_time": "2022-02-13T12:18:06.547Z"
   },
   {
    "duration": 1515,
    "start_time": "2022-02-13T12:18:06.548Z"
   },
   {
    "duration": 1514,
    "start_time": "2022-02-13T12:18:06.550Z"
   },
   {
    "duration": 1064,
    "start_time": "2022-02-13T12:19:40.927Z"
   },
   {
    "duration": 113,
    "start_time": "2022-02-13T12:19:41.993Z"
   },
   {
    "duration": 73,
    "start_time": "2022-02-13T12:19:42.108Z"
   },
   {
    "duration": 351,
    "start_time": "2022-02-13T12:19:42.183Z"
   },
   {
    "duration": 1776,
    "start_time": "2022-02-13T12:19:40.760Z"
   },
   {
    "duration": 1776,
    "start_time": "2022-02-13T12:19:40.762Z"
   },
   {
    "duration": 1775,
    "start_time": "2022-02-13T12:19:40.764Z"
   },
   {
    "duration": 1775,
    "start_time": "2022-02-13T12:19:40.765Z"
   },
   {
    "duration": 1774,
    "start_time": "2022-02-13T12:19:40.767Z"
   },
   {
    "duration": 1775,
    "start_time": "2022-02-13T12:19:40.768Z"
   },
   {
    "duration": 1140,
    "start_time": "2022-02-13T12:23:52.891Z"
   },
   {
    "duration": 151,
    "start_time": "2022-02-13T12:23:54.033Z"
   },
   {
    "duration": 599,
    "start_time": "2022-02-13T12:23:54.186Z"
   },
   {
    "duration": 1798,
    "start_time": "2022-02-13T12:23:52.990Z"
   },
   {
    "duration": 1798,
    "start_time": "2022-02-13T12:23:52.991Z"
   },
   {
    "duration": 1798,
    "start_time": "2022-02-13T12:23:52.992Z"
   },
   {
    "duration": 1797,
    "start_time": "2022-02-13T12:23:52.994Z"
   },
   {
    "duration": 1796,
    "start_time": "2022-02-13T12:23:52.996Z"
   },
   {
    "duration": 1796,
    "start_time": "2022-02-13T12:23:52.997Z"
   },
   {
    "duration": 1796,
    "start_time": "2022-02-13T12:23:52.998Z"
   },
   {
    "duration": 1363,
    "start_time": "2022-02-13T12:26:07.535Z"
   },
   {
    "duration": 109,
    "start_time": "2022-02-13T12:26:08.900Z"
   },
   {
    "duration": 470,
    "start_time": "2022-02-13T12:26:09.012Z"
   },
   {
    "duration": 1812,
    "start_time": "2022-02-13T12:26:07.672Z"
   },
   {
    "duration": 1811,
    "start_time": "2022-02-13T12:26:07.674Z"
   },
   {
    "duration": 1807,
    "start_time": "2022-02-13T12:26:07.679Z"
   },
   {
    "duration": 1806,
    "start_time": "2022-02-13T12:26:07.681Z"
   },
   {
    "duration": 1805,
    "start_time": "2022-02-13T12:26:07.682Z"
   },
   {
    "duration": 1805,
    "start_time": "2022-02-13T12:26:07.683Z"
   },
   {
    "duration": 1804,
    "start_time": "2022-02-13T12:26:07.685Z"
   },
   {
    "duration": 1065,
    "start_time": "2022-02-13T12:27:32.034Z"
   },
   {
    "duration": 108,
    "start_time": "2022-02-13T12:27:33.101Z"
   },
   {
    "duration": 104,
    "start_time": "2022-02-13T12:27:33.212Z"
   },
   {
    "duration": 29,
    "start_time": "2022-02-13T12:27:33.318Z"
   },
   {
    "duration": 210,
    "start_time": "2022-02-13T12:27:33.349Z"
   },
   {
    "duration": 1441,
    "start_time": "2022-02-13T12:27:33.561Z"
   },
   {
    "duration": 849,
    "start_time": "2022-02-13T12:27:35.003Z"
   },
   {
    "duration": 504,
    "start_time": "2022-02-13T12:27:35.855Z"
   },
   {
    "duration": 9,
    "start_time": "2022-02-13T12:27:36.361Z"
   },
   {
    "duration": 11,
    "start_time": "2022-02-13T12:27:36.372Z"
   },
   {
    "duration": 13,
    "start_time": "2022-02-13T12:42:24.062Z"
   },
   {
    "duration": 1048,
    "start_time": "2022-02-13T12:43:54.538Z"
   },
   {
    "duration": 103,
    "start_time": "2022-02-13T12:43:55.588Z"
   },
   {
    "duration": 374,
    "start_time": "2022-02-13T12:43:55.693Z"
   },
   {
    "duration": 1829,
    "start_time": "2022-02-13T12:43:54.240Z"
   },
   {
    "duration": 1817,
    "start_time": "2022-02-13T12:43:54.253Z"
   },
   {
    "duration": 1815,
    "start_time": "2022-02-13T12:43:54.256Z"
   },
   {
    "duration": 1815,
    "start_time": "2022-02-13T12:43:54.258Z"
   },
   {
    "duration": 1815,
    "start_time": "2022-02-13T12:43:54.259Z"
   },
   {
    "duration": 1814,
    "start_time": "2022-02-13T12:43:54.261Z"
   },
   {
    "duration": 1814,
    "start_time": "2022-02-13T12:43:54.263Z"
   },
   {
    "duration": 1813,
    "start_time": "2022-02-13T12:43:54.265Z"
   },
   {
    "duration": 1160,
    "start_time": "2022-02-13T12:45:03.826Z"
   },
   {
    "duration": 113,
    "start_time": "2022-02-13T12:45:04.988Z"
   },
   {
    "duration": 25,
    "start_time": "2022-02-13T12:45:05.103Z"
   },
   {
    "duration": 90,
    "start_time": "2022-02-13T12:45:05.129Z"
   },
   {
    "duration": 22,
    "start_time": "2022-02-13T12:45:05.227Z"
   },
   {
    "duration": 217,
    "start_time": "2022-02-13T12:45:05.251Z"
   },
   {
    "duration": 1424,
    "start_time": "2022-02-13T12:45:05.469Z"
   },
   {
    "duration": 752,
    "start_time": "2022-02-13T12:45:06.895Z"
   },
   {
    "duration": 593,
    "start_time": "2022-02-13T12:45:07.649Z"
   },
   {
    "duration": 9,
    "start_time": "2022-02-13T12:45:08.244Z"
   },
   {
    "duration": 12,
    "start_time": "2022-02-13T12:45:08.254Z"
   },
   {
    "duration": 14,
    "start_time": "2022-02-13T13:02:02.250Z"
   },
   {
    "duration": 1061,
    "start_time": "2022-02-13T13:02:11.967Z"
   },
   {
    "duration": 110,
    "start_time": "2022-02-13T13:02:13.032Z"
   },
   {
    "duration": 14,
    "start_time": "2022-02-13T13:02:13.144Z"
   },
   {
    "duration": 106,
    "start_time": "2022-02-13T13:02:13.160Z"
   },
   {
    "duration": 23,
    "start_time": "2022-02-13T13:02:13.267Z"
   },
   {
    "duration": 208,
    "start_time": "2022-02-13T13:02:13.291Z"
   },
   {
    "duration": 1460,
    "start_time": "2022-02-13T13:02:13.501Z"
   },
   {
    "duration": 816,
    "start_time": "2022-02-13T13:02:14.963Z"
   },
   {
    "duration": 560,
    "start_time": "2022-02-13T13:02:15.781Z"
   },
   {
    "duration": 9,
    "start_time": "2022-02-13T13:02:16.342Z"
   },
   {
    "duration": 11,
    "start_time": "2022-02-13T13:02:16.352Z"
   },
   {
    "duration": 1064,
    "start_time": "2022-02-13T13:03:51.639Z"
   },
   {
    "duration": 104,
    "start_time": "2022-02-13T13:03:52.705Z"
   },
   {
    "duration": 17,
    "start_time": "2022-02-13T13:03:52.811Z"
   },
   {
    "duration": 91,
    "start_time": "2022-02-13T13:03:52.829Z"
   },
   {
    "duration": 22,
    "start_time": "2022-02-13T13:03:52.927Z"
   },
   {
    "duration": 203,
    "start_time": "2022-02-13T13:03:52.951Z"
   },
   {
    "duration": 1429,
    "start_time": "2022-02-13T13:03:53.155Z"
   },
   {
    "duration": 750,
    "start_time": "2022-02-13T13:03:54.586Z"
   },
   {
    "duration": 541,
    "start_time": "2022-02-13T13:03:55.338Z"
   },
   {
    "duration": 9,
    "start_time": "2022-02-13T13:03:55.880Z"
   },
   {
    "duration": 9,
    "start_time": "2022-02-13T13:03:55.890Z"
   },
   {
    "duration": 1087,
    "start_time": "2022-02-13T13:04:39.035Z"
   },
   {
    "duration": 107,
    "start_time": "2022-02-13T13:04:40.124Z"
   },
   {
    "duration": 8,
    "start_time": "2022-02-13T13:04:40.233Z"
   },
   {
    "duration": 101,
    "start_time": "2022-02-13T13:04:40.242Z"
   },
   {
    "duration": 23,
    "start_time": "2022-02-13T13:04:40.345Z"
   },
   {
    "duration": 215,
    "start_time": "2022-02-13T13:04:40.369Z"
   },
   {
    "duration": 1416,
    "start_time": "2022-02-13T13:04:40.585Z"
   },
   {
    "duration": 738,
    "start_time": "2022-02-13T13:04:42.003Z"
   },
   {
    "duration": 508,
    "start_time": "2022-02-13T13:04:42.743Z"
   },
   {
    "duration": 8,
    "start_time": "2022-02-13T13:04:43.253Z"
   },
   {
    "duration": 15,
    "start_time": "2022-02-13T13:04:43.263Z"
   },
   {
    "duration": 1091,
    "start_time": "2022-02-13T13:14:05.090Z"
   },
   {
    "duration": 108,
    "start_time": "2022-02-13T13:14:06.183Z"
   },
   {
    "duration": 8,
    "start_time": "2022-02-13T13:14:06.293Z"
   },
   {
    "duration": 106,
    "start_time": "2022-02-13T13:14:06.302Z"
   },
   {
    "duration": 26,
    "start_time": "2022-02-13T13:14:06.410Z"
   },
   {
    "duration": 201,
    "start_time": "2022-02-13T13:14:06.438Z"
   },
   {
    "duration": 1406,
    "start_time": "2022-02-13T13:14:06.641Z"
   },
   {
    "duration": 702,
    "start_time": "2022-02-13T13:14:08.049Z"
   },
   {
    "duration": 522,
    "start_time": "2022-02-13T13:14:08.752Z"
   },
   {
    "duration": 9,
    "start_time": "2022-02-13T13:14:09.276Z"
   },
   {
    "duration": 18,
    "start_time": "2022-02-13T13:14:09.286Z"
   },
   {
    "duration": 131,
    "start_time": "2022-02-13T13:58:46.140Z"
   },
   {
    "duration": 121,
    "start_time": "2022-02-13T14:11:19.349Z"
   },
   {
    "duration": 1299,
    "start_time": "2022-02-13T14:12:12.000Z"
   },
   {
    "duration": 1446,
    "start_time": "2022-02-13T14:15:12.637Z"
   },
   {
    "duration": 1284,
    "start_time": "2022-02-13T14:21:25.638Z"
   },
   {
    "duration": 1391,
    "start_time": "2022-02-13T14:24:37.168Z"
   },
   {
    "duration": 156,
    "start_time": "2022-02-13T14:32:36.518Z"
   },
   {
    "duration": 121,
    "start_time": "2022-02-13T14:43:01.382Z"
   },
   {
    "duration": 1121,
    "start_time": "2022-02-13T14:51:10.792Z"
   },
   {
    "duration": 120,
    "start_time": "2022-02-13T14:51:11.915Z"
   },
   {
    "duration": 9,
    "start_time": "2022-02-13T14:51:12.040Z"
   },
   {
    "duration": 115,
    "start_time": "2022-02-13T14:51:12.051Z"
   },
   {
    "duration": 9,
    "start_time": "2022-02-13T14:51:12.168Z"
   },
   {
    "duration": 217,
    "start_time": "2022-02-13T14:51:12.178Z"
   },
   {
    "duration": 1473,
    "start_time": "2022-02-13T14:51:12.397Z"
   },
   {
    "duration": 803,
    "start_time": "2022-02-13T14:51:13.871Z"
   },
   {
    "duration": 650,
    "start_time": "2022-02-13T14:51:14.675Z"
   },
   {
    "duration": 12,
    "start_time": "2022-02-13T14:51:15.326Z"
   },
   {
    "duration": 16,
    "start_time": "2022-02-13T14:51:15.340Z"
   },
   {
    "duration": 217,
    "start_time": "2022-02-13T14:55:57.321Z"
   },
   {
    "duration": 8121,
    "start_time": "2022-02-13T14:56:28.061Z"
   },
   {
    "duration": 1128,
    "start_time": "2022-02-13T14:57:04.584Z"
   },
   {
    "duration": 114,
    "start_time": "2022-02-13T14:57:05.714Z"
   },
   {
    "duration": 11,
    "start_time": "2022-02-13T14:57:05.831Z"
   },
   {
    "duration": 113,
    "start_time": "2022-02-13T14:57:05.844Z"
   },
   {
    "duration": 9,
    "start_time": "2022-02-13T14:57:05.958Z"
   },
   {
    "duration": 222,
    "start_time": "2022-02-13T14:57:05.969Z"
   },
   {
    "duration": 1665,
    "start_time": "2022-02-13T14:57:06.193Z"
   },
   {
    "duration": 726,
    "start_time": "2022-02-13T14:57:07.860Z"
   },
   {
    "duration": 718,
    "start_time": "2022-02-13T14:57:08.588Z"
   },
   {
    "duration": 10,
    "start_time": "2022-02-13T14:57:09.307Z"
   },
   {
    "duration": 19,
    "start_time": "2022-02-13T14:57:09.318Z"
   },
   {
    "duration": 1112,
    "start_time": "2022-02-14T11:34:35.647Z"
   },
   {
    "duration": 117,
    "start_time": "2022-02-14T11:34:36.760Z"
   },
   {
    "duration": 9,
    "start_time": "2022-02-14T11:34:36.879Z"
   },
   {
    "duration": 117,
    "start_time": "2022-02-14T11:34:36.890Z"
   },
   {
    "duration": 9,
    "start_time": "2022-02-14T11:34:37.009Z"
   },
   {
    "duration": 221,
    "start_time": "2022-02-14T11:34:37.020Z"
   },
   {
    "duration": 1617,
    "start_time": "2022-02-14T11:34:37.243Z"
   },
   {
    "duration": 786,
    "start_time": "2022-02-14T11:34:38.863Z"
   },
   {
    "duration": 710,
    "start_time": "2022-02-14T11:34:39.650Z"
   },
   {
    "duration": 10,
    "start_time": "2022-02-14T11:34:40.362Z"
   },
   {
    "duration": 24,
    "start_time": "2022-02-14T11:34:40.373Z"
   }
  ],
  "kernelspec": {
   "display_name": "Python 3 (ipykernel)",
   "language": "python",
   "name": "python3"
  },
  "language_info": {
   "codemirror_mode": {
    "name": "ipython",
    "version": 3
   },
   "file_extension": ".py",
   "mimetype": "text/x-python",
   "name": "python",
   "nbconvert_exporter": "python",
   "pygments_lexer": "ipython3",
   "version": "3.9.5"
  },
  "toc": {
   "base_numbering": 1,
   "nav_menu": {},
   "number_sections": true,
   "sideBar": true,
   "skip_h1_title": true,
   "title_cell": "Содержание",
   "title_sidebar": "Содержание",
   "toc_cell": true,
   "toc_position": {
    "height": "calc(100% - 180px)",
    "left": "10px",
    "top": "150px",
    "width": "255.594px"
   },
   "toc_section_display": true,
   "toc_window_display": false
  }
 },
 "nbformat": 4,
 "nbformat_minor": 2
}
